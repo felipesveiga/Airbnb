{
 "cells": [
  {
   "cell_type": "code",
   "execution_count": null,
   "id": "8d5de00c-b255-4e28-9a85-b3127408d011",
   "metadata": {},
   "outputs": [],
   "source": [
    "# https://data.boston.gov/dataset/neighborhood-demographics"
   ]
  },
  {
   "cell_type": "code",
   "execution_count": 16,
   "id": "bd868588-4e54-4e5f-8bf9-dc9a5a57abd9",
   "metadata": {},
   "outputs": [],
   "source": [
    "import pandas as pd\n",
    "from selenium import webdriver\n",
    "import os\n",
    "import time\n",
    "from selenium.webdriver.common.keys import Keys\n",
    "from selenium.webdriver.common.by import By\n",
    "from selenium.webdriver.support.ui import WebDriverWait\n",
    "from selenium.webdriver.support import expected_conditions as EC\n",
    "import re"
   ]
  },
  {
   "cell_type": "code",
   "execution_count": 9,
   "id": "d653bf2d-910b-4b84-a36d-c6ae3fb580c6",
   "metadata": {},
   "outputs": [],
   "source": [
    "dwellings = pd.read_csv('listings.csv')\n",
    "pd.set_option('max_columns', len(dwellings.columns))\n"
   ]
  },
  {
   "cell_type": "code",
   "execution_count": 23,
   "id": "fb0500a7-219d-435a-93f6-4d93b7c90df1",
   "metadata": {},
   "outputs": [
    {
     "data": {
      "text/plain": [
       "'Boston, MA; Roslindale, MA; Roslindale, Boston, MA; Jamaica Plain, MA; Brookline, MA; Jamaica Plain, Boston, MA; Jamaica Plain (Boston), MA; Roxbury Crossing, MA; Jamaica Plain , MA; Jamaica Plain, MA, MA; Boston (Jamaica Plain), MA; Jamaica plain , MA; ROXBURY CROSSING, MA; Mission Hill, Boston, MA; boston, MA; 波士顿, MA; Boston, Massachusetts, US, MA; South End, Boston, MA; Cambridge, MA; East Boston, MA; east Boston , MA; Charlestown, MA; Boston (Charlestown), MA; Somerville, MA; Watertown, MA; Brighton, MA; Brighton , MA; Boston , MA; MA; West Roxbury, MA; Newton, MA; Hyde Park, MA; Mattapan, MA; Milton, MA; Dorchester, MA; dorchester, boston , MA; South Boston, MA; Allston, MA; ALLSTON, MA'"
      ]
     },
     "execution_count": 23,
     "metadata": {},
     "output_type": "execute_result"
    }
   ],
   "source": [
    "'; '.join(dwellings['smart_location'].unique())"
   ]
  },
  {
   "cell_type": "code",
   "execution_count": 37,
   "id": "70c7a4b8-a74f-4ddb-b5e6-ff704b233937",
   "metadata": {},
   "outputs": [
    {
     "name": "stdout",
     "output_type": "stream",
     "text": [
      "Boston\n",
      "Roslindale\n",
      "Roslindale\n",
      "Jamaica Plain\n",
      "Brookline\n",
      "Jamaica Plain\n",
      "Roxbury Crossing\n",
      "Jamaica Plain \n",
      "Jamaica Plain\n",
      "Jamaica plain \n",
      "ROXBURY CROSSING\n",
      "Mission Hill\n",
      "boston\n",
      "波士顿\n",
      "Boston\n",
      "South End\n",
      "Cambridge\n",
      "East Boston\n",
      "east Boston \n",
      "Charlestown\n",
      "Somerville\n",
      "Watertown\n",
      "Brighton\n",
      "Brighton \n",
      "Boston \n",
      "West Roxbury\n",
      "Newton\n",
      "Hyde Park\n",
      "Mattapan\n",
      "Milton\n",
      "Dorchester\n",
      "dorchester\n",
      "South Boston\n",
      "Allston\n"
     ]
    }
   ],
   "source": [
    "# Separando os dados da coluna 'smart_location'. Existem algumas colunas com (BAIRRO, ESTADO); outras com\n",
    "                                                                        # (BAIRRO, CIDADE, ESTADO)...\n",
    "import re\n",
    "#pattern = '([\\w]+)([,\\w]+)?,([\\w{2};])'\n",
    "pattern = '([\\w ]+)([\\w ,]+)?, (\\w{2});'\n",
    "districts = ';'.join(dwellings['smart_location'].unique())\n",
    "for first, second, third in re.findall(pattern, districts):\n",
    "    print(first)"
   ]
  },
  {
   "cell_type": "markdown",
   "id": "9bb7085e-ee9b-44ab-a5dd-38eca84861c2",
   "metadata": {},
   "source": [
    "<p style = 'font-size:40px'> 1) Casas sem bairro.</p>"
   ]
  },
  {
   "cell_type": "code",
   "execution_count": 44,
   "id": "a8d618a8-a106-4371-9824-e655354a77a7",
   "metadata": {},
   "outputs": [
    {
     "name": "stdout",
     "output_type": "stream",
     "text": [
      "environ({'TERM_PROGRAM': 'Apple_Terminal', 'TERM': 'xterm-color', 'SHELL': '/bin/bash', 'TMPDIR': '/var/folders/x3/9ms4m5jd6t378j0s_mcc5j7h0000gq/T/', 'CONDA_SHLVL': '1', 'CONDA_PROMPT_MODIFIER': '(base) ', 'TERM_PROGRAM_VERSION': '433', 'MOT_24': 'weareliverpool2410', 'TERM_SESSION_ID': '075201FB-2012-40C7-AA6C-49F0D88FF3EF', 'EMAIL_24': 'felipeveiga2410@gmail.com', 'USER': 'felipeveiga', 'CONDA_EXE': '/Users/felipeveiga/opt/anaconda3/bin/conda', 'KINDLE_2': 'roberto_veiga_f0e86f@kindle.com', 'EMAIL_USER': 'felipesveiga@gmail.com', 'MOT_SP': 'Dudu0603!', 'SSH_AUTH_SOCK': '/private/tmp/com.apple.launchd.UaOYteC47k/Listeners', 'KINDLE_1': 'roberto_veiga_21162a@kindle.com', '_CE_CONDA': '', 'PATH': '/Users/felipeveiga/opt/anaconda3/bin:/Users/felipeveiga/opt/anaconda3/condabin:/usr/local/bin:/usr/bin:/bin:/usr/sbin:/sbin:/opt/X11/bin', 'LaunchInstanceID': '4C757BBD-F91B-4BEF-83A1-80D6163B087D', 'CONDA_PREFIX': '/Users/felipeveiga/opt/anaconda3', 'PWD': '/Users/felipeveiga/Documents/Jupyter USP', 'EMAIL_SP': 'felipesveiga@usp.br', 'XPC_FLAGS': '0x0', 'MOT_USER': 'dudu0603', '_CE_M': '', 'XPC_SERVICE_NAME': '0', 'HOME': '/Users/felipeveiga', 'SHLVL': '1', 'CONDA_PYTHON_EXE': '/Users/felipeveiga/opt/anaconda3/bin/python', 'LOGNAME': 'felipeveiga', 'LC_CTYPE': 'UTF-8', 'CONDA_DEFAULT_ENV': 'base', 'DISPLAY': '/private/tmp/com.apple.launchd.3sKL3CaNbz/org.xquartz:0', 'SECURITYSESSIONID': '19034', '_': '/Users/felipeveiga/opt/anaconda3/bin/jupyter-lab', 'JPY_PARENT_PID': '86508', 'CLICOLOR': '1', 'PAGER': 'cat', 'GIT_PAGER': 'cat', 'MPLBACKEND': 'module://ipykernel.pylab.backend_inline'})\n"
     ]
    }
   ],
   "source": [
    "from selenium import webdriver\n",
    "import os\n",
    "\n",
    "PATH = '/Users/felipeveiga/Documents/Jupyter USP/Chrome Driver'\n",
    "#driver = webdriver.Chrome()\n",
    "print(os.environ)"
   ]
  },
  {
   "cell_type": "code",
   "execution_count": 26,
   "id": "2f9b7f27-5cab-4db3-9f22-6b8e0fea3754",
   "metadata": {},
   "outputs": [
    {
     "name": "stdout",
     "output_type": "stream",
     "text": [
      "Roslindale\n"
     ]
    }
   ],
   "source": [
    "\n",
    "PATH = '/Users/felipeveiga/Documents/Jupyter USP/Chrome Driver/chromedriver'\n",
    "driver = webdriver.Chrome(PATH)\n",
    "\n",
    "driver.get('https://duckduckgo.com/')\n",
    "search = driver.find_element_by_id('search_form_input_homepage')\n",
    "search.send_keys('street7 Kittredge Street, Boston, MA 02131, United States')\n",
    "search.send_keys(Keys.RETURN)\n",
    "\n",
    "# Para evitar isso, podemos utilizar o seguinte código, disponível na documentação do selenium.\n",
    "try:\n",
    "    address = WebDriverWait(driver, 10).until(\n",
    "        EC.presence_of_element_located((By.CLASS_NAME, \"address-detail__address\"))\n",
    "    )\n",
    "    pattern = '([A-z]+),'\n",
    "    address_text = address.text\n",
    "    print(re.findall(pattern, address_text)[0])\n",
    "finally:\n",
    "    driver.quit()\n",
    "    \n"
   ]
  },
  {
   "cell_type": "code",
   "execution_count": 23,
   "id": "1a3dacd2-2aaf-4478-8591-c491363b298f",
   "metadata": {},
   "outputs": [
    {
     "data": {
      "text/plain": [
       "3                  NaN\n",
       "162                NaN\n",
       "226                NaN\n",
       "494                NaN\n",
       "655                NaN\n",
       "740                NaN\n",
       "948                NaN\n",
       "1150               NaN\n",
       "1291               NaN\n",
       "1385               NaN\n",
       "1473               NaN\n",
       "1557               NaN\n",
       "1601               NaN\n",
       "1631               NaN\n",
       "1662               NaN\n",
       "2033               NaN\n",
       "2151               NaN\n",
       "2242               NaN\n",
       "2298               NaN\n",
       "2299    Fenway/Kenmore\n",
       "2545               NaN\n",
       "2550               NaN\n",
       "2805               NaN\n",
       "2932               NaN\n",
       "2963               NaN\n",
       "3058               NaN\n",
       "3117               NaN\n",
       "3194               NaN\n",
       "3477               NaN\n",
       "3557               NaN\n",
       "Name: neighbourhood, dtype: object"
      ]
     },
     "execution_count": 23,
     "metadata": {},
     "output_type": "execute_result"
    }
   ],
   "source": [
    "# Casas sem bairro cujo endereço é 'Boston, MA, United States'\n",
    "# Descobrir bairro pelo zipcode\n",
    "airbnb = pd.read_csv('listings.csv')\n",
    "#airbnb[airbnb['space'] == 'NaN']\n",
    "a = airbnb[(airbnb['street'] == 'Boston, MA, United States') & (airbnb['neighbourhood'].isnull())]['neighbourhood']\n",
    "a = airbnb[airbnb['street'] == 'Boston, MA, United States']['neighbourhood']\n",
    "a"
   ]
  },
  {
   "cell_type": "code",
   "execution_count": 114,
   "id": "14dbabcb-0c3e-4d34-a448-deb2396efbdf",
   "metadata": {},
   "outputs": [
    {
     "name": "stdout",
     "output_type": "stream",
     "text": [
      "{'Boston, MA, United States', 'Boston, MA 02115, United States', 'Boston, MA 02135, United States'}\n"
     ]
    }
   ],
   "source": [
    "# COMEÇAR POR AQUI!\n",
    "# Identificando as casas que possuem o nome da cidade no lugar da rua em 'street'. \n",
    "import pandas as pd\n",
    "import numpy as np\n",
    "airbnb = pd.read_csv('listings.csv')\n",
    "pattern = '^Boston,'\n",
    "#airbnb[airbnb['space'] == 'NaN']\n",
    "a = airbnb[(airbnb['neighbourhood'].isnull())]['street']\n",
    "l = []\n",
    "for street in a:\n",
    "    if re.search(pattern, street):\n",
    "        l.append(street) \n",
    "        \n",
    "# Temos todos as casas com os nomes de suas ruas com o nome inválido. Agora, podemos mandar o Python excluí-las do DF.\n",
    "l = set(l) \n",
    "print(l)"
   ]
  },
  {
   "cell_type": "code",
   "execution_count": 118,
   "id": "b16aa43a-d004-44ff-9547-959370048420",
   "metadata": {},
   "outputs": [],
   "source": [
    "# Filtrando as casas indesejadas de nosso DF.\n",
    "airbnb = (airbnb[(airbnb['street'] != 'Boston, MA, United States')\n",
    "    | (airbnb['street'] != 'Boston, MA 02115, United States')\n",
    "    | (airbnb['street']!= 'Boston, MA 02135, United States')])"
   ]
  },
  {
   "cell_type": "code",
   "execution_count": 98,
   "id": "99e4889e-845e-434e-9ee4-c3baaafde26f",
   "metadata": {
    "tags": []
   },
   "outputs": [
    {
     "name": "stdout",
     "output_type": "stream",
     "text": [
      "Boston, MA, United States\n",
      "Boston, MA, United States\n",
      "Boston, MA, United States\n",
      "Boston, MA, United States\n",
      "Boston, MA, United States\n",
      "Boston, MA, United States\n",
      "Boston, MA, United States\n",
      "Boston, MA, United States\n",
      "Boston, MA, United States\n",
      "Boston, MA, United States\n",
      "Boston, MA, United States\n",
      "Boston, MA, United States\n",
      "Boston, MA, United States\n",
      "Boston, MA, United States\n",
      "Boston, MA, United States\n",
      "Boston, MA, United States\n",
      "Boston, MA, United States\n",
      "Boston, MA, United States\n",
      "Boston, MA 02115, United States\n",
      "Boston, MA, United States\n",
      "Boston, MA, United States\n",
      "Boston, MA, United States\n",
      "Boston, MA, United States\n",
      "Boston, MA, United States\n",
      "Boston, MA, United States\n",
      "Boston, MA, United States\n",
      "Boston, MA, United States\n",
      "Boston, MA, United States\n",
      "Boston, MA 02135, United States\n",
      "Boston, MA, United States\n",
      "Boston, MA, United States\n"
     ]
    }
   ],
   "source": [
    "# Falta eu aprender a retornar a página da onde eu iniciei a consulta! COntinuar o tutorial do Tech With Tim!\n",
    "import pandas as pd\n",
    "import numpy as np\n",
    "airbnb = pd.read_csv('listings.csv')\n",
    "pattern = '^Boston,'\n",
    "#airbnb[airbnb['space'] == 'NaN']\n",
    "a = airbnb[(airbnb['neighbourhood'].isnull())]['street']\n",
    "for street in a:\n",
    "    PATH = '/Users/felipeveiga/Documents/Jupyter USP/Chrome Driver/chromedriver'\n",
    "    driver = webdriver.Chrome(PATH)\n",
    "\n",
    "    driver.get('https://duckduckgo.com/')\n",
    "    search = driver.find_element_by_id('search_form_input_homepage')\n",
    "    search.send_keys(f'{street}')\n",
    "    search.send_keys(Keys.RETURN)\n",
    "\n",
    "    # Para evitar isso, podemos utilizar o seguinte código, disponível na documentação do selenium.\n",
    "    try:\n",
    "        address = WebDriverWait(driver, 10).until(\n",
    "            EC.presence_of_element_located((By.CLASS_NAME, \"address-detail__address\"))\n",
    "        )\n",
    "        pattern = '([A-z]+),'\n",
    "        address_text = address.text\n",
    "        print(re.findall(pattern, address_text)[0])\n",
    "    finally:\n",
    "        driver.quit()\n",
    "\n"
   ]
  },
  {
   "cell_type": "code",
   "execution_count": null,
   "id": "9e7d8a43-acb9-4f0d-8470-b519048255e3",
   "metadata": {},
   "outputs": [],
   "source": [
    "# Falta eu aprender a retornar a página da onde eu iniciei a consulta! COntinuar o tutorial do Tech With Tim!\n",
    "import pandas as pd\n",
    "import numpy as np\n",
    "airbnb = pd.read_csv('listings.csv')\n",
    "pattern = '^Boston,'\n",
    "#airbnb[airbnb['space'] == 'NaN']\n",
    "a = airbnb[(airbnb['neighbourhood'].isnull())]['street']\n",
    "for street in a:\n",
    "    PATH = '/Users/felipeveiga/Documents/Jupyter USP/Chrome Driver/chromedriver'\n",
    "    driver = webdriver.Chrome(PATH)\n",
    "\n",
    "    driver.get('https://duckduckgo.com/')\n",
    "    search = driver.find_element_by_id('search_form_input_homepage')\n",
    "    search.send_keys(f'{street}')\n",
    "    search.send_keys(Keys.RETURN)\n",
    "\n",
    "    # Para evitar isso, podemos utilizar o seguinte código, disponível na documentação do selenium.\n",
    "    try:\n",
    "        address = WebDriverWait(driver, 10).until(\n",
    "            EC.presence_of_element_located((By.CLASS_NAME, \"address-detail__address\"))\n",
    "        )\n",
    "        pattern = '([A-z]+),'\n",
    "        address_text = address.text\n",
    "        print(re.findall(pattern, address_text)[0])\n",
    "    finally:\n",
    "        driver.quit()\n",
    "\n"
   ]
  },
  {
   "cell_type": "markdown",
   "id": "b83e7001-1540-4812-b897-1bae15f3db73",
   "metadata": {},
   "source": [
    "<p style = 'font-size:30px'> Versão Final Casas sem bairro</p>"
   ]
  },
  {
   "cell_type": "code",
   "execution_count": 80,
   "id": "64535900-98ea-4adc-bc94-de27a742c3c3",
   "metadata": {},
   "outputs": [
    {
     "data": {
      "text/html": [
       "<div>\n",
       "<style scoped>\n",
       "    .dataframe tbody tr th:only-of-type {\n",
       "        vertical-align: middle;\n",
       "    }\n",
       "\n",
       "    .dataframe tbody tr th {\n",
       "        vertical-align: top;\n",
       "    }\n",
       "\n",
       "    .dataframe thead th {\n",
       "        text-align: right;\n",
       "    }\n",
       "</style>\n",
       "<table border=\"1\" class=\"dataframe\">\n",
       "  <thead>\n",
       "    <tr style=\"text-align: right;\">\n",
       "      <th></th>\n",
       "      <th>id</th>\n",
       "      <th>listing_url</th>\n",
       "      <th>scrape_id</th>\n",
       "      <th>last_scraped</th>\n",
       "      <th>name</th>\n",
       "      <th>summary</th>\n",
       "      <th>space</th>\n",
       "      <th>description</th>\n",
       "      <th>experiences_offered</th>\n",
       "      <th>neighborhood_overview</th>\n",
       "      <th>...</th>\n",
       "      <th>review_scores_value</th>\n",
       "      <th>requires_license</th>\n",
       "      <th>license</th>\n",
       "      <th>jurisdiction_names</th>\n",
       "      <th>instant_bookable</th>\n",
       "      <th>cancellation_policy</th>\n",
       "      <th>require_guest_profile_picture</th>\n",
       "      <th>require_guest_phone_verification</th>\n",
       "      <th>calculated_host_listings_count</th>\n",
       "      <th>reviews_per_month</th>\n",
       "    </tr>\n",
       "  </thead>\n",
       "  <tbody>\n",
       "    <tr>\n",
       "      <th>0</th>\n",
       "      <td>12147973</td>\n",
       "      <td>https://www.airbnb.com/rooms/12147973</td>\n",
       "      <td>20160906204935</td>\n",
       "      <td>2016-09-07</td>\n",
       "      <td>Sunny Bungalow in the City</td>\n",
       "      <td>Cozy, sunny, family home.  Master bedroom high...</td>\n",
       "      <td>The house has an open and cozy feel at the sam...</td>\n",
       "      <td>Cozy, sunny, family home.  Master bedroom high...</td>\n",
       "      <td>none</td>\n",
       "      <td>Roslindale is quiet, convenient and friendly. ...</td>\n",
       "      <td>...</td>\n",
       "      <td>NaN</td>\n",
       "      <td>f</td>\n",
       "      <td>NaN</td>\n",
       "      <td>NaN</td>\n",
       "      <td>f</td>\n",
       "      <td>moderate</td>\n",
       "      <td>f</td>\n",
       "      <td>f</td>\n",
       "      <td>1</td>\n",
       "      <td>NaN</td>\n",
       "    </tr>\n",
       "    <tr>\n",
       "      <th>1</th>\n",
       "      <td>3075044</td>\n",
       "      <td>https://www.airbnb.com/rooms/3075044</td>\n",
       "      <td>20160906204935</td>\n",
       "      <td>2016-09-07</td>\n",
       "      <td>Charming room in pet friendly apt</td>\n",
       "      <td>Charming and quiet room in a second floor 1910...</td>\n",
       "      <td>Small but cozy and quite room with a full size...</td>\n",
       "      <td>Charming and quiet room in a second floor 1910...</td>\n",
       "      <td>none</td>\n",
       "      <td>The room is in Roslindale, a diverse and prima...</td>\n",
       "      <td>...</td>\n",
       "      <td>9.0</td>\n",
       "      <td>f</td>\n",
       "      <td>NaN</td>\n",
       "      <td>NaN</td>\n",
       "      <td>t</td>\n",
       "      <td>moderate</td>\n",
       "      <td>f</td>\n",
       "      <td>f</td>\n",
       "      <td>1</td>\n",
       "      <td>1.30</td>\n",
       "    </tr>\n",
       "    <tr>\n",
       "      <th>2</th>\n",
       "      <td>6976</td>\n",
       "      <td>https://www.airbnb.com/rooms/6976</td>\n",
       "      <td>20160906204935</td>\n",
       "      <td>2016-09-07</td>\n",
       "      <td>Mexican Folk Art Haven in Boston</td>\n",
       "      <td>Come stay with a friendly, middle-aged guy in ...</td>\n",
       "      <td>Come stay with a friendly, middle-aged guy in ...</td>\n",
       "      <td>Come stay with a friendly, middle-aged guy in ...</td>\n",
       "      <td>none</td>\n",
       "      <td>The LOCATION: Roslindale is a safe and diverse...</td>\n",
       "      <td>...</td>\n",
       "      <td>10.0</td>\n",
       "      <td>f</td>\n",
       "      <td>NaN</td>\n",
       "      <td>NaN</td>\n",
       "      <td>f</td>\n",
       "      <td>moderate</td>\n",
       "      <td>t</td>\n",
       "      <td>f</td>\n",
       "      <td>1</td>\n",
       "      <td>0.47</td>\n",
       "    </tr>\n",
       "  </tbody>\n",
       "</table>\n",
       "<p>3 rows × 95 columns</p>\n",
       "</div>"
      ],
      "text/plain": [
       "         id                            listing_url       scrape_id  \\\n",
       "0  12147973  https://www.airbnb.com/rooms/12147973  20160906204935   \n",
       "1   3075044   https://www.airbnb.com/rooms/3075044  20160906204935   \n",
       "2      6976      https://www.airbnb.com/rooms/6976  20160906204935   \n",
       "\n",
       "  last_scraped                               name  \\\n",
       "0   2016-09-07         Sunny Bungalow in the City   \n",
       "1   2016-09-07  Charming room in pet friendly apt   \n",
       "2   2016-09-07   Mexican Folk Art Haven in Boston   \n",
       "\n",
       "                                             summary  \\\n",
       "0  Cozy, sunny, family home.  Master bedroom high...   \n",
       "1  Charming and quiet room in a second floor 1910...   \n",
       "2  Come stay with a friendly, middle-aged guy in ...   \n",
       "\n",
       "                                               space  \\\n",
       "0  The house has an open and cozy feel at the sam...   \n",
       "1  Small but cozy and quite room with a full size...   \n",
       "2  Come stay with a friendly, middle-aged guy in ...   \n",
       "\n",
       "                                         description experiences_offered  \\\n",
       "0  Cozy, sunny, family home.  Master bedroom high...                none   \n",
       "1  Charming and quiet room in a second floor 1910...                none   \n",
       "2  Come stay with a friendly, middle-aged guy in ...                none   \n",
       "\n",
       "                               neighborhood_overview  ... review_scores_value  \\\n",
       "0  Roslindale is quiet, convenient and friendly. ...  ...                 NaN   \n",
       "1  The room is in Roslindale, a diverse and prima...  ...                 9.0   \n",
       "2  The LOCATION: Roslindale is a safe and diverse...  ...                10.0   \n",
       "\n",
       "  requires_license license jurisdiction_names instant_bookable  \\\n",
       "0                f     NaN                NaN                f   \n",
       "1                f     NaN                NaN                t   \n",
       "2                f     NaN                NaN                f   \n",
       "\n",
       "  cancellation_policy require_guest_profile_picture  \\\n",
       "0            moderate                             f   \n",
       "1            moderate                             f   \n",
       "2            moderate                             t   \n",
       "\n",
       "  require_guest_phone_verification calculated_host_listings_count  \\\n",
       "0                                f                              1   \n",
       "1                                f                              1   \n",
       "2                                f                              1   \n",
       "\n",
       "   reviews_per_month  \n",
       "0                NaN  \n",
       "1               1.30  \n",
       "2               0.47  \n",
       "\n",
       "[3 rows x 95 columns]"
      ]
     },
     "execution_count": 80,
     "metadata": {},
     "output_type": "execute_result"
    }
   ],
   "source": [
    "# Let's begin figuring out the houses with no neighborhood informed.\n",
    "# We are going to discover this information using the street address registered in the 'street' column.\n",
    "import pandas as pd\n",
    "import numpy as np\n",
    "# Loading the 'csv' file with the data from all dwellings.\n",
    "airbnb = pd.read_csv('listings.csv')\n",
    "airbnb.head(3)"
   ]
  },
  {
   "cell_type": "code",
   "execution_count": 81,
   "id": "9f1c2e3e-ccdd-4e74-9a02-a6f328973b61",
   "metadata": {},
   "outputs": [
    {
     "data": {
      "text/html": [
       "<div>\n",
       "<style scoped>\n",
       "    .dataframe tbody tr th:only-of-type {\n",
       "        vertical-align: middle;\n",
       "    }\n",
       "\n",
       "    .dataframe tbody tr th {\n",
       "        vertical-align: top;\n",
       "    }\n",
       "\n",
       "    .dataframe thead th {\n",
       "        text-align: right;\n",
       "    }\n",
       "</style>\n",
       "<table border=\"1\" class=\"dataframe\">\n",
       "  <thead>\n",
       "    <tr style=\"text-align: right;\">\n",
       "      <th></th>\n",
       "      <th>id</th>\n",
       "      <th>listing_url</th>\n",
       "      <th>scrape_id</th>\n",
       "      <th>last_scraped</th>\n",
       "      <th>name</th>\n",
       "      <th>summary</th>\n",
       "      <th>space</th>\n",
       "      <th>description</th>\n",
       "      <th>experiences_offered</th>\n",
       "      <th>neighborhood_overview</th>\n",
       "      <th>...</th>\n",
       "      <th>review_scores_value</th>\n",
       "      <th>requires_license</th>\n",
       "      <th>license</th>\n",
       "      <th>jurisdiction_names</th>\n",
       "      <th>instant_bookable</th>\n",
       "      <th>cancellation_policy</th>\n",
       "      <th>require_guest_profile_picture</th>\n",
       "      <th>require_guest_phone_verification</th>\n",
       "      <th>calculated_host_listings_count</th>\n",
       "      <th>reviews_per_month</th>\n",
       "    </tr>\n",
       "  </thead>\n",
       "  <tbody>\n",
       "    <tr>\n",
       "      <th>3</th>\n",
       "      <td>1436513</td>\n",
       "      <td>https://www.airbnb.com/rooms/1436513</td>\n",
       "      <td>20160906204935</td>\n",
       "      <td>2016-09-07</td>\n",
       "      <td>Spacious Sunny Bedroom Suite in Historic Home</td>\n",
       "      <td>Come experience the comforts of home away from...</td>\n",
       "      <td>Most places you find in Boston are small howev...</td>\n",
       "      <td>Come experience the comforts of home away from...</td>\n",
       "      <td>none</td>\n",
       "      <td>Roslindale is a lovely little neighborhood loc...</td>\n",
       "      <td>...</td>\n",
       "      <td>10.0</td>\n",
       "      <td>f</td>\n",
       "      <td>NaN</td>\n",
       "      <td>NaN</td>\n",
       "      <td>f</td>\n",
       "      <td>moderate</td>\n",
       "      <td>f</td>\n",
       "      <td>f</td>\n",
       "      <td>1</td>\n",
       "      <td>1.00</td>\n",
       "    </tr>\n",
       "    <tr>\n",
       "      <th>6</th>\n",
       "      <td>5706985</td>\n",
       "      <td>https://www.airbnb.com/rooms/5706985</td>\n",
       "      <td>20160906204935</td>\n",
       "      <td>2016-09-07</td>\n",
       "      <td>New Lrg Studio apt 15 min to Boston</td>\n",
       "      <td>It's a 5 minute walk to Rosi Square to catch t...</td>\n",
       "      <td>The whole house was recently redone and it 's ...</td>\n",
       "      <td>It's a 5 minute walk to Rosi Square to catch t...</td>\n",
       "      <td>none</td>\n",
       "      <td>Roslindale is the new hip area of Boston. Clos...</td>\n",
       "      <td>...</td>\n",
       "      <td>9.0</td>\n",
       "      <td>f</td>\n",
       "      <td>NaN</td>\n",
       "      <td>NaN</td>\n",
       "      <td>f</td>\n",
       "      <td>strict</td>\n",
       "      <td>f</td>\n",
       "      <td>f</td>\n",
       "      <td>3</td>\n",
       "      <td>4.00</td>\n",
       "    </tr>\n",
       "    <tr>\n",
       "      <th>19</th>\n",
       "      <td>7252607</td>\n",
       "      <td>https://www.airbnb.com/rooms/7252607</td>\n",
       "      <td>20160906204935</td>\n",
       "      <td>2016-09-07</td>\n",
       "      <td>Private Room near Public Transport</td>\n",
       "      <td>A handsome colonial house set on a tranquil si...</td>\n",
       "      <td>NaN</td>\n",
       "      <td>A handsome colonial house set on a tranquil si...</td>\n",
       "      <td>none</td>\n",
       "      <td>NaN</td>\n",
       "      <td>...</td>\n",
       "      <td>10.0</td>\n",
       "      <td>f</td>\n",
       "      <td>NaN</td>\n",
       "      <td>NaN</td>\n",
       "      <td>f</td>\n",
       "      <td>strict</td>\n",
       "      <td>f</td>\n",
       "      <td>f</td>\n",
       "      <td>3</td>\n",
       "      <td>0.29</td>\n",
       "    </tr>\n",
       "  </tbody>\n",
       "</table>\n",
       "<p>3 rows × 95 columns</p>\n",
       "</div>"
      ],
      "text/plain": [
       "         id                           listing_url       scrape_id  \\\n",
       "3   1436513  https://www.airbnb.com/rooms/1436513  20160906204935   \n",
       "6   5706985  https://www.airbnb.com/rooms/5706985  20160906204935   \n",
       "19  7252607  https://www.airbnb.com/rooms/7252607  20160906204935   \n",
       "\n",
       "   last_scraped                                           name  \\\n",
       "3    2016-09-07  Spacious Sunny Bedroom Suite in Historic Home   \n",
       "6    2016-09-07            New Lrg Studio apt 15 min to Boston   \n",
       "19   2016-09-07             Private Room near Public Transport   \n",
       "\n",
       "                                              summary  \\\n",
       "3   Come experience the comforts of home away from...   \n",
       "6   It's a 5 minute walk to Rosi Square to catch t...   \n",
       "19  A handsome colonial house set on a tranquil si...   \n",
       "\n",
       "                                                space  \\\n",
       "3   Most places you find in Boston are small howev...   \n",
       "6   The whole house was recently redone and it 's ...   \n",
       "19                                                NaN   \n",
       "\n",
       "                                          description experiences_offered  \\\n",
       "3   Come experience the comforts of home away from...                none   \n",
       "6   It's a 5 minute walk to Rosi Square to catch t...                none   \n",
       "19  A handsome colonial house set on a tranquil si...                none   \n",
       "\n",
       "                                neighborhood_overview  ...  \\\n",
       "3   Roslindale is a lovely little neighborhood loc...  ...   \n",
       "6   Roslindale is the new hip area of Boston. Clos...  ...   \n",
       "19                                                NaN  ...   \n",
       "\n",
       "   review_scores_value requires_license license jurisdiction_names  \\\n",
       "3                 10.0                f     NaN                NaN   \n",
       "6                  9.0                f     NaN                NaN   \n",
       "19                10.0                f     NaN                NaN   \n",
       "\n",
       "   instant_bookable cancellation_policy require_guest_profile_picture  \\\n",
       "3                 f            moderate                             f   \n",
       "6                 f              strict                             f   \n",
       "19                f              strict                             f   \n",
       "\n",
       "   require_guest_phone_verification calculated_host_listings_count  \\\n",
       "3                                 f                              1   \n",
       "6                                 f                              3   \n",
       "19                                f                              3   \n",
       "\n",
       "    reviews_per_month  \n",
       "3                1.00  \n",
       "6                4.00  \n",
       "19               0.29  \n",
       "\n",
       "[3 rows x 95 columns]"
      ]
     },
     "execution_count": 81,
     "metadata": {},
     "output_type": "execute_result"
    }
   ],
   "source": [
    "# From the 'airbnb' DataFrame, we are going to create another one with only the houses with no neighborhood specified.\n",
    "no_neighborhood = airbnb[airbnb['neighbourhood'].isnull()]\n",
    "no_neighborhood.head(3)"
   ]
  },
  {
   "cell_type": "markdown",
   "id": "cd4baecf-4df9-4134-ab46-bf21e80c31a3",
   "metadata": {},
   "source": [
    "* <p style = 'font-size:20px'> Unfortunately some houses in this in the 'no_neighborhood' DF do not have its address rightly written in the column 'street. </p>\n",
    "* <p style = 'font-size:20px'>Instead of it, city of the dwelling is informed (Eg: Boston, MA, United States).</p>"
   ]
  },
  {
   "cell_type": "code",
   "execution_count": 82,
   "id": "d770ce9c-38f6-4640-abad-e524beb8b998",
   "metadata": {},
   "outputs": [
    {
     "name": "stdout",
     "output_type": "stream",
     "text": [
      "['Boston, MA, United States', 'Boston, MA, United States', 'Boston, MA, United States', 'Boston, MA, United States', 'Boston, MA, United States', 'Boston, MA, United States', 'Boston, MA, United States', 'Boston, MA, United States', 'Boston, MA, United States', 'Boston, MA, United States', 'Boston, MA, United States', 'Boston, MA, United States', 'Boston, MA, United States', 'Boston, MA, United States', 'Boston, MA, United States', 'Boston, MA, United States', 'Boston, MA, United States', 'Boston, MA, United States', 'Boston, MA 02115, United States', 'Boston, MA, United States', 'Boston, MA, United States', 'Boston, MA, United States', 'Boston, MA, United States', 'Boston, MA, United States', 'Boston, MA, United States', 'Boston, MA, United States', 'Boston, MA, United States', 'Boston, MA, United States', 'Boston, MA 02135, United States', 'Boston, MA, United States', 'Boston, MA, United States']\n",
      "31\n"
     ]
    }
   ],
   "source": [
    "# Without knowing the addresses, it is impossible to discover the their respective neighborhoods. Thus, wel'll need to\n",
    "# remove them from the DataFrame.\n",
    "# Let's use the re module to find out all theses invalid cases and rip them off from the table.\n",
    "import re\n",
    "\n",
    "# Since all the invalid address names start with 'Boston', we'll use this pattern in order the identify the houses\n",
    "# to be excluded.\n",
    "pattern = '^Boston'\n",
    "streets = no_neighborhood['street']\n",
    "\n",
    "# Creating a list that will store all the invalid cases found by our program.\n",
    "invalid_addresses = []\n",
    "\n",
    "for street in streets:\n",
    "    if re.search(pattern, street):\n",
    "        invalid_addresses.append(street)\n",
    "\n",
    "# And here are all the invalid address names from the houses that need to be removed.\n",
    "print(invalid_addresses)\n",
    "print(len(invalid_addresses))"
   ]
  },
  {
   "cell_type": "code",
   "execution_count": 83,
   "id": "dcbd25bb-b3ab-4293-9f20-f460c3367606",
   "metadata": {},
   "outputs": [
    {
     "name": "stdout",
     "output_type": "stream",
     "text": [
      "{'Boston, MA 02135, United States', 'Boston, MA 02115, United States', 'Boston, MA, United States'}\n"
     ]
    }
   ],
   "source": [
    "# We'll transform that list in a set so that only the unique values are preserved.\n",
    "invalid_addresses = set(invalid_addresses)\n",
    "print(invalid_addresses)"
   ]
  },
  {
   "cell_type": "code",
   "execution_count": 84,
   "id": "a83feb79-e6b4-4515-9cc4-4ca3a282fa9b",
   "metadata": {},
   "outputs": [
    {
     "data": {
      "text/html": [
       "<div>\n",
       "<style scoped>\n",
       "    .dataframe tbody tr th:only-of-type {\n",
       "        vertical-align: middle;\n",
       "    }\n",
       "\n",
       "    .dataframe tbody tr th {\n",
       "        vertical-align: top;\n",
       "    }\n",
       "\n",
       "    .dataframe thead th {\n",
       "        text-align: right;\n",
       "    }\n",
       "</style>\n",
       "<table border=\"1\" class=\"dataframe\">\n",
       "  <thead>\n",
       "    <tr style=\"text-align: right;\">\n",
       "      <th></th>\n",
       "      <th>id</th>\n",
       "      <th>listing_url</th>\n",
       "      <th>scrape_id</th>\n",
       "      <th>last_scraped</th>\n",
       "      <th>name</th>\n",
       "      <th>summary</th>\n",
       "      <th>space</th>\n",
       "      <th>description</th>\n",
       "      <th>experiences_offered</th>\n",
       "      <th>neighborhood_overview</th>\n",
       "      <th>...</th>\n",
       "      <th>review_scores_value</th>\n",
       "      <th>requires_license</th>\n",
       "      <th>license</th>\n",
       "      <th>jurisdiction_names</th>\n",
       "      <th>instant_bookable</th>\n",
       "      <th>cancellation_policy</th>\n",
       "      <th>require_guest_profile_picture</th>\n",
       "      <th>require_guest_phone_verification</th>\n",
       "      <th>calculated_host_listings_count</th>\n",
       "      <th>reviews_per_month</th>\n",
       "    </tr>\n",
       "  </thead>\n",
       "  <tbody>\n",
       "    <tr>\n",
       "      <th>6</th>\n",
       "      <td>5706985</td>\n",
       "      <td>https://www.airbnb.com/rooms/5706985</td>\n",
       "      <td>20160906204935</td>\n",
       "      <td>2016-09-07</td>\n",
       "      <td>New Lrg Studio apt 15 min to Boston</td>\n",
       "      <td>It's a 5 minute walk to Rosi Square to catch t...</td>\n",
       "      <td>The whole house was recently redone and it 's ...</td>\n",
       "      <td>It's a 5 minute walk to Rosi Square to catch t...</td>\n",
       "      <td>none</td>\n",
       "      <td>Roslindale is the new hip area of Boston. Clos...</td>\n",
       "      <td>...</td>\n",
       "      <td>9.0</td>\n",
       "      <td>f</td>\n",
       "      <td>NaN</td>\n",
       "      <td>NaN</td>\n",
       "      <td>f</td>\n",
       "      <td>strict</td>\n",
       "      <td>f</td>\n",
       "      <td>f</td>\n",
       "      <td>3</td>\n",
       "      <td>4.00</td>\n",
       "    </tr>\n",
       "    <tr>\n",
       "      <th>19</th>\n",
       "      <td>7252607</td>\n",
       "      <td>https://www.airbnb.com/rooms/7252607</td>\n",
       "      <td>20160906204935</td>\n",
       "      <td>2016-09-07</td>\n",
       "      <td>Private Room near Public Transport</td>\n",
       "      <td>A handsome colonial house set on a tranquil si...</td>\n",
       "      <td>NaN</td>\n",
       "      <td>A handsome colonial house set on a tranquil si...</td>\n",
       "      <td>none</td>\n",
       "      <td>NaN</td>\n",
       "      <td>...</td>\n",
       "      <td>10.0</td>\n",
       "      <td>f</td>\n",
       "      <td>NaN</td>\n",
       "      <td>NaN</td>\n",
       "      <td>f</td>\n",
       "      <td>strict</td>\n",
       "      <td>f</td>\n",
       "      <td>f</td>\n",
       "      <td>3</td>\n",
       "      <td>0.29</td>\n",
       "    </tr>\n",
       "    <tr>\n",
       "      <th>23</th>\n",
       "      <td>6400432</td>\n",
       "      <td>https://www.airbnb.com/rooms/6400432</td>\n",
       "      <td>20160906204935</td>\n",
       "      <td>2016-09-07</td>\n",
       "      <td>Spacious 3 bedroom cape cod style</td>\n",
       "      <td>Three bedroom in Boston's Roslindale neighborh...</td>\n",
       "      <td>This Cape Cod style home features two bedrooms...</td>\n",
       "      <td>Three bedroom in Boston's Roslindale neighborh...</td>\n",
       "      <td>none</td>\n",
       "      <td>NaN</td>\n",
       "      <td>...</td>\n",
       "      <td>10.0</td>\n",
       "      <td>f</td>\n",
       "      <td>NaN</td>\n",
       "      <td>NaN</td>\n",
       "      <td>f</td>\n",
       "      <td>flexible</td>\n",
       "      <td>f</td>\n",
       "      <td>f</td>\n",
       "      <td>1</td>\n",
       "      <td>1.58</td>\n",
       "    </tr>\n",
       "  </tbody>\n",
       "</table>\n",
       "<p>3 rows × 95 columns</p>\n",
       "</div>"
      ],
      "text/plain": [
       "         id                           listing_url       scrape_id  \\\n",
       "6   5706985  https://www.airbnb.com/rooms/5706985  20160906204935   \n",
       "19  7252607  https://www.airbnb.com/rooms/7252607  20160906204935   \n",
       "23  6400432  https://www.airbnb.com/rooms/6400432  20160906204935   \n",
       "\n",
       "   last_scraped                                 name  \\\n",
       "6    2016-09-07  New Lrg Studio apt 15 min to Boston   \n",
       "19   2016-09-07   Private Room near Public Transport   \n",
       "23   2016-09-07    Spacious 3 bedroom cape cod style   \n",
       "\n",
       "                                              summary  \\\n",
       "6   It's a 5 minute walk to Rosi Square to catch t...   \n",
       "19  A handsome colonial house set on a tranquil si...   \n",
       "23  Three bedroom in Boston's Roslindale neighborh...   \n",
       "\n",
       "                                                space  \\\n",
       "6   The whole house was recently redone and it 's ...   \n",
       "19                                                NaN   \n",
       "23  This Cape Cod style home features two bedrooms...   \n",
       "\n",
       "                                          description experiences_offered  \\\n",
       "6   It's a 5 minute walk to Rosi Square to catch t...                none   \n",
       "19  A handsome colonial house set on a tranquil si...                none   \n",
       "23  Three bedroom in Boston's Roslindale neighborh...                none   \n",
       "\n",
       "                                neighborhood_overview  ...  \\\n",
       "6   Roslindale is the new hip area of Boston. Clos...  ...   \n",
       "19                                                NaN  ...   \n",
       "23                                                NaN  ...   \n",
       "\n",
       "   review_scores_value requires_license license jurisdiction_names  \\\n",
       "6                  9.0                f     NaN                NaN   \n",
       "19                10.0                f     NaN                NaN   \n",
       "23                10.0                f     NaN                NaN   \n",
       "\n",
       "   instant_bookable cancellation_policy require_guest_profile_picture  \\\n",
       "6                 f              strict                             f   \n",
       "19                f              strict                             f   \n",
       "23                f            flexible                             f   \n",
       "\n",
       "   require_guest_phone_verification calculated_host_listings_count  \\\n",
       "6                                 f                              3   \n",
       "19                                f                              3   \n",
       "23                                f                              1   \n",
       "\n",
       "    reviews_per_month  \n",
       "6                4.00  \n",
       "19               0.29  \n",
       "23               1.58  \n",
       "\n",
       "[3 rows x 95 columns]"
      ]
     },
     "execution_count": 84,
     "metadata": {},
     "output_type": "execute_result"
    }
   ],
   "source": [
    "# Now, we must delete every single house which address is one of these three cases.\n",
    "# Since there are only three distinct invalid addresses cases, we easily can unpack that set.\n",
    "case1, case2, case3 = invalid_addresses\n",
    "\n",
    "# Redefining the 'no_neighborhood' DF. The 'street' column value must be different from any of the three values of the\n",
    "# 'invalid_addresses' set.\n",
    "no_neighborhood = (no_neighborhood[(no_neighborhood['street'] != case1) &\n",
    "                (no_neighborhood['street'] != case2) &\n",
    "                (no_neighborhood['street'] != case3)])\n",
    "# Here, you can see that the row with \n",
    "no_neighborhood.head(3)"
   ]
  },
  {
   "cell_type": "code",
   "execution_count": 88,
   "id": "afc4ee7f-971a-4d7f-9194-53956ffb83ba",
   "metadata": {
    "tags": []
   },
   "outputs": [
    {
     "name": "stderr",
     "output_type": "stream",
     "text": [
      "<ipython-input-88-8146ed6d66e8>:10: DeprecationWarning: executable_path has been deprecated, please pass in a Service object\n",
      "  driver = webdriver.Chrome(PATH)\n",
      "<ipython-input-88-8146ed6d66e8>:17: DeprecationWarning: find_element_by_* commands are deprecated. Please use find_element() instead\n",
      "  search_box = driver.find_element_by_id('search_form_input_homepage')\n"
     ]
    },
    {
     "name": "stdout",
     "output_type": "stream",
     "text": [
      "Roslindale\n",
      "Roslindale\n",
      "Roslindale\n",
      "Roslindale\n",
      "Jamaica Plain\n",
      "Jamaica Plain\n",
      "Jamaica Plain\n",
      "Jamaica Plain\n",
      "Jamaica Plain\n",
      "Jamaica Plain\n",
      "Jamaica Plain\n",
      "Jamaica Plain\n",
      "Jamaica Plain\n",
      "Jamaica Plain\n",
      "Jamaica Plain\n",
      "Jamaica Plain\n",
      "Jamaica Plain\n",
      "Jamaica Plain\n",
      "Jamaica Plain\n",
      "Jamaica Plain\n",
      "Roslindale\n",
      "Jamaica Plain\n",
      "Jamaica Plain\n",
      "Jamaica Plain\n",
      "Jamaica Plain\n",
      "Jamaica Plain\n",
      "Jamaica Plain\n",
      "Jamaica Plain\n",
      "Jamaica Plain\n",
      "Jamaica Plain\n",
      "Jamaica Plain\n",
      "Jamaica Plain\n",
      "Jamaica Plain\n",
      " Courthouse Way\n",
      " Berkeley St\n",
      " Berkeley St\n",
      " Berkeley St\n",
      "Cambridge\n",
      "East Boston\n",
      "East Boston\n",
      "East Boston\n",
      "East Boston\n",
      "East Boston\n",
      "East Boston\n",
      "East Boston\n",
      "East Boston\n",
      "East Boston\n",
      "East Boston\n",
      "Charlestown\n",
      "East Boston\n",
      "East Boston\n",
      "East Boston\n",
      "East Boston\n",
      "East Boston\n",
      "East Boston\n",
      "Charlestown\n",
      "East Boston\n",
      "East Boston\n",
      "East Boston\n",
      "East Boston\n",
      "East Boston\n",
      "East Boston\n",
      "East Boston\n",
      "East Boston\n",
      "East Boston\n",
      "Charlestown\n",
      "Charlestown\n",
      "Charlestown\n",
      "Charlestown\n",
      "Charlestown\n",
      "Charlestown\n",
      "Charlestown\n",
      "Charlestown\n",
      "Charlestown\n",
      "Charlestown\n",
      "Charlestown\n"
     ]
    },
    {
     "ename": "MaxRetryError",
     "evalue": "HTTPConnectionPool(host='localhost', port=54643): Max retries exceeded with url: /session/2db60fc8d551d6848c95ed930b863619/back (Caused by NewConnectionError('<urllib3.connection.HTTPConnection object at 0x7fd82aecafd0>: Failed to establish a new connection: [Errno 61] Connection refused'))",
     "output_type": "error",
     "traceback": [
      "\u001b[0;31m---------------------------------------------------------------------------\u001b[0m",
      "\u001b[0;31mKeyboardInterrupt\u001b[0m                         Traceback (most recent call last)",
      "\u001b[0;32m<ipython-input-88-8146ed6d66e8>\u001b[0m in \u001b[0;36m<module>\u001b[0;34m\u001b[0m\n\u001b[1;32m     22\u001b[0m     \u001b[0;32mtry\u001b[0m\u001b[0;34m:\u001b[0m\u001b[0;34m\u001b[0m\u001b[0;34m\u001b[0m\u001b[0m\n\u001b[0;32m---> 23\u001b[0;31m         neighborhood = WebDriverWait(driver, 10).until(\n\u001b[0m\u001b[1;32m     24\u001b[0m             \u001b[0mEC\u001b[0m\u001b[0;34m.\u001b[0m\u001b[0mpresence_of_element_located\u001b[0m\u001b[0;34m(\u001b[0m\u001b[0;34m(\u001b[0m\u001b[0mBy\u001b[0m\u001b[0;34m.\u001b[0m\u001b[0mCLASS_NAME\u001b[0m\u001b[0;34m,\u001b[0m \u001b[0;34m\"address-detail__address\"\u001b[0m\u001b[0;34m)\u001b[0m\u001b[0;34m)\u001b[0m\u001b[0;34m\u001b[0m\u001b[0;34m\u001b[0m\u001b[0m\n",
      "\u001b[0;32m~/opt/anaconda3/lib/python3.8/site-packages/selenium/webdriver/support/wait.py\u001b[0m in \u001b[0;36muntil\u001b[0;34m(self, method, message)\u001b[0m\n\u001b[1;32m     85\u001b[0m                 \u001b[0mstacktrace\u001b[0m \u001b[0;34m=\u001b[0m \u001b[0mgetattr\u001b[0m\u001b[0;34m(\u001b[0m\u001b[0mexc\u001b[0m\u001b[0;34m,\u001b[0m \u001b[0;34m'stacktrace'\u001b[0m\u001b[0;34m,\u001b[0m \u001b[0;32mNone\u001b[0m\u001b[0;34m)\u001b[0m\u001b[0;34m\u001b[0m\u001b[0;34m\u001b[0m\u001b[0m\n\u001b[0;32m---> 86\u001b[0;31m             \u001b[0mtime\u001b[0m\u001b[0;34m.\u001b[0m\u001b[0msleep\u001b[0m\u001b[0;34m(\u001b[0m\u001b[0mself\u001b[0m\u001b[0;34m.\u001b[0m\u001b[0m_poll\u001b[0m\u001b[0;34m)\u001b[0m\u001b[0;34m\u001b[0m\u001b[0;34m\u001b[0m\u001b[0m\n\u001b[0m\u001b[1;32m     87\u001b[0m             \u001b[0;32mif\u001b[0m \u001b[0mtime\u001b[0m\u001b[0;34m.\u001b[0m\u001b[0mtime\u001b[0m\u001b[0;34m(\u001b[0m\u001b[0;34m)\u001b[0m \u001b[0;34m>\u001b[0m \u001b[0mend_time\u001b[0m\u001b[0;34m:\u001b[0m\u001b[0;34m\u001b[0m\u001b[0;34m\u001b[0m\u001b[0m\n",
      "\u001b[0;31mKeyboardInterrupt\u001b[0m: ",
      "\nDuring handling of the above exception, another exception occurred:\n",
      "\u001b[0;31mConnectionRefusedError\u001b[0m                    Traceback (most recent call last)",
      "\u001b[0;32m~/opt/anaconda3/lib/python3.8/site-packages/urllib3/connection.py\u001b[0m in \u001b[0;36m_new_conn\u001b[0;34m(self)\u001b[0m\n\u001b[1;32m    168\u001b[0m         \u001b[0;32mtry\u001b[0m\u001b[0;34m:\u001b[0m\u001b[0;34m\u001b[0m\u001b[0;34m\u001b[0m\u001b[0m\n\u001b[0;32m--> 169\u001b[0;31m             conn = connection.create_connection(\n\u001b[0m\u001b[1;32m    170\u001b[0m                 \u001b[0;34m(\u001b[0m\u001b[0mself\u001b[0m\u001b[0;34m.\u001b[0m\u001b[0m_dns_host\u001b[0m\u001b[0;34m,\u001b[0m \u001b[0mself\u001b[0m\u001b[0;34m.\u001b[0m\u001b[0mport\u001b[0m\u001b[0;34m)\u001b[0m\u001b[0;34m,\u001b[0m \u001b[0mself\u001b[0m\u001b[0;34m.\u001b[0m\u001b[0mtimeout\u001b[0m\u001b[0;34m,\u001b[0m \u001b[0;34m**\u001b[0m\u001b[0mextra_kw\u001b[0m\u001b[0;34m\u001b[0m\u001b[0;34m\u001b[0m\u001b[0m\n",
      "\u001b[0;32m~/opt/anaconda3/lib/python3.8/site-packages/urllib3/util/connection.py\u001b[0m in \u001b[0;36mcreate_connection\u001b[0;34m(address, timeout, source_address, socket_options)\u001b[0m\n\u001b[1;32m     95\u001b[0m     \u001b[0;32mif\u001b[0m \u001b[0merr\u001b[0m \u001b[0;32mis\u001b[0m \u001b[0;32mnot\u001b[0m \u001b[0;32mNone\u001b[0m\u001b[0;34m:\u001b[0m\u001b[0;34m\u001b[0m\u001b[0;34m\u001b[0m\u001b[0m\n\u001b[0;32m---> 96\u001b[0;31m         \u001b[0;32mraise\u001b[0m \u001b[0merr\u001b[0m\u001b[0;34m\u001b[0m\u001b[0;34m\u001b[0m\u001b[0m\n\u001b[0m\u001b[1;32m     97\u001b[0m \u001b[0;34m\u001b[0m\u001b[0m\n",
      "\u001b[0;32m~/opt/anaconda3/lib/python3.8/site-packages/urllib3/util/connection.py\u001b[0m in \u001b[0;36mcreate_connection\u001b[0;34m(address, timeout, source_address, socket_options)\u001b[0m\n\u001b[1;32m     85\u001b[0m                 \u001b[0msock\u001b[0m\u001b[0;34m.\u001b[0m\u001b[0mbind\u001b[0m\u001b[0;34m(\u001b[0m\u001b[0msource_address\u001b[0m\u001b[0;34m)\u001b[0m\u001b[0;34m\u001b[0m\u001b[0;34m\u001b[0m\u001b[0m\n\u001b[0;32m---> 86\u001b[0;31m             \u001b[0msock\u001b[0m\u001b[0;34m.\u001b[0m\u001b[0mconnect\u001b[0m\u001b[0;34m(\u001b[0m\u001b[0msa\u001b[0m\u001b[0;34m)\u001b[0m\u001b[0;34m\u001b[0m\u001b[0;34m\u001b[0m\u001b[0m\n\u001b[0m\u001b[1;32m     87\u001b[0m             \u001b[0;32mreturn\u001b[0m \u001b[0msock\u001b[0m\u001b[0;34m\u001b[0m\u001b[0;34m\u001b[0m\u001b[0m\n",
      "\u001b[0;31mConnectionRefusedError\u001b[0m: [Errno 61] Connection refused",
      "\nDuring handling of the above exception, another exception occurred:\n",
      "\u001b[0;31mNewConnectionError\u001b[0m                        Traceback (most recent call last)",
      "\u001b[0;32m~/opt/anaconda3/lib/python3.8/site-packages/urllib3/connectionpool.py\u001b[0m in \u001b[0;36murlopen\u001b[0;34m(self, method, url, body, headers, retries, redirect, assert_same_host, timeout, pool_timeout, release_conn, chunked, body_pos, **response_kw)\u001b[0m\n\u001b[1;32m    698\u001b[0m             \u001b[0;31m# Make the request on the httplib connection object.\u001b[0m\u001b[0;34m\u001b[0m\u001b[0;34m\u001b[0m\u001b[0;34m\u001b[0m\u001b[0m\n\u001b[0;32m--> 699\u001b[0;31m             httplib_response = self._make_request(\n\u001b[0m\u001b[1;32m    700\u001b[0m                 \u001b[0mconn\u001b[0m\u001b[0;34m,\u001b[0m\u001b[0;34m\u001b[0m\u001b[0;34m\u001b[0m\u001b[0m\n",
      "\u001b[0;32m~/opt/anaconda3/lib/python3.8/site-packages/urllib3/connectionpool.py\u001b[0m in \u001b[0;36m_make_request\u001b[0;34m(self, conn, method, url, timeout, chunked, **httplib_request_kw)\u001b[0m\n\u001b[1;32m    393\u001b[0m             \u001b[0;32melse\u001b[0m\u001b[0;34m:\u001b[0m\u001b[0;34m\u001b[0m\u001b[0;34m\u001b[0m\u001b[0m\n\u001b[0;32m--> 394\u001b[0;31m                 \u001b[0mconn\u001b[0m\u001b[0;34m.\u001b[0m\u001b[0mrequest\u001b[0m\u001b[0;34m(\u001b[0m\u001b[0mmethod\u001b[0m\u001b[0;34m,\u001b[0m \u001b[0murl\u001b[0m\u001b[0;34m,\u001b[0m \u001b[0;34m**\u001b[0m\u001b[0mhttplib_request_kw\u001b[0m\u001b[0;34m)\u001b[0m\u001b[0;34m\u001b[0m\u001b[0;34m\u001b[0m\u001b[0m\n\u001b[0m\u001b[1;32m    395\u001b[0m \u001b[0;34m\u001b[0m\u001b[0m\n",
      "\u001b[0;32m~/opt/anaconda3/lib/python3.8/site-packages/urllib3/connection.py\u001b[0m in \u001b[0;36mrequest\u001b[0;34m(self, method, url, body, headers)\u001b[0m\n\u001b[1;32m    233\u001b[0m             \u001b[0mheaders\u001b[0m\u001b[0;34m[\u001b[0m\u001b[0;34m\"User-Agent\"\u001b[0m\u001b[0;34m]\u001b[0m \u001b[0;34m=\u001b[0m \u001b[0m_get_default_user_agent\u001b[0m\u001b[0;34m(\u001b[0m\u001b[0;34m)\u001b[0m\u001b[0;34m\u001b[0m\u001b[0;34m\u001b[0m\u001b[0m\n\u001b[0;32m--> 234\u001b[0;31m         \u001b[0msuper\u001b[0m\u001b[0;34m(\u001b[0m\u001b[0mHTTPConnection\u001b[0m\u001b[0;34m,\u001b[0m \u001b[0mself\u001b[0m\u001b[0;34m)\u001b[0m\u001b[0;34m.\u001b[0m\u001b[0mrequest\u001b[0m\u001b[0;34m(\u001b[0m\u001b[0mmethod\u001b[0m\u001b[0;34m,\u001b[0m \u001b[0murl\u001b[0m\u001b[0;34m,\u001b[0m \u001b[0mbody\u001b[0m\u001b[0;34m=\u001b[0m\u001b[0mbody\u001b[0m\u001b[0;34m,\u001b[0m \u001b[0mheaders\u001b[0m\u001b[0;34m=\u001b[0m\u001b[0mheaders\u001b[0m\u001b[0;34m)\u001b[0m\u001b[0;34m\u001b[0m\u001b[0;34m\u001b[0m\u001b[0m\n\u001b[0m\u001b[1;32m    235\u001b[0m \u001b[0;34m\u001b[0m\u001b[0m\n",
      "\u001b[0;32m~/opt/anaconda3/lib/python3.8/http/client.py\u001b[0m in \u001b[0;36mrequest\u001b[0;34m(self, method, url, body, headers, encode_chunked)\u001b[0m\n\u001b[1;32m   1254\u001b[0m         \u001b[0;34m\"\"\"Send a complete request to the server.\"\"\"\u001b[0m\u001b[0;34m\u001b[0m\u001b[0;34m\u001b[0m\u001b[0m\n\u001b[0;32m-> 1255\u001b[0;31m         \u001b[0mself\u001b[0m\u001b[0;34m.\u001b[0m\u001b[0m_send_request\u001b[0m\u001b[0;34m(\u001b[0m\u001b[0mmethod\u001b[0m\u001b[0;34m,\u001b[0m \u001b[0murl\u001b[0m\u001b[0;34m,\u001b[0m \u001b[0mbody\u001b[0m\u001b[0;34m,\u001b[0m \u001b[0mheaders\u001b[0m\u001b[0;34m,\u001b[0m \u001b[0mencode_chunked\u001b[0m\u001b[0;34m)\u001b[0m\u001b[0;34m\u001b[0m\u001b[0;34m\u001b[0m\u001b[0m\n\u001b[0m\u001b[1;32m   1256\u001b[0m \u001b[0;34m\u001b[0m\u001b[0m\n",
      "\u001b[0;32m~/opt/anaconda3/lib/python3.8/http/client.py\u001b[0m in \u001b[0;36m_send_request\u001b[0;34m(self, method, url, body, headers, encode_chunked)\u001b[0m\n\u001b[1;32m   1300\u001b[0m             \u001b[0mbody\u001b[0m \u001b[0;34m=\u001b[0m \u001b[0m_encode\u001b[0m\u001b[0;34m(\u001b[0m\u001b[0mbody\u001b[0m\u001b[0;34m,\u001b[0m \u001b[0;34m'body'\u001b[0m\u001b[0;34m)\u001b[0m\u001b[0;34m\u001b[0m\u001b[0;34m\u001b[0m\u001b[0m\n\u001b[0;32m-> 1301\u001b[0;31m         \u001b[0mself\u001b[0m\u001b[0;34m.\u001b[0m\u001b[0mendheaders\u001b[0m\u001b[0;34m(\u001b[0m\u001b[0mbody\u001b[0m\u001b[0;34m,\u001b[0m \u001b[0mencode_chunked\u001b[0m\u001b[0;34m=\u001b[0m\u001b[0mencode_chunked\u001b[0m\u001b[0;34m)\u001b[0m\u001b[0;34m\u001b[0m\u001b[0;34m\u001b[0m\u001b[0m\n\u001b[0m\u001b[1;32m   1302\u001b[0m \u001b[0;34m\u001b[0m\u001b[0m\n",
      "\u001b[0;32m~/opt/anaconda3/lib/python3.8/http/client.py\u001b[0m in \u001b[0;36mendheaders\u001b[0;34m(self, message_body, encode_chunked)\u001b[0m\n\u001b[1;32m   1249\u001b[0m             \u001b[0;32mraise\u001b[0m \u001b[0mCannotSendHeader\u001b[0m\u001b[0;34m(\u001b[0m\u001b[0;34m)\u001b[0m\u001b[0;34m\u001b[0m\u001b[0;34m\u001b[0m\u001b[0m\n\u001b[0;32m-> 1250\u001b[0;31m         \u001b[0mself\u001b[0m\u001b[0;34m.\u001b[0m\u001b[0m_send_output\u001b[0m\u001b[0;34m(\u001b[0m\u001b[0mmessage_body\u001b[0m\u001b[0;34m,\u001b[0m \u001b[0mencode_chunked\u001b[0m\u001b[0;34m=\u001b[0m\u001b[0mencode_chunked\u001b[0m\u001b[0;34m)\u001b[0m\u001b[0;34m\u001b[0m\u001b[0;34m\u001b[0m\u001b[0m\n\u001b[0m\u001b[1;32m   1251\u001b[0m \u001b[0;34m\u001b[0m\u001b[0m\n",
      "\u001b[0;32m~/opt/anaconda3/lib/python3.8/http/client.py\u001b[0m in \u001b[0;36m_send_output\u001b[0;34m(self, message_body, encode_chunked)\u001b[0m\n\u001b[1;32m   1009\u001b[0m         \u001b[0;32mdel\u001b[0m \u001b[0mself\u001b[0m\u001b[0;34m.\u001b[0m\u001b[0m_buffer\u001b[0m\u001b[0;34m[\u001b[0m\u001b[0;34m:\u001b[0m\u001b[0;34m]\u001b[0m\u001b[0;34m\u001b[0m\u001b[0;34m\u001b[0m\u001b[0m\n\u001b[0;32m-> 1010\u001b[0;31m         \u001b[0mself\u001b[0m\u001b[0;34m.\u001b[0m\u001b[0msend\u001b[0m\u001b[0;34m(\u001b[0m\u001b[0mmsg\u001b[0m\u001b[0;34m)\u001b[0m\u001b[0;34m\u001b[0m\u001b[0;34m\u001b[0m\u001b[0m\n\u001b[0m\u001b[1;32m   1011\u001b[0m \u001b[0;34m\u001b[0m\u001b[0m\n",
      "\u001b[0;32m~/opt/anaconda3/lib/python3.8/http/client.py\u001b[0m in \u001b[0;36msend\u001b[0;34m(self, data)\u001b[0m\n\u001b[1;32m    949\u001b[0m             \u001b[0;32mif\u001b[0m \u001b[0mself\u001b[0m\u001b[0;34m.\u001b[0m\u001b[0mauto_open\u001b[0m\u001b[0;34m:\u001b[0m\u001b[0;34m\u001b[0m\u001b[0;34m\u001b[0m\u001b[0m\n\u001b[0;32m--> 950\u001b[0;31m                 \u001b[0mself\u001b[0m\u001b[0;34m.\u001b[0m\u001b[0mconnect\u001b[0m\u001b[0;34m(\u001b[0m\u001b[0;34m)\u001b[0m\u001b[0;34m\u001b[0m\u001b[0;34m\u001b[0m\u001b[0m\n\u001b[0m\u001b[1;32m    951\u001b[0m             \u001b[0;32melse\u001b[0m\u001b[0;34m:\u001b[0m\u001b[0;34m\u001b[0m\u001b[0;34m\u001b[0m\u001b[0m\n",
      "\u001b[0;32m~/opt/anaconda3/lib/python3.8/site-packages/urllib3/connection.py\u001b[0m in \u001b[0;36mconnect\u001b[0;34m(self)\u001b[0m\n\u001b[1;32m    199\u001b[0m     \u001b[0;32mdef\u001b[0m \u001b[0mconnect\u001b[0m\u001b[0;34m(\u001b[0m\u001b[0mself\u001b[0m\u001b[0;34m)\u001b[0m\u001b[0;34m:\u001b[0m\u001b[0;34m\u001b[0m\u001b[0;34m\u001b[0m\u001b[0m\n\u001b[0;32m--> 200\u001b[0;31m         \u001b[0mconn\u001b[0m \u001b[0;34m=\u001b[0m \u001b[0mself\u001b[0m\u001b[0;34m.\u001b[0m\u001b[0m_new_conn\u001b[0m\u001b[0;34m(\u001b[0m\u001b[0;34m)\u001b[0m\u001b[0;34m\u001b[0m\u001b[0;34m\u001b[0m\u001b[0m\n\u001b[0m\u001b[1;32m    201\u001b[0m         \u001b[0mself\u001b[0m\u001b[0;34m.\u001b[0m\u001b[0m_prepare_conn\u001b[0m\u001b[0;34m(\u001b[0m\u001b[0mconn\u001b[0m\u001b[0;34m)\u001b[0m\u001b[0;34m\u001b[0m\u001b[0;34m\u001b[0m\u001b[0m\n",
      "\u001b[0;32m~/opt/anaconda3/lib/python3.8/site-packages/urllib3/connection.py\u001b[0m in \u001b[0;36m_new_conn\u001b[0;34m(self)\u001b[0m\n\u001b[1;32m    180\u001b[0m         \u001b[0;32mexcept\u001b[0m \u001b[0mSocketError\u001b[0m \u001b[0;32mas\u001b[0m \u001b[0me\u001b[0m\u001b[0;34m:\u001b[0m\u001b[0;34m\u001b[0m\u001b[0;34m\u001b[0m\u001b[0m\n\u001b[0;32m--> 181\u001b[0;31m             raise NewConnectionError(\n\u001b[0m\u001b[1;32m    182\u001b[0m                 \u001b[0mself\u001b[0m\u001b[0;34m,\u001b[0m \u001b[0;34m\"Failed to establish a new connection: %s\"\u001b[0m \u001b[0;34m%\u001b[0m \u001b[0me\u001b[0m\u001b[0;34m\u001b[0m\u001b[0;34m\u001b[0m\u001b[0m\n",
      "\u001b[0;31mNewConnectionError\u001b[0m: <urllib3.connection.HTTPConnection object at 0x7fd82aecafd0>: Failed to establish a new connection: [Errno 61] Connection refused",
      "\nDuring handling of the above exception, another exception occurred:\n",
      "\u001b[0;31mMaxRetryError\u001b[0m                             Traceback (most recent call last)",
      "\u001b[0;32m<ipython-input-88-8146ed6d66e8>\u001b[0m in \u001b[0;36m<module>\u001b[0;34m\u001b[0m\n\u001b[1;32m     31\u001b[0m         \u001b[0mdriver\u001b[0m\u001b[0;34m.\u001b[0m\u001b[0mback\u001b[0m\u001b[0;34m(\u001b[0m\u001b[0;34m)\u001b[0m\u001b[0;34m\u001b[0m\u001b[0;34m\u001b[0m\u001b[0m\n\u001b[1;32m     32\u001b[0m     \u001b[0;32mexcept\u001b[0m\u001b[0;34m:\u001b[0m\u001b[0;34m\u001b[0m\u001b[0;34m\u001b[0m\u001b[0m\n\u001b[0;32m---> 33\u001b[0;31m         \u001b[0mdriver\u001b[0m\u001b[0;34m.\u001b[0m\u001b[0mback\u001b[0m\u001b[0;34m(\u001b[0m\u001b[0;34m)\u001b[0m\u001b[0;34m\u001b[0m\u001b[0;34m\u001b[0m\u001b[0m\n\u001b[0m\u001b[1;32m     34\u001b[0m         \u001b[0;31m#raise ValueError('Check if the element exists')\u001b[0m\u001b[0;34m\u001b[0m\u001b[0;34m\u001b[0m\u001b[0;34m\u001b[0m\u001b[0m\n\u001b[1;32m     35\u001b[0m \u001b[0;34m\u001b[0m\u001b[0m\n",
      "\u001b[0;32m~/opt/anaconda3/lib/python3.8/site-packages/selenium/webdriver/remote/webdriver.py\u001b[0m in \u001b[0;36mback\u001b[0;34m(self)\u001b[0m\n\u001b[1;32m   1037\u001b[0m                 \u001b[0mdriver\u001b[0m\u001b[0;34m.\u001b[0m\u001b[0mback\u001b[0m\u001b[0;34m(\u001b[0m\u001b[0;34m)\u001b[0m\u001b[0;34m\u001b[0m\u001b[0;34m\u001b[0m\u001b[0m\n\u001b[1;32m   1038\u001b[0m         \"\"\"\n\u001b[0;32m-> 1039\u001b[0;31m         \u001b[0mself\u001b[0m\u001b[0;34m.\u001b[0m\u001b[0mexecute\u001b[0m\u001b[0;34m(\u001b[0m\u001b[0mCommand\u001b[0m\u001b[0;34m.\u001b[0m\u001b[0mGO_BACK\u001b[0m\u001b[0;34m)\u001b[0m\u001b[0;34m\u001b[0m\u001b[0;34m\u001b[0m\u001b[0m\n\u001b[0m\u001b[1;32m   1040\u001b[0m \u001b[0;34m\u001b[0m\u001b[0m\n\u001b[1;32m   1041\u001b[0m     \u001b[0;32mdef\u001b[0m \u001b[0mforward\u001b[0m\u001b[0;34m(\u001b[0m\u001b[0mself\u001b[0m\u001b[0;34m)\u001b[0m \u001b[0;34m->\u001b[0m \u001b[0;32mNone\u001b[0m\u001b[0;34m:\u001b[0m\u001b[0;34m\u001b[0m\u001b[0;34m\u001b[0m\u001b[0m\n",
      "\u001b[0;32m~/opt/anaconda3/lib/python3.8/site-packages/selenium/webdriver/remote/webdriver.py\u001b[0m in \u001b[0;36mexecute\u001b[0;34m(self, driver_command, params)\u001b[0m\n\u001b[1;32m    420\u001b[0m \u001b[0;34m\u001b[0m\u001b[0m\n\u001b[1;32m    421\u001b[0m         \u001b[0mparams\u001b[0m \u001b[0;34m=\u001b[0m \u001b[0mself\u001b[0m\u001b[0;34m.\u001b[0m\u001b[0m_wrap_value\u001b[0m\u001b[0;34m(\u001b[0m\u001b[0mparams\u001b[0m\u001b[0;34m)\u001b[0m\u001b[0;34m\u001b[0m\u001b[0;34m\u001b[0m\u001b[0m\n\u001b[0;32m--> 422\u001b[0;31m         \u001b[0mresponse\u001b[0m \u001b[0;34m=\u001b[0m \u001b[0mself\u001b[0m\u001b[0;34m.\u001b[0m\u001b[0mcommand_executor\u001b[0m\u001b[0;34m.\u001b[0m\u001b[0mexecute\u001b[0m\u001b[0;34m(\u001b[0m\u001b[0mdriver_command\u001b[0m\u001b[0;34m,\u001b[0m \u001b[0mparams\u001b[0m\u001b[0;34m)\u001b[0m\u001b[0;34m\u001b[0m\u001b[0;34m\u001b[0m\u001b[0m\n\u001b[0m\u001b[1;32m    423\u001b[0m         \u001b[0;32mif\u001b[0m \u001b[0mresponse\u001b[0m\u001b[0;34m:\u001b[0m\u001b[0;34m\u001b[0m\u001b[0;34m\u001b[0m\u001b[0m\n\u001b[1;32m    424\u001b[0m             \u001b[0mself\u001b[0m\u001b[0;34m.\u001b[0m\u001b[0merror_handler\u001b[0m\u001b[0;34m.\u001b[0m\u001b[0mcheck_response\u001b[0m\u001b[0;34m(\u001b[0m\u001b[0mresponse\u001b[0m\u001b[0;34m)\u001b[0m\u001b[0;34m\u001b[0m\u001b[0;34m\u001b[0m\u001b[0m\n",
      "\u001b[0;32m~/opt/anaconda3/lib/python3.8/site-packages/selenium/webdriver/remote/remote_connection.py\u001b[0m in \u001b[0;36mexecute\u001b[0;34m(self, command, params)\u001b[0m\n\u001b[1;32m    419\u001b[0m         \u001b[0mdata\u001b[0m \u001b[0;34m=\u001b[0m \u001b[0mutils\u001b[0m\u001b[0;34m.\u001b[0m\u001b[0mdump_json\u001b[0m\u001b[0;34m(\u001b[0m\u001b[0mparams\u001b[0m\u001b[0;34m)\u001b[0m\u001b[0;34m\u001b[0m\u001b[0;34m\u001b[0m\u001b[0m\n\u001b[1;32m    420\u001b[0m         \u001b[0murl\u001b[0m \u001b[0;34m=\u001b[0m \u001b[0;34mf\"{self._url}{path}\"\u001b[0m\u001b[0;34m\u001b[0m\u001b[0;34m\u001b[0m\u001b[0m\n\u001b[0;32m--> 421\u001b[0;31m         \u001b[0;32mreturn\u001b[0m \u001b[0mself\u001b[0m\u001b[0;34m.\u001b[0m\u001b[0m_request\u001b[0m\u001b[0;34m(\u001b[0m\u001b[0mcommand_info\u001b[0m\u001b[0;34m[\u001b[0m\u001b[0;36m0\u001b[0m\u001b[0;34m]\u001b[0m\u001b[0;34m,\u001b[0m \u001b[0murl\u001b[0m\u001b[0;34m,\u001b[0m \u001b[0mbody\u001b[0m\u001b[0;34m=\u001b[0m\u001b[0mdata\u001b[0m\u001b[0;34m)\u001b[0m\u001b[0;34m\u001b[0m\u001b[0;34m\u001b[0m\u001b[0m\n\u001b[0m\u001b[1;32m    422\u001b[0m \u001b[0;34m\u001b[0m\u001b[0m\n\u001b[1;32m    423\u001b[0m     \u001b[0;32mdef\u001b[0m \u001b[0m_request\u001b[0m\u001b[0;34m(\u001b[0m\u001b[0mself\u001b[0m\u001b[0;34m,\u001b[0m \u001b[0mmethod\u001b[0m\u001b[0;34m,\u001b[0m \u001b[0murl\u001b[0m\u001b[0;34m,\u001b[0m \u001b[0mbody\u001b[0m\u001b[0;34m=\u001b[0m\u001b[0;32mNone\u001b[0m\u001b[0;34m)\u001b[0m\u001b[0;34m:\u001b[0m\u001b[0;34m\u001b[0m\u001b[0;34m\u001b[0m\u001b[0m\n",
      "\u001b[0;32m~/opt/anaconda3/lib/python3.8/site-packages/selenium/webdriver/remote/remote_connection.py\u001b[0m in \u001b[0;36m_request\u001b[0;34m(self, method, url, body)\u001b[0m\n\u001b[1;32m    441\u001b[0m \u001b[0;34m\u001b[0m\u001b[0m\n\u001b[1;32m    442\u001b[0m         \u001b[0;32mif\u001b[0m \u001b[0mself\u001b[0m\u001b[0;34m.\u001b[0m\u001b[0mkeep_alive\u001b[0m\u001b[0;34m:\u001b[0m\u001b[0;34m\u001b[0m\u001b[0;34m\u001b[0m\u001b[0m\n\u001b[0;32m--> 443\u001b[0;31m             \u001b[0mresp\u001b[0m \u001b[0;34m=\u001b[0m \u001b[0mself\u001b[0m\u001b[0;34m.\u001b[0m\u001b[0m_conn\u001b[0m\u001b[0;34m.\u001b[0m\u001b[0mrequest\u001b[0m\u001b[0;34m(\u001b[0m\u001b[0mmethod\u001b[0m\u001b[0;34m,\u001b[0m \u001b[0murl\u001b[0m\u001b[0;34m,\u001b[0m \u001b[0mbody\u001b[0m\u001b[0;34m=\u001b[0m\u001b[0mbody\u001b[0m\u001b[0;34m,\u001b[0m \u001b[0mheaders\u001b[0m\u001b[0;34m=\u001b[0m\u001b[0mheaders\u001b[0m\u001b[0;34m)\u001b[0m\u001b[0;34m\u001b[0m\u001b[0;34m\u001b[0m\u001b[0m\n\u001b[0m\u001b[1;32m    444\u001b[0m             \u001b[0mstatuscode\u001b[0m \u001b[0;34m=\u001b[0m \u001b[0mresp\u001b[0m\u001b[0;34m.\u001b[0m\u001b[0mstatus\u001b[0m\u001b[0;34m\u001b[0m\u001b[0;34m\u001b[0m\u001b[0m\n\u001b[1;32m    445\u001b[0m         \u001b[0;32melse\u001b[0m\u001b[0;34m:\u001b[0m\u001b[0;34m\u001b[0m\u001b[0;34m\u001b[0m\u001b[0m\n",
      "\u001b[0;32m~/opt/anaconda3/lib/python3.8/site-packages/urllib3/request.py\u001b[0m in \u001b[0;36mrequest\u001b[0;34m(self, method, url, fields, headers, **urlopen_kw)\u001b[0m\n\u001b[1;32m     76\u001b[0m             )\n\u001b[1;32m     77\u001b[0m         \u001b[0;32melse\u001b[0m\u001b[0;34m:\u001b[0m\u001b[0;34m\u001b[0m\u001b[0;34m\u001b[0m\u001b[0m\n\u001b[0;32m---> 78\u001b[0;31m             return self.request_encode_body(\n\u001b[0m\u001b[1;32m     79\u001b[0m                 \u001b[0mmethod\u001b[0m\u001b[0;34m,\u001b[0m \u001b[0murl\u001b[0m\u001b[0;34m,\u001b[0m \u001b[0mfields\u001b[0m\u001b[0;34m=\u001b[0m\u001b[0mfields\u001b[0m\u001b[0;34m,\u001b[0m \u001b[0mheaders\u001b[0m\u001b[0;34m=\u001b[0m\u001b[0mheaders\u001b[0m\u001b[0;34m,\u001b[0m \u001b[0;34m**\u001b[0m\u001b[0murlopen_kw\u001b[0m\u001b[0;34m\u001b[0m\u001b[0;34m\u001b[0m\u001b[0m\n\u001b[1;32m     80\u001b[0m             )\n",
      "\u001b[0;32m~/opt/anaconda3/lib/python3.8/site-packages/urllib3/request.py\u001b[0m in \u001b[0;36mrequest_encode_body\u001b[0;34m(self, method, url, fields, headers, encode_multipart, multipart_boundary, **urlopen_kw)\u001b[0m\n\u001b[1;32m    168\u001b[0m         \u001b[0mextra_kw\u001b[0m\u001b[0;34m.\u001b[0m\u001b[0mupdate\u001b[0m\u001b[0;34m(\u001b[0m\u001b[0murlopen_kw\u001b[0m\u001b[0;34m)\u001b[0m\u001b[0;34m\u001b[0m\u001b[0;34m\u001b[0m\u001b[0m\n\u001b[1;32m    169\u001b[0m \u001b[0;34m\u001b[0m\u001b[0m\n\u001b[0;32m--> 170\u001b[0;31m         \u001b[0;32mreturn\u001b[0m \u001b[0mself\u001b[0m\u001b[0;34m.\u001b[0m\u001b[0murlopen\u001b[0m\u001b[0;34m(\u001b[0m\u001b[0mmethod\u001b[0m\u001b[0;34m,\u001b[0m \u001b[0murl\u001b[0m\u001b[0;34m,\u001b[0m \u001b[0;34m**\u001b[0m\u001b[0mextra_kw\u001b[0m\u001b[0;34m)\u001b[0m\u001b[0;34m\u001b[0m\u001b[0;34m\u001b[0m\u001b[0m\n\u001b[0m",
      "\u001b[0;32m~/opt/anaconda3/lib/python3.8/site-packages/urllib3/poolmanager.py\u001b[0m in \u001b[0;36murlopen\u001b[0;34m(self, method, url, redirect, **kw)\u001b[0m\n\u001b[1;32m    373\u001b[0m             \u001b[0mresponse\u001b[0m \u001b[0;34m=\u001b[0m \u001b[0mconn\u001b[0m\u001b[0;34m.\u001b[0m\u001b[0murlopen\u001b[0m\u001b[0;34m(\u001b[0m\u001b[0mmethod\u001b[0m\u001b[0;34m,\u001b[0m \u001b[0murl\u001b[0m\u001b[0;34m,\u001b[0m \u001b[0;34m**\u001b[0m\u001b[0mkw\u001b[0m\u001b[0;34m)\u001b[0m\u001b[0;34m\u001b[0m\u001b[0;34m\u001b[0m\u001b[0m\n\u001b[1;32m    374\u001b[0m         \u001b[0;32melse\u001b[0m\u001b[0;34m:\u001b[0m\u001b[0;34m\u001b[0m\u001b[0;34m\u001b[0m\u001b[0m\n\u001b[0;32m--> 375\u001b[0;31m             \u001b[0mresponse\u001b[0m \u001b[0;34m=\u001b[0m \u001b[0mconn\u001b[0m\u001b[0;34m.\u001b[0m\u001b[0murlopen\u001b[0m\u001b[0;34m(\u001b[0m\u001b[0mmethod\u001b[0m\u001b[0;34m,\u001b[0m \u001b[0mu\u001b[0m\u001b[0;34m.\u001b[0m\u001b[0mrequest_uri\u001b[0m\u001b[0;34m,\u001b[0m \u001b[0;34m**\u001b[0m\u001b[0mkw\u001b[0m\u001b[0;34m)\u001b[0m\u001b[0;34m\u001b[0m\u001b[0;34m\u001b[0m\u001b[0m\n\u001b[0m\u001b[1;32m    376\u001b[0m \u001b[0;34m\u001b[0m\u001b[0m\n\u001b[1;32m    377\u001b[0m         \u001b[0mredirect_location\u001b[0m \u001b[0;34m=\u001b[0m \u001b[0mredirect\u001b[0m \u001b[0;32mand\u001b[0m \u001b[0mresponse\u001b[0m\u001b[0;34m.\u001b[0m\u001b[0mget_redirect_location\u001b[0m\u001b[0;34m(\u001b[0m\u001b[0;34m)\u001b[0m\u001b[0;34m\u001b[0m\u001b[0;34m\u001b[0m\u001b[0m\n",
      "\u001b[0;32m~/opt/anaconda3/lib/python3.8/site-packages/urllib3/connectionpool.py\u001b[0m in \u001b[0;36murlopen\u001b[0;34m(self, method, url, body, headers, retries, redirect, assert_same_host, timeout, pool_timeout, release_conn, chunked, body_pos, **response_kw)\u001b[0m\n\u001b[1;32m    781\u001b[0m                 \u001b[0;34m\"Retrying (%r) after connection broken by '%r': %s\"\u001b[0m\u001b[0;34m,\u001b[0m \u001b[0mretries\u001b[0m\u001b[0;34m,\u001b[0m \u001b[0merr\u001b[0m\u001b[0;34m,\u001b[0m \u001b[0murl\u001b[0m\u001b[0;34m\u001b[0m\u001b[0;34m\u001b[0m\u001b[0m\n\u001b[1;32m    782\u001b[0m             )\n\u001b[0;32m--> 783\u001b[0;31m             return self.urlopen(\n\u001b[0m\u001b[1;32m    784\u001b[0m                 \u001b[0mmethod\u001b[0m\u001b[0;34m,\u001b[0m\u001b[0;34m\u001b[0m\u001b[0;34m\u001b[0m\u001b[0m\n\u001b[1;32m    785\u001b[0m                 \u001b[0murl\u001b[0m\u001b[0;34m,\u001b[0m\u001b[0;34m\u001b[0m\u001b[0;34m\u001b[0m\u001b[0m\n",
      "\u001b[0;32m~/opt/anaconda3/lib/python3.8/site-packages/urllib3/connectionpool.py\u001b[0m in \u001b[0;36murlopen\u001b[0;34m(self, method, url, body, headers, retries, redirect, assert_same_host, timeout, pool_timeout, release_conn, chunked, body_pos, **response_kw)\u001b[0m\n\u001b[1;32m    781\u001b[0m                 \u001b[0;34m\"Retrying (%r) after connection broken by '%r': %s\"\u001b[0m\u001b[0;34m,\u001b[0m \u001b[0mretries\u001b[0m\u001b[0;34m,\u001b[0m \u001b[0merr\u001b[0m\u001b[0;34m,\u001b[0m \u001b[0murl\u001b[0m\u001b[0;34m\u001b[0m\u001b[0;34m\u001b[0m\u001b[0m\n\u001b[1;32m    782\u001b[0m             )\n\u001b[0;32m--> 783\u001b[0;31m             return self.urlopen(\n\u001b[0m\u001b[1;32m    784\u001b[0m                 \u001b[0mmethod\u001b[0m\u001b[0;34m,\u001b[0m\u001b[0;34m\u001b[0m\u001b[0;34m\u001b[0m\u001b[0m\n\u001b[1;32m    785\u001b[0m                 \u001b[0murl\u001b[0m\u001b[0;34m,\u001b[0m\u001b[0;34m\u001b[0m\u001b[0;34m\u001b[0m\u001b[0m\n",
      "\u001b[0;32m~/opt/anaconda3/lib/python3.8/site-packages/urllib3/connectionpool.py\u001b[0m in \u001b[0;36murlopen\u001b[0;34m(self, method, url, body, headers, retries, redirect, assert_same_host, timeout, pool_timeout, release_conn, chunked, body_pos, **response_kw)\u001b[0m\n\u001b[1;32m    781\u001b[0m                 \u001b[0;34m\"Retrying (%r) after connection broken by '%r': %s\"\u001b[0m\u001b[0;34m,\u001b[0m \u001b[0mretries\u001b[0m\u001b[0;34m,\u001b[0m \u001b[0merr\u001b[0m\u001b[0;34m,\u001b[0m \u001b[0murl\u001b[0m\u001b[0;34m\u001b[0m\u001b[0;34m\u001b[0m\u001b[0m\n\u001b[1;32m    782\u001b[0m             )\n\u001b[0;32m--> 783\u001b[0;31m             return self.urlopen(\n\u001b[0m\u001b[1;32m    784\u001b[0m                 \u001b[0mmethod\u001b[0m\u001b[0;34m,\u001b[0m\u001b[0;34m\u001b[0m\u001b[0;34m\u001b[0m\u001b[0m\n\u001b[1;32m    785\u001b[0m                 \u001b[0murl\u001b[0m\u001b[0;34m,\u001b[0m\u001b[0;34m\u001b[0m\u001b[0;34m\u001b[0m\u001b[0m\n",
      "\u001b[0;32m~/opt/anaconda3/lib/python3.8/site-packages/urllib3/connectionpool.py\u001b[0m in \u001b[0;36murlopen\u001b[0;34m(self, method, url, body, headers, retries, redirect, assert_same_host, timeout, pool_timeout, release_conn, chunked, body_pos, **response_kw)\u001b[0m\n\u001b[1;32m    753\u001b[0m                 \u001b[0me\u001b[0m \u001b[0;34m=\u001b[0m \u001b[0mProtocolError\u001b[0m\u001b[0;34m(\u001b[0m\u001b[0;34m\"Connection aborted.\"\u001b[0m\u001b[0;34m,\u001b[0m \u001b[0me\u001b[0m\u001b[0;34m)\u001b[0m\u001b[0;34m\u001b[0m\u001b[0;34m\u001b[0m\u001b[0m\n\u001b[1;32m    754\u001b[0m \u001b[0;34m\u001b[0m\u001b[0m\n\u001b[0;32m--> 755\u001b[0;31m             retries = retries.increment(\n\u001b[0m\u001b[1;32m    756\u001b[0m                 \u001b[0mmethod\u001b[0m\u001b[0;34m,\u001b[0m \u001b[0murl\u001b[0m\u001b[0;34m,\u001b[0m \u001b[0merror\u001b[0m\u001b[0;34m=\u001b[0m\u001b[0me\u001b[0m\u001b[0;34m,\u001b[0m \u001b[0m_pool\u001b[0m\u001b[0;34m=\u001b[0m\u001b[0mself\u001b[0m\u001b[0;34m,\u001b[0m \u001b[0m_stacktrace\u001b[0m\u001b[0;34m=\u001b[0m\u001b[0msys\u001b[0m\u001b[0;34m.\u001b[0m\u001b[0mexc_info\u001b[0m\u001b[0;34m(\u001b[0m\u001b[0;34m)\u001b[0m\u001b[0;34m[\u001b[0m\u001b[0;36m2\u001b[0m\u001b[0;34m]\u001b[0m\u001b[0;34m\u001b[0m\u001b[0;34m\u001b[0m\u001b[0m\n\u001b[1;32m    757\u001b[0m             )\n",
      "\u001b[0;32m~/opt/anaconda3/lib/python3.8/site-packages/urllib3/util/retry.py\u001b[0m in \u001b[0;36mincrement\u001b[0;34m(self, method, url, response, error, _pool, _stacktrace)\u001b[0m\n\u001b[1;32m    572\u001b[0m \u001b[0;34m\u001b[0m\u001b[0m\n\u001b[1;32m    573\u001b[0m         \u001b[0;32mif\u001b[0m \u001b[0mnew_retry\u001b[0m\u001b[0;34m.\u001b[0m\u001b[0mis_exhausted\u001b[0m\u001b[0;34m(\u001b[0m\u001b[0;34m)\u001b[0m\u001b[0;34m:\u001b[0m\u001b[0;34m\u001b[0m\u001b[0;34m\u001b[0m\u001b[0m\n\u001b[0;32m--> 574\u001b[0;31m             \u001b[0;32mraise\u001b[0m \u001b[0mMaxRetryError\u001b[0m\u001b[0;34m(\u001b[0m\u001b[0m_pool\u001b[0m\u001b[0;34m,\u001b[0m \u001b[0murl\u001b[0m\u001b[0;34m,\u001b[0m \u001b[0merror\u001b[0m \u001b[0;32mor\u001b[0m \u001b[0mResponseError\u001b[0m\u001b[0;34m(\u001b[0m\u001b[0mcause\u001b[0m\u001b[0;34m)\u001b[0m\u001b[0;34m)\u001b[0m\u001b[0;34m\u001b[0m\u001b[0;34m\u001b[0m\u001b[0m\n\u001b[0m\u001b[1;32m    575\u001b[0m \u001b[0;34m\u001b[0m\u001b[0m\n\u001b[1;32m    576\u001b[0m         \u001b[0mlog\u001b[0m\u001b[0;34m.\u001b[0m\u001b[0mdebug\u001b[0m\u001b[0;34m(\u001b[0m\u001b[0;34m\"Incremented Retry for (url='%s'): %r\"\u001b[0m\u001b[0;34m,\u001b[0m \u001b[0murl\u001b[0m\u001b[0;34m,\u001b[0m \u001b[0mnew_retry\u001b[0m\u001b[0;34m)\u001b[0m\u001b[0;34m\u001b[0m\u001b[0;34m\u001b[0m\u001b[0m\n",
      "\u001b[0;31mMaxRetryError\u001b[0m: HTTPConnectionPool(host='localhost', port=54643): Max retries exceeded with url: /session/2db60fc8d551d6848c95ed930b863619/back (Caused by NewConnectionError('<urllib3.connection.HTTPConnection object at 0x7fd82aecafd0>: Failed to establish a new connection: [Errno 61] Connection refused'))"
     ]
    }
   ],
   "source": [
    "# With everything set, we can start our search for the lost neighborhoods.\n",
    "# We are going to use street address of the houses and find out their neighborhoods using webscraping.\n",
    "from selenium import webdriver\n",
    "from selenium.webdriver.support.ui import WebDriverWait\n",
    "from selenium.webdriver.support import expected_conditions as EC\n",
    "from selenium.webdriver.common.by import By\n",
    "import re\n",
    "\n",
    "PATH = '/Users/felipeveiga/Documents/Jupyter USP/Chrome Driver/chromedriver'\n",
    "driver = webdriver.Chrome(PATH)\n",
    "driver.get('https://duckduckgo.com/')\n",
    "pattern = '([A-z ]+),'\n",
    "\n",
    "streets_no_neighborhood = no_neighborhood['street']\n",
    "\n",
    "for idx, street in zip(streets_no_neighborhood.index, streets_no_neighborhood ) :\n",
    "    search_box = driver.find_element_by_id('search_form_input_homepage')\n",
    "    search_box.clear()\n",
    "    search_box.send_keys(street)\n",
    "    search_box.send_keys(Keys.RETURN)\n",
    "    \n",
    "    try:\n",
    "        neighborhood = WebDriverWait(driver, 10).until(\n",
    "            EC.presence_of_element_located((By.CLASS_NAME, \"address-detail__address\"))\n",
    "        )\n",
    "        \n",
    "        location = re.findall(pattern, neighborhood.text)[0]\n",
    "        if location != 'Boston':\n",
    "            airbnb.loc[idx,'neighbourhood' ]= location\n",
    "            print(airbnb.loc[idx,'neighbourhood' ]) \n",
    "        driver.back()\n",
    "    except:\n",
    "        driver.back()\n",
    "        #raise ValueError('Check if the element exists')\n",
    "        \n",
    "# Pegar, entre as casas sem bairros, aquelas cujo endereço é o nome da cidade em que ela se encontra...\n",
    "# Os endereços reais estão registrados como nome_rua, cidade, estado (...)\n",
    "# Os endereços inválidos seguem o padrão, cidade, estado.\n",
    "\n",
    "# Caso não conhecêssemos que o nome em questão é o de uma cidade, poderíamos inferir isso pela posição\n",
    "# em que a sigla MA está no endereço (2a posição ao invés de 3a)"
   ]
  },
  {
   "cell_type": "code",
   "execution_count": 51,
   "id": "23935730-3854-45f9-b77b-0f6537a1d234",
   "metadata": {},
   "outputs": [
    {
     "name": "stdout",
     "output_type": "stream",
     "text": [
      "6 Kittredge Street, Boston, MA 02131, United States\n",
      "19 Brook St, Boston, MA 02131, United States\n",
      "23 Metropolitan Ave, Boston, MA 02131, United States\n",
      "36 Sheffield Road, Boston, MA 02131, United States\n",
      "54 Weld Hill street, Boston, MA 02131, United States\n",
      "64 Mozart St, Boston, MA 02130, United States\n",
      "88 Day Street, Boston, MA 02130, United States\n",
      "94 Brookline, MA, United States\n",
      "150 Chestnut Ave, Boston, MA 02130, United States\n",
      "176 Bynner Street, Boston, MA 02130, United States\n",
      "188 Saint Peter Street, Boston, MA 02130, United States\n",
      "216 Terrace St, Roxbury Crossing, MA 02120, United States\n",
      "222 Buckley Avenue, Boston, MA 02130, United States\n",
      "225 Boylston Street Jamaica, Jamaica Plain , MA 02130, United States\n",
      "231 McBride Street, Boston, MA 02130, United States\n",
      "244 Burnett Street, Boston, MA 02130, United States\n",
      "255 Williams Street, Boston, MA 02130, United States\n",
      "257 Edge Hill Street, Boston, MA 02130, United States\n",
      "261 Sheridan Street, Boston, MA 02130, United States\n",
      "263 Sylvia St, Boston, MA 02130, United States\n",
      "267 Rockvale Circle, Boston, MA 02130, United States\n",
      "289 Boynton St., Jamaica Plain, MA 02130, United States\n",
      "296 Bourne St, Boston, MA 02131, United States\n",
      "298 Burr Street, Boston, MA 02130, United States\n",
      "300 Arborway, Boston, MA 02130, United States\n",
      "302 Stedman Street, Boston, MA 02130, United States\n",
      "307 Child Street, Boston, MA 02130, United States\n",
      "325 Paul Gore Street, Boston, MA 02130, United States\n",
      "335 Dresden Street, Boston, MA 02130, United States\n",
      "358 Weld Hill Street, Boston, MA 02130, United States\n",
      "373 Goldsmith Street, Boston, MA 02130, United States\n",
      "385 Chestnut Avenue, Jamaica plain , MA 02130, United States\n",
      "405 Pontiac Street, Boston, MA 02120, United States\n",
      "410 S Huntington Ave, Boston, MA 02130, United States\n",
      "413 Estey St, Boston, MA 02120, United States\n",
      "417 C Smith St, Boston, MA 02120, United States\n",
      "440 S Huntington Ave, Boston, MA 02130, United States\n",
      "450 Pontiac Street, Boston, MA 02120, United States\n",
      "458 Terrace Street, Boston, MA 02120, United States\n",
      "460 Pontiac Street, Boston, MA 02120, United States\n",
      "471 Burney Street, Roxbury Crossing, MA 02120, United States\n",
      "483 Lawn Street, boston, MA 02120, United States\n",
      "485 波士顿, MA 02115, United States\n",
      "493 South Huntington Avenue, Boston, MA 02130, United States\n",
      "495 Tremont Street, Boston, MA 02120, United States\n",
      "501 Calumet St, Roxbury Crossing, MA 02120, United States\n",
      "506 Terrace Street, Roxbury Crossing, MA 02120, United States\n",
      "509 Huntington Ave, Boston, MA 02115, United States\n",
      "511 Tremont Street, Boston, MA 02120, United States\n",
      "513 Saint Alphonsus Street, Boston, MA 02120, United States\n",
      "523 Boylston Street, Boston, Massachusetts, US, MA 02215, United States\n",
      "537 Melrose Street, Boston, MA 02116, United States\n",
      "555 Kingston Street, Boston, MA 02111, United States\n",
      "578 Tyler Street, Boston, MA 02111, United States\n",
      "580 Knapp Street, Boston, MA 02111, United States\n",
      "592 Kneeland St, Boston, MA 02111, United States\n",
      "603 kneeland st, Boston, MA 02111, United States\n",
      "615 Essex Street, Boston, MA 02111, United States\n",
      "626 Commercial Street, Boston, MA 02109, United States\n",
      "631 North Street, Boston, MA 02113, United States\n",
      "632 Salem Street, Boston, MA 02113, United States\n",
      "636 Salem Street, Boston, MA 02113, United States\n",
      "644 Goodridge Court, Boston, MA 02113, United States\n",
      "659 Atlantic Avenue, Boston, MA 02110, United States\n",
      "661 Salem Street, Boston, MA 02113, United States\n",
      "674 Cooper Street, Boston, MA 02113, United States\n",
      "685 Cooper St, Boston, MA 02113, United States\n",
      "695 Endicott Street, Boston, MA 02113, United States\n",
      "714 Prince Street, Boston, MA 02113, United States\n",
      "715 Charter Street, Boston, MA 02113, United States\n",
      "725 Endicott Street, Boston, MA 02113, United States\n",
      "727 Fulton St, Boston, MA 02109, United States\n",
      "736 Prince St, Boston, MA 02113, United States\n",
      "747 Cooper Street, Boston, MA 02113, United States\n",
      "750 Fleet Street, Boston, MA 02113, United States\n",
      "759 North Hudson Street, Boston, MA 02113, United States\n",
      "769 Holworthy St, Boston, MA 02121, United States\n",
      "770 Cedar St, Boston, MA 02119, United States\n",
      "771 Centre Street, Boston, MA 02119, United States\n",
      "808 Northampton Street, Boston, MA 02118, United States\n",
      "810 Fort Ave, Boston, MA 02119, United States\n",
      "812 Roxbury St, Boston, MA 02119, United States\n",
      "818 Massachusetts Avenue, Boston, MA 02118, United States\n",
      "820 Gayland Street, Boston, MA 02125, United States\n",
      "823 Harrison Ave, Boston, MA 02119, United States\n",
      "825 Gayland Street, Boston, MA 02125, United States\n",
      "836 Marcella Street, Boston, MA 02119, United States\n",
      "846 Moreland St, Boston, MA 02119, United States\n",
      "849 Elm Hill Park, Boston, MA 02121, United States\n",
      "852 Albany Street, Boston, MA 02119, United States\n",
      "858 Columbus Ave, Boston, MA 02118, United States\n",
      "859 Tremont Street, Boston, MA 02120, United States\n",
      "866 Dorr St, Boston, MA 02119, United States\n",
      "870 Tremont Street, Boston, MA 02120, United States\n",
      "872 Mount Pleasant Avenue, Boston, MA 02119, United States\n",
      "874 Columbus Ave, South End, Boston, MA 02118, United States\n",
      "878 Alvah Kittredge Park, Boston, MA 02119, United States\n",
      "882 Holworthy St, Boston, MA, United States\n",
      "887 Massachusetts Avenue, Boston, MA 02118, United States\n",
      "889 Tremont Street, Boston, MA 02120, United States\n",
      "890 Hammond St, Roxbury Crossing, MA 02120, United States\n",
      "897 Moreland St, Boston, MA 02119, United States\n",
      "900 Hartford St, Boston, MA 02125, United States\n",
      "903 Moreland St, Boston, MA 02119, United States\n",
      "904 Moreland St, Boston, MA 02119, United States\n",
      "906 Perrin Street, Boston, MA 02119, United States\n",
      "907 Massachusetts Avenue, Boston, MA 02118, United States\n",
      "910 Centre Street, Boston, MA 02119, United States\n",
      "942 Harrison Avenue, Boston, MA 02118, United States\n",
      "974 Worcester Square, Boston, MA 02118, United States\n",
      "983 E Berkeley St, Boston, MA 02118, United States\n",
      "993 Rutland Square, Boston, MA 02118, United States\n",
      "1003 Shawmut Avenue, Boston, MA 02118, United States\n",
      "1012 West Brookline Street, Boston, MA 02118, United States\n",
      "1019 Chandler Street, Boston, MA 02116, United States\n",
      "1023 Washington Street, Boston, MA 02118, United States\n",
      "1034 Worcester Square, Boston, MA 02118, United States\n",
      "1036 Worcester Street, Boston, MA 02118, United States\n",
      "1041 E Concord St, Boston, MA 02118, United States\n",
      "1049 Appleton Street, Boston, MA 02116, United States\n",
      "1050 E Berkeley St, Boston, MA 02118, United States\n",
      "1064 Montgomery Street, Boston, MA 02116, United States\n",
      "1074 Pembroke St, Boston, MA 02116, United States\n",
      "1086 Appleton St, Boston, MA 02116, United States\n",
      "1087 E Berkeley St, Boston, MA 02118, United States\n",
      "1104 Massachusetts Ave, Boston, MA 02118, United States\n",
      "1105 Harrison Avenue, Boston, MA 02118, United States\n",
      "1123 Tremont St, Boston, MA 02118, United States\n",
      "1131 Chandler St, Boston, MA 02116, United States\n",
      "1145 Yarmouth Street, Boston, MA 02116, United States\n",
      "1146 West Concord Street, Boston, MA 02118, United States\n",
      "1154 Shawmut Avenue, Boston, MA 02118, United States\n",
      "1157 West Concord Street, Boston, MA 02118, United States\n",
      "1175 Massachusetts Avenue, Boston, MA 02118, United States\n",
      "1184 East Springfield, Boston, MA 02218, United States\n",
      "1192 Chandler Street, unit, Boston, MA 02116, United States\n",
      "1198 Shawmut Avenue, Boston, MA 02118, United States\n",
      "1225 Concord Square, Boston, MA 02118, United States\n",
      "1246 Garrison Street, Boston, MA 02116, United States\n",
      "1266 Massachusetts Avenue, Boston, MA 02115, United States\n",
      "1274 Newbury Street, Boston, MA 02115, United States\n",
      "1294 Garrison Street, Boston, MA 02116, United States\n",
      "1304 Newbury Street, Boston, MA 02116, United States\n",
      "1305 Chandler Street, Boston, MA 02116, United States\n",
      "1312 Garrison Street, Boston, MA 02116, United States\n",
      "1325 Newbury Street, Boston, MA 02116, United States\n",
      "1336 Garrison Street, Boston, MA 02116, United States\n",
      "1349 Boylston St, Boston, MA 02115, United States\n",
      "1351 Commonwealth Avenue, Boston, MA 02116, United States\n",
      "1353 Massachusetts Avenue, Boston, MA 02115, United States\n",
      "1354 Garrison Street, Boston, MA 02116, United States\n",
      "1378 Massachusetts Ave, Boston, MA 02115, United States\n",
      "1380 Appleton Street, Boston, MA 02116, United States\n",
      "1393 Gloucester Street, Boston, MA 02115, United States\n",
      "1395 Marlborough Street, Boston, MA 02116, United States\n",
      "1423 Beacon Street, Boston, MA 02116, United States\n",
      "1427 Garrison St, Boston, MA 02116, United States\n",
      "1436 Garrison Street, Boston, MA 02116, United States\n",
      "1447 Beacon Street, Boston, MA 02116, United States\n",
      "1458 Beacon Street, Boston, MA 02116, United States\n",
      "1459 Beacon Street, Boston, MA 02215, United States\n",
      "1476 Garrison Street, Boston, MA 02116, United States\n",
      "1477 Newbury Street, Boston, MA 02115, United States\n",
      "1494 Commonwealth Avenue, Boston, MA 02215, United States\n",
      "1496 Marlborough Street, Boston, MA 02116, United States\n",
      "1497 Beacon Street, Boston, MA 02116, United States\n",
      "1503 Arlington Street, Boston, MA 02116, United States\n",
      "1505 Beacon St, Boston, MA 02115, United States\n",
      "1513 Gloucester Street, Boston, MA 02115, United States\n",
      "1514 Gloucester St, Boston, MA 02115, United States\n",
      "1522 Newbury Street, Boston, MA 02116, United States\n",
      "1524 Commonwealth Avenue, Boston, MA 02115, United States\n",
      "1538 Third Street, Cambridge, MA 02142, United States\n",
      "1539 Massachusetts Avenue, Boston, MA 02118, United States\n",
      "1543 Cottage Street, East Boston, MA 02128, United States\n",
      "1545 Gladstone Street, Boston, MA 02128, United States\n",
      "1546 Sumner Street, Boston, MA 02128, United States\n",
      "1548 Maverick St, Boston, MA 02128, United States\n",
      "1554 Lexington St, Boston, MA 02128, United States\n",
      "1573 Chelsea Street, Boston, MA 02128, United States\n",
      "1574 Maverick Street, Boston, MA 02128, United States\n",
      "1580 SUMNER St (back of 119 SUMNER), Boston, MA 02128, United States\n",
      "1581 Leyden Street, Boston, MA 02128, United States\n",
      "1594 Cottage St, Boston, MA 02128, United States\n",
      "1595 Trenton St, Boston, MA 02128, United States\n",
      "1597 Frankfort Street, Boston, MA 02128, United States\n",
      "1598 Shelby St, Boston, MA 02128, United States\n",
      "1600 Gladstone Street, Boston, MA 02128, United States\n",
      "1614 Sumner Street, Boston, MA 02128, United States\n",
      "1616 Sumner Street, Boston, MA 02128, United States\n",
      "1629 Saratoga St, Boston, MA 02128, United States\n",
      "1633 Havre Street, Boston, MA 02128, United States\n",
      "1638 Trenton St, Boston, MA 02128, United States\n",
      "1643 Paris St, Boston, MA 02128, United States\n",
      "1653 Sumner Street, Boston, MA 02128, United States\n",
      "1664 Maverick St, Boston, MA 02128, United States\n",
      "1667 Sumner Street, Boston, MA 02128, United States\n",
      "1674 Sumner St, Boston, MA 02128, United States\n",
      "1683 Saratoga Street, Boston, MA 02128, United States\n",
      "1685 Lubec St, Boston, MA 02128, United States\n",
      "1686 Sumner Street, Boston, MA 02128, United States\n",
      "1689 Saratoga Street, Boston, MA 02128, United States\n",
      "1692 Parker St, Boston, MA 02129, United States\n",
      "1698 Cross St, Boston, MA 02129, United States\n",
      "1705 Mead Street, Boston, MA 02129, United States\n",
      "1713 Chestnut St, Boston, MA 02129, United States\n",
      "1727 Bunker Hill Street, Boston, MA 02129, United States\n",
      "1738 Elm Street, Charlestown, MA 02129, United States\n",
      "1743 Chestnut Street, Boston, MA 02129, United States\n",
      "1749 Main Street, Boston, MA 02129, United States\n",
      "1758 Auburn Street, Boston, MA 02129, United States\n",
      "1759 Park Street, Boston, MA 02129, United States\n",
      "1774 1st Avenue, Boston, MA 02129, United States\n",
      "1787 Emerson Place, Boston, MA 02114, United States\n",
      "1790 Blossom Street, Boston, MA 02114, United States\n",
      "1794 Revere Street, Boston, MA 02114, United States\n",
      "1802 Blossom Street, Boston, MA 02114, United States\n",
      "1823 Lindall Place, Boston, MA 02114, United States\n",
      "1826 Emerson Place, Boston, MA 02114, United States\n",
      "1836 Anderson St, Boston, MA 02114, United States\n",
      "1839 Beacon Street, Boston, MA 02116, United States\n",
      "1845 Joy Street, Boston, MA 02108, United States\n",
      "1857 Anderson Street, Boston, MA 02114, United States\n",
      "1861 West Cedar Street, Boston, MA 02114, United States\n",
      "1865 Myrtle St, Boston, MA 02114, United States\n",
      "1874 Temple Street, Boston, MA 02114, United States\n",
      "1876 West Cedar Street, Boston, MA 02114, United States\n",
      "1879 Mount Vernon Street, Boston, MA 02108, United States\n",
      "1888 Revere St, Boston, MA 02114, United States\n",
      "1893 West Cedar Street, Boston, MA 02114, United States\n",
      "1894 Irving Street, Boston, MA 02114, United States\n",
      "1896 Myrtle Street, Boston, MA 02114, United States\n",
      "1897 Charles Street, Boston, MA 02114, United States\n",
      "1898 Goodwin Place, Boston, MA 02114, United States\n",
      "1905 West Cedar Street, Boston, MA 02114, United States\n",
      "1906 Joy Street, Boston, MA 02114, United States\n",
      "1916 Boylston Street, Boston, MA 02116, United States\n",
      "1921 Beacon Street, Boston, MA 02108, United States\n",
      "1923 Cedar Lane Way, Boston, MA 02108, United States\n",
      "1930 Anderson Street, Boston, MA 02114, United States\n",
      "1931 Anderson St, Boston, MA 02114, United States\n",
      "1938 Myrtle St, Boston, MA 02114, United States\n",
      "1949 Charles Street, Boston, MA 02114, United States\n",
      "1950 Myrtle Street, unit, Boston, MA 02114, United States\n",
      "1951 West Cedar Street, Boston, MA 02114, United States\n",
      "1954 Primus Avenue, Boston, MA 02114, United States\n",
      "1955 Tremont Street, Boston, MA 02111, United States\n",
      "1958 Irving Street, Boston, MA 02114, United States\n",
      "1961 Columbus Avenue, Boston, MA 02118, United States\n",
      "1963 Beacon Street, Boston, MA 02108, United States\n",
      "1971 Goodwin Place, Boston, MA 02114, United States\n",
      "1979 Anderson Street, Boston, MA 02114, United States\n",
      "1985 Revere Street, Boston, MA 02114, United States\n",
      "2009 Myrtle St, Boston, MA 02114, United States\n",
      "2022 Anderson Pl, Boston, MA 02114, United States\n",
      "2029 Washington Street, Boston, MA 02116, United States\n",
      "2037 Tremont Street, Boston, MA 02116, United States\n",
      "2048 Temple Place, Boston, MA 02111, United States\n",
      "2049 Beacon Street, Boston, MA 02108, United States\n",
      "2051 School Street, Watertown, MA 02472, United States\n",
      "2054 Boylston Street, Boston, MA 02116, United States\n",
      "2057 McKinley Square, Boston, MA 02109, United States\n",
      "2064 Pine Street, Boston, MA 02111, United States\n",
      "2085 McKinley Square, Boston, MA 02109, United States\n",
      "2102 Tremont Street, Boston, MA 02116, United States\n",
      "2106 Stuart Street, Boston, MA 02116, United States\n",
      "2111 Stuart Street, Boston, MA 02116, United States\n",
      "2112 Milk Street, Boston, MA 02109, United States\n",
      "2129 Winter Street, Boston, MA 02122, United States\n",
      "2136 Washington St, Boston, MA 02111, United States\n",
      "2152 Kingston Street, Boston, MA 02111, United States\n",
      "2157 Winter St, Boston, MA 02111, United States\n",
      "2163 Boylston St, Boston, MA 02116, United States\n",
      "2168 Tremont Street, Boston, MA 02116, United States\n",
      "2169 Boylston St, Boston, MA 02116, United States\n",
      "2171 Milk Street, Boston, MA 02109, United States\n",
      "2172 North Washington Street, Boston, MA 02114, United States\n",
      "2184 Temple Place, Boston, MA 02111, United States\n",
      "2207 Burbank Street, Boston, MA 02115, United States\n",
      "2209 Park Drive, Boston, MA 02215, United States\n",
      "2224 Saint Stephen Street, Boston, MA 02115, United States\n",
      "2228 Boylston Street, Boston, MA 02215, United States\n",
      "2234 Westland Ave, Boston, MA 02115, United States\n",
      "2241 Huntington Avenue, Boston, MA 02115, United States\n",
      "2244 Brookline Avenue, Boston, MA 02215, United States\n",
      "2251 Bay State Road, Boston, MA 02215, United States\n",
      "2258 Park Dr, Boston, MA 02215, United States\n",
      "2262 Bay State Road, Boston, MA 02215, United States\n",
      "2268 Medfield Street, Boston, MA 02215, United States\n",
      "2269 Peterborough St, Boston, MA 02215, United States\n",
      "2271 Park Dr, Boston, MA 02215, United States\n",
      "2273 Westland Ave, Boston, MA 02115, United States\n",
      "2275 Brookline Avenue, Boston, MA 02215, United States\n",
      "2282 Brookline Avenue, Boston, MA 02215, United States\n",
      "2295 Burbank Street, Boston, MA 02115, United States\n",
      "2344 Miner Street, Boston, MA 02215, United States\n",
      "2345 Park Drive, Boston, MA 02215, United States\n",
      "2348 Charlesgate West, Boston, MA 02215, United States\n",
      "2357 Bay State Road, Boston, MA 02215, United States\n",
      "2358 Bay State Road, Boston, MA 02215, United States\n",
      "2365 Burbank St, Boston, MA 02115, United States\n",
      "2367 Newbury St, Boston, MA 02115, United States\n",
      "2372 Massachusetts Avenue, Boston, MA 02115, United States\n",
      "2386 Burbank Street, Boston, MA 02115, United States\n",
      "2413 Westland Avenue, Boston, MA 02115, United States\n",
      "2416 Brookline Avenue, Boston, MA 02215, United States\n",
      "2417 Boylston Street, Boston, MA 02215, United States\n",
      "2429 Massachusetts Avenue, Boston, MA 02115, United States\n",
      "2430 Park Drive, Boston, MA 02215, United States\n",
      "2438 Burbank Street, Boston, MA 02115, United States\n",
      "2439 Peterborough Street, Boston, MA 02215, United States\n",
      "2443 Hemenway Street, Boston, MA 02115, United States\n",
      "2450 Park Drive, Boston, MA 02215, United States\n",
      "2474 Commonwealth Avenue, Boston, MA 02215, United States\n",
      "2478 Commonwealth Avenue, Boston, MA 02215, United States\n",
      "2501 Sidlaw Road, Boston, MA 02135, United States\n",
      "2502 Commonwealth Avenue, Boston, MA 02135, United States\n",
      "2506 Sutherland Rd, Boston, MA 02135, United States\n",
      "2507 Vinal Street, Boston, MA 02135, United States\n",
      "2509 vinal street, Boston, MA 02135, United States\n",
      "2538 Strathmore Road, Boston, MA 02135, United States\n",
      "2541 Englewood Avenue, Boston, MA 02135, United States\n",
      "2556 Allston Street, Boston, MA 02134, United States\n",
      "2569 Corey Road, Brighton, MA 02135, United States\n",
      "2581 Washington Street, Brighton , MA 02135, United States\n",
      "2585 Summit Avenue, Boston, MA 02135, United States\n",
      "2589 Washington Street, Boston, MA 02111, United States\n",
      "2592 Winship Street, Boston, MA 02135, United States\n",
      "2594 Commonwealth Avenue, Boston, MA 02135, United States\n",
      "2596 Washington Street, Boston, MA 02135, United States\n",
      "2629 Winship Street, Boston, MA 02135, United States\n",
      "2632 Nottinghill Road, Brighton, MA 02135, United States\n",
      "2654 Tremont Place, Brighton, MA 02135, United States\n",
      "2660 Commonwealth Avenue, Boston, MA 02135, United States\n",
      "2661 North Harvard Street, Boston, MA 02134, United States\n",
      "2672 Johnson Street, Boston, MA 02132, United States\n",
      "2673 Brookline, MA 02467, United States\n",
      "2675 Park Street, Boston, MA 02132, United States\n",
      "2690 Grove St, West Roxbury, MA 02132, United States\n",
      "2697 Manthorne Rd, Boston, MA 02132, United States\n",
      "2699 Manthorne Road, Boston, MA 02132, United States\n",
      "2700 Johnson Street, Boston, MA 02132, United States\n",
      "2717 Chittick Road, Boston, MA 02136, United States\n",
      "2723 Joyce Road, Boston, MA 02136, United States\n",
      "2727 Huntington Avenue, Boston, MA 02136, United States\n",
      "2729 Webster Street, Boston, MA 02136, United States\n",
      "2734 Van Brunt St, Boston, MA 02136, United States\n",
      "2736 Rosbery Road, Hyde Park, MA 02136, United States\n",
      "2737 Highland St, Boston, MA 02136, United States\n",
      "2748 Wellington Hill St, Boston, MA 02126, United States\n",
      "2749 Wellington Hill St, Boston, MA 02126, United States\n",
      "2750 Wellington hill St, Boston, MA 02126, United States\n",
      "2755 Oakridge Street, Boston, MA 02126, United States\n",
      "2756 Duke Street, Boston, MA 02126, United States\n",
      "2762 Capen Street, Milton, MA 02186, United States\n",
      "2764 Wellington Hill St, Boston, MA 02126, United States\n",
      "2766 Maryknoll Street, Boston, MA 02126, United States\n",
      "2774 Maryknoll Street, Boston, MA 02126, United States\n",
      "2777 Aspinwall Rd, Boston, MA 02124, United States\n",
      "2778 Stockton Street, Boston, MA 02124, United States\n",
      "2787 Norfolk Street, Boston, MA 02124, United States\n",
      "2789 Washington St, Dorchester, MA 02124, United States\n",
      "2794 Rosedale St, Boston, MA 02124, United States\n",
      "2797 Geneva Avenue, Boston, MA 02121, United States\n",
      "2799 milk street, Boston, Massachusetts, US, MA 02169, United States\n",
      "2800 Geneva Avenue, Boston, MA 02121, United States\n",
      "2810 Mount Vernon St, Boston, MA 02125, United States\n",
      "2813 Stockton Street, Boston, MA 02124, United States\n",
      "2815 Stockton Street, Boston, MA 02124, United States\n",
      "2816 Rosedale Street, Boston, MA 02124, United States\n",
      "2820 Brent Street, Boston, MA 02124, United States\n",
      "2822 Stockton Street, Boston, MA 02124, United States\n",
      "2824 Saco St, Boston, MA 02122, United States\n",
      "2826 Mount Vernon Street, Boston, MA 02125, United States\n",
      "2832 Willow Court, Boston, MA 02125, United States\n",
      "2833 Adams Street, Boston, MA 02122, United States\n",
      "2838 Armandine Street, Boston, MA 02124, United States\n",
      "2840 Belfort Street, Dorchester, MA 02125, United States\n",
      "2842 Hamilton Street, Boston, MA 02125, United States\n",
      "2849 Geneva Avenue, Boston, MA 02121, United States\n",
      "2851 Sydney Street, Boston, MA 02125, United States\n",
      "2860 Savin Hill Avenue, Boston, MA 02125, United States\n",
      "2865 Gayland St, Boston, MA 02125, United States\n",
      "2867 Hubbardston Rd, Boston, MA 02125, United States\n",
      "2869 Fayston St, Boston, MA 02121, United States\n",
      "2873 Nixon Street, Boston, MA 02124, United States\n",
      "2875 Blue Hill Avenue, Boston, MA 02124, United States\n",
      "2879 Stockton Street, Boston, MA 02124, United States\n",
      "2900 Lonsdale Street, Boston, MA 02124, United States\n",
      "2901 E Cottage St, Boston, MA 02125, United States\n",
      "2903 Lonsdale Street, Boston, MA 02124, United States\n",
      "2906 Lindsey St, Boston, MA 02124, United States\n",
      "2909 Nixon Street, Boston, MA 02124, United States\n",
      "2911 Dix Street, Boston, MA 02122, United States\n",
      "2918 Talbot Ave Unit, Boston, MA 02124, United States\n",
      "2919 E Cottage St, Boston, MA 02125, United States\n",
      "2921 Lonsdale Street, Boston, MA 02124, United States\n",
      "2929 Adams Street, Boston, MA 02122, United States\n",
      "2930 Stockton Street, Boston, MA 02124, United States\n",
      "2931 Lonsdale Street, Boston, MA 02124, United States\n",
      "2940 Samoset Street, Boston, MA 02124, United States\n",
      "2948 Nelson St, Boston, MA 02124, United States\n",
      "2951 Brent Street, Boston, MA 02124, United States\n",
      "2957 East Street, Boston, MA 02122, United States\n",
      "2958 Stockton Street, Boston, MA 02124, United States\n",
      "2960 Gallivan Boulevard, Boston, MA 02124, United States\n",
      "2965 King Street, Boston, MA 02122, United States\n",
      "2971 Grampian Way, Boston, MA 02125, United States\n",
      "2989 Norfolk Street, Boston, MA 02124, United States\n",
      "2990 Welles Avenue, Boston, MA 02124, United States\n",
      "3000 Brent Street, Boston, MA 02124, United States\n",
      "3010 Sydney Street, Boston, MA 02125, United States\n",
      "3011 Lyndhurst Street, Boston, MA 02124, United States\n",
      "3018 Silloway Street, Boston, MA 02124, United States\n",
      "3019 Nixon Street, Boston, MA 02124, United States\n",
      "3023 Geneva Avenue, Boston, MA 02121, United States\n",
      "3030 Geneva Avenue, Boston, MA, United States\n",
      "3033 Crescent Avenue, Boston, MA 02125, United States\n",
      "3034 Stockton Street, Boston, MA 02124, United States\n",
      "3036 Congress Street, Boston, MA 02210, United States\n",
      "3041 Seaport Boulevard, Boston, MA 02210, United States\n",
      "3042 A St, Boston, MA 02210, United States\n",
      "3044 Harborview Lane, Boston, MA 02210, United States\n",
      "3045 Farnsworth Street, Boston, MA 02210, United States\n",
      "3046 Park Ln, Boston, MA 02210, United States\n",
      "3054 W 3rd St, Boston, MA 02127, United States\n",
      "3065 Harborview Lane, Boston, MA 02210, United States\n",
      "3083 Seaport Boulevard, Boston, MA 02210, United States\n",
      "3086 West 2nd Street, Boston, MA 02127, United States\n",
      "3087 Northern Ave, Boston, MA 02210, United States\n",
      "3088 Park Lane, Boston, MA 02210, United States\n",
      "3089 Park Lane, Boston, MA 02210, United States\n",
      "3101 Farnsworth Street, Boston, MA 02210, United States\n",
      "3109 Harborview Lane, Boston, MA 02210, United States\n",
      "3110 Park Lane, Boston, MA 02210, United States\n",
      "3111 Harborview Lane, Boston, MA 02210, United States\n",
      "3118 Park Lane, Boston, MA 02210, United States\n",
      "3123 E Broadway, Boston, MA 02127, United States\n",
      "3134 Athens Street, Boston, MA 02127, United States\n",
      "3139 East 2nd Street, Boston, MA 02127, United States\n",
      "3141 East 2nd Street, Boston, MA 02127, United States\n",
      "3146 Athens Street, Boston, MA 02127, United States\n",
      "3158 East 2nd Street, Boston, MA 02127, United States\n",
      "3165 E 3rd St, Boston, MA 02127, United States\n",
      "3166 Earl Street, Boston, MA 02127, United States\n",
      "3176 Humboldt Pl, Boston, MA 02127, United States\n",
      "3179 Leonard Pl, Boston, MA 02127, United States\n",
      "3182 West Broadway, Boston, MA 02127, United States\n",
      "3188 East 2nd Street, Boston, MA 02127, United States\n",
      "3195 D Street, Boston, MA 02127, United States\n",
      "3196 Swallow Street, Boston, MA 02127, United States\n",
      "3199 West Broadway, Boston, MA 02127, United States\n",
      "3200 East 2nd Street, Boston, MA 02127, United States\n",
      "3246 Tudor Street, Boston, MA 02127, United States\n",
      "3251 Gates St, Boston, MA 02127, United States\n",
      "3259 West 7th Street, Boston, MA 02127, United States\n",
      "3278 West 4th Street, Boston, MA 02127, United States\n",
      "3282 Gold st, Boston, MA 02127, United States\n",
      "3294 Allston Street, Boston, MA 02134, United States\n",
      "3297 Brainerd Road, Boston, MA 02134, United States\n",
      "3300 Glenville Ave, Boston, MA 02134, United States\n",
      "3301 Ridgemont Street, Boston, MA 02134, United States\n",
      "3318 Brainerd Rd, Allston, MA 02134, United States\n",
      "3326 Brentwood Street, Boston, MA 02134, United States\n",
      "3328 Brighton Avenue, Boston, MA 02134, United States\n",
      "3330 Franklin Street, Boston, MA 02134, United States\n",
      "3331 West Sorrento Street, Boston, MA 02134, United States\n",
      "3338 West Sorrento Street, Boston, MA 02134, United States\n",
      "3343 Ridgemont Street, Boston, MA 02134, United States\n",
      "3344 Ridgemont Street, Boston, MA 02134, United States\n",
      "3346 West Sorrento Street, Boston, MA 02134, United States\n",
      "3355 Hooker St, Boston, MA 02134, United States\n",
      "3362 West Sorrento Street, Boston, MA 02134, United States\n",
      "3363 Commonwealth Avenue, Boston, MA 02134, United States\n",
      "3365 Ridgemont Street, Boston, MA 02134, United States\n",
      "3366 Linden St, Boston, MA 02134, United States\n",
      "3372 Commonwealth Avenue, Brookline, MA 02134, United States\n",
      "3380 Hooker Street, Boston, MA 02134, United States\n",
      "3392 Barrows Street, Boston, MA 02134, United States\n",
      "3394 Brainerd Road, Boston, MA 02134, United States\n",
      "3397 Hano Street, Boston, MA 02134, United States\n",
      "3401 Haskell St, Allston, MA 02134, United States\n",
      "3406 Cambridge St, Boston, MA 02134, United States\n",
      "3409 Hooker St, Boston, MA 02134, United States\n",
      "3415 Glenville Avenue, Boston, MA 02134, United States\n",
      "3420 Commonwealth Avenue, Boston, MA 02134, United States\n",
      "3438 Brighton Avenue, Boston, MA 02134, United States\n",
      "3467 Commonwealth Avenue, Boston, MA 02134, United States\n",
      "3468 Walbridge Street, Boston, MA 02134, United States\n",
      "3488 Commonwealth Avenue, Allston, MA 02134, United States\n",
      "3508 Brainerd Road, Boston, MA 02134, United States\n",
      "3515 Adamson Street, Boston, MA 02134, United States\n",
      "3516 Soldiers Field Park, Boston, MA 02163, United States\n",
      "3518 Gardner Street, Boston, MA 02134, United States\n",
      "3531 Hooker St, Boston, MA 02134, United States\n",
      "3537 A Mount Auburn Street, Cambridge, MA 02138, United States\n",
      "3539 Chapel Street, Brookline, MA 02446, United States\n",
      "3547 Franklin Avenue, Somerville, MA 02145, United States\n",
      "3553 Washington Street, Somerville, MA 02143, United States\n",
      "3554 Westbourne Terrace, Brookline, MA 02446, United States\n",
      "3556 Washington Street, Somerville, MA 02143, United States\n",
      "3558 Western Ave, Cambridge, MA 02139, United States\n",
      "3559 13th Street, Boston, MA 02129, United States\n",
      "3561 Brookline, MA, United States\n",
      "3562 Commonwealth Avenue, Boston, MA 02215, United States\n",
      "3564 Washington Street, Somerville, MA 02143, United States\n",
      "3565 Gibson Street, Cambridge, MA 02138, United States\n",
      "3568 Washington Street, Somerville, MA 02143, United States\n",
      "3569 Pinckney Street, Somerville, MA 02145, United States\n",
      "3578 A Mount Auburn Street, Cambridge, MA 02138, United States\n",
      "3581 Freeman Street, Brookline, MA 02446, United States\n",
      "3582 Child Street, Cambridge, MA 02141, United States\n"
     ]
    }
   ],
   "source": [
    "streets_no_neighborhood = airbnb[airbnb['neighbourhood'].isnull()]['street']\n",
    "for idx, street in zip(streets_no_neighborhood.index,streets_no_neighborhood ) :\n",
    "    print(idx,street)"
   ]
  },
  {
   "cell_type": "code",
   "execution_count": 104,
   "id": "938a81d4-6820-4ca9-9b69-a6ad1596f669",
   "metadata": {},
   "outputs": [
    {
     "ename": "ImportError",
     "evalue": "cannot import name 'highlight_max' from 'pandas.io.formats.style' (/Users/felipeveiga/opt/anaconda3/lib/python3.8/site-packages/pandas/io/formats/style.py)",
     "output_type": "error",
     "traceback": [
      "\u001b[0;31m---------------------------------------------------------------------------\u001b[0m",
      "\u001b[0;31mImportError\u001b[0m                               Traceback (most recent call last)",
      "\u001b[0;32m<ipython-input-104-4bc5ce454f80>\u001b[0m in \u001b[0;36m<module>\u001b[0;34m\u001b[0m\n\u001b[0;32m----> 1\u001b[0;31m \u001b[0;32mfrom\u001b[0m \u001b[0mpandas\u001b[0m\u001b[0;34m.\u001b[0m\u001b[0mio\u001b[0m\u001b[0;34m.\u001b[0m\u001b[0mformats\u001b[0m\u001b[0;34m.\u001b[0m\u001b[0mstyle\u001b[0m \u001b[0;32mimport\u001b[0m \u001b[0mhighlight_max\u001b[0m\u001b[0;34m\u001b[0m\u001b[0;34m\u001b[0m\u001b[0m\n\u001b[0m\u001b[1;32m      2\u001b[0m \u001b[0mairbnb\u001b[0m\u001b[0;34m[\u001b[0m\u001b[0;34m'reviews_per_month'\u001b[0m\u001b[0;34m]\u001b[0m\u001b[0;34m\u001b[0m\u001b[0;34m\u001b[0m\u001b[0m\n",
      "\u001b[0;31mImportError\u001b[0m: cannot import name 'highlight_max' from 'pandas.io.formats.style' (/Users/felipeveiga/opt/anaconda3/lib/python3.8/site-packages/pandas/io/formats/style.py)"
     ]
    }
   ],
   "source": [
    "from pandas.io.formats.style import highlight_max\n",
    "airbnb['reviews_per_month']"
   ]
  },
  {
   "cell_type": "markdown",
   "id": "9adc6bd7-ca0e-4d23-b47f-172932e1526c",
   "metadata": {},
   "source": [
    "<p style = 'font-size:30px'> <strong> Novo começo...</strong> </p>"
   ]
  },
  {
   "cell_type": "code",
   "execution_count": 5,
   "id": "50a3f45c-cfea-4f4f-9b82-d878bb685a6a",
   "metadata": {},
   "outputs": [
    {
     "data": {
      "text/html": [
       "<div>\n",
       "<style scoped>\n",
       "    .dataframe tbody tr th:only-of-type {\n",
       "        vertical-align: middle;\n",
       "    }\n",
       "\n",
       "    .dataframe tbody tr th {\n",
       "        vertical-align: top;\n",
       "    }\n",
       "\n",
       "    .dataframe thead th {\n",
       "        text-align: right;\n",
       "    }\n",
       "</style>\n",
       "<table border=\"1\" class=\"dataframe\">\n",
       "  <thead>\n",
       "    <tr style=\"text-align: right;\">\n",
       "      <th></th>\n",
       "      <th>id</th>\n",
       "      <th>listing_url</th>\n",
       "      <th>scrape_id</th>\n",
       "      <th>last_scraped</th>\n",
       "      <th>name</th>\n",
       "      <th>summary</th>\n",
       "      <th>space</th>\n",
       "      <th>description</th>\n",
       "      <th>experiences_offered</th>\n",
       "      <th>neighborhood_overview</th>\n",
       "      <th>...</th>\n",
       "      <th>review_scores_value</th>\n",
       "      <th>requires_license</th>\n",
       "      <th>license</th>\n",
       "      <th>jurisdiction_names</th>\n",
       "      <th>instant_bookable</th>\n",
       "      <th>cancellation_policy</th>\n",
       "      <th>require_guest_profile_picture</th>\n",
       "      <th>require_guest_phone_verification</th>\n",
       "      <th>calculated_host_listings_count</th>\n",
       "      <th>reviews_per_month</th>\n",
       "    </tr>\n",
       "  </thead>\n",
       "  <tbody>\n",
       "    <tr>\n",
       "      <th>3</th>\n",
       "      <td>1436513</td>\n",
       "      <td>https://www.airbnb.com/rooms/1436513</td>\n",
       "      <td>20160906204935</td>\n",
       "      <td>2016-09-07</td>\n",
       "      <td>Spacious Sunny Bedroom Suite in Historic Home</td>\n",
       "      <td>Come experience the comforts of home away from...</td>\n",
       "      <td>Most places you find in Boston are small howev...</td>\n",
       "      <td>Come experience the comforts of home away from...</td>\n",
       "      <td>none</td>\n",
       "      <td>Roslindale is a lovely little neighborhood loc...</td>\n",
       "      <td>...</td>\n",
       "      <td>10.0</td>\n",
       "      <td>f</td>\n",
       "      <td>NaN</td>\n",
       "      <td>NaN</td>\n",
       "      <td>f</td>\n",
       "      <td>moderate</td>\n",
       "      <td>f</td>\n",
       "      <td>f</td>\n",
       "      <td>1</td>\n",
       "      <td>1.00</td>\n",
       "    </tr>\n",
       "    <tr>\n",
       "      <th>6</th>\n",
       "      <td>5706985</td>\n",
       "      <td>https://www.airbnb.com/rooms/5706985</td>\n",
       "      <td>20160906204935</td>\n",
       "      <td>2016-09-07</td>\n",
       "      <td>New Lrg Studio apt 15 min to Boston</td>\n",
       "      <td>It's a 5 minute walk to Rosi Square to catch t...</td>\n",
       "      <td>The whole house was recently redone and it 's ...</td>\n",
       "      <td>It's a 5 minute walk to Rosi Square to catch t...</td>\n",
       "      <td>none</td>\n",
       "      <td>Roslindale is the new hip area of Boston. Clos...</td>\n",
       "      <td>...</td>\n",
       "      <td>9.0</td>\n",
       "      <td>f</td>\n",
       "      <td>NaN</td>\n",
       "      <td>NaN</td>\n",
       "      <td>f</td>\n",
       "      <td>strict</td>\n",
       "      <td>f</td>\n",
       "      <td>f</td>\n",
       "      <td>3</td>\n",
       "      <td>4.00</td>\n",
       "    </tr>\n",
       "    <tr>\n",
       "      <th>19</th>\n",
       "      <td>7252607</td>\n",
       "      <td>https://www.airbnb.com/rooms/7252607</td>\n",
       "      <td>20160906204935</td>\n",
       "      <td>2016-09-07</td>\n",
       "      <td>Private Room near Public Transport</td>\n",
       "      <td>A handsome colonial house set on a tranquil si...</td>\n",
       "      <td>NaN</td>\n",
       "      <td>A handsome colonial house set on a tranquil si...</td>\n",
       "      <td>none</td>\n",
       "      <td>NaN</td>\n",
       "      <td>...</td>\n",
       "      <td>10.0</td>\n",
       "      <td>f</td>\n",
       "      <td>NaN</td>\n",
       "      <td>NaN</td>\n",
       "      <td>f</td>\n",
       "      <td>strict</td>\n",
       "      <td>f</td>\n",
       "      <td>f</td>\n",
       "      <td>3</td>\n",
       "      <td>0.29</td>\n",
       "    </tr>\n",
       "    <tr>\n",
       "      <th>23</th>\n",
       "      <td>6400432</td>\n",
       "      <td>https://www.airbnb.com/rooms/6400432</td>\n",
       "      <td>20160906204935</td>\n",
       "      <td>2016-09-07</td>\n",
       "      <td>Spacious 3 bedroom cape cod style</td>\n",
       "      <td>Three bedroom in Boston's Roslindale neighborh...</td>\n",
       "      <td>This Cape Cod style home features two bedrooms...</td>\n",
       "      <td>Three bedroom in Boston's Roslindale neighborh...</td>\n",
       "      <td>none</td>\n",
       "      <td>NaN</td>\n",
       "      <td>...</td>\n",
       "      <td>10.0</td>\n",
       "      <td>f</td>\n",
       "      <td>NaN</td>\n",
       "      <td>NaN</td>\n",
       "      <td>f</td>\n",
       "      <td>flexible</td>\n",
       "      <td>f</td>\n",
       "      <td>f</td>\n",
       "      <td>1</td>\n",
       "      <td>1.58</td>\n",
       "    </tr>\n",
       "    <tr>\n",
       "      <th>36</th>\n",
       "      <td>10116095</td>\n",
       "      <td>https://www.airbnb.com/rooms/10116095</td>\n",
       "      <td>20160906204935</td>\n",
       "      <td>2016-09-07</td>\n",
       "      <td>Comfortable &amp; Clean - Boston</td>\n",
       "      <td>Comfortable private room with a queen sized be...</td>\n",
       "      <td>Private bedroom in a 2 bedroom apartment near ...</td>\n",
       "      <td>Comfortable private room with a queen sized be...</td>\n",
       "      <td>none</td>\n",
       "      <td>Roslindale is 15 minutes away from downtown Bo...</td>\n",
       "      <td>...</td>\n",
       "      <td>NaN</td>\n",
       "      <td>f</td>\n",
       "      <td>NaN</td>\n",
       "      <td>NaN</td>\n",
       "      <td>f</td>\n",
       "      <td>strict</td>\n",
       "      <td>f</td>\n",
       "      <td>f</td>\n",
       "      <td>1</td>\n",
       "      <td>NaN</td>\n",
       "    </tr>\n",
       "    <tr>\n",
       "      <th>...</th>\n",
       "      <td>...</td>\n",
       "      <td>...</td>\n",
       "      <td>...</td>\n",
       "      <td>...</td>\n",
       "      <td>...</td>\n",
       "      <td>...</td>\n",
       "      <td>...</td>\n",
       "      <td>...</td>\n",
       "      <td>...</td>\n",
       "      <td>...</td>\n",
       "      <td>...</td>\n",
       "      <td>...</td>\n",
       "      <td>...</td>\n",
       "      <td>...</td>\n",
       "      <td>...</td>\n",
       "      <td>...</td>\n",
       "      <td>...</td>\n",
       "      <td>...</td>\n",
       "      <td>...</td>\n",
       "      <td>...</td>\n",
       "      <td>...</td>\n",
       "    </tr>\n",
       "    <tr>\n",
       "      <th>3568</th>\n",
       "      <td>14574800</td>\n",
       "      <td>https://www.airbnb.com/rooms/14574800</td>\n",
       "      <td>20160906204935</td>\n",
       "      <td>2016-09-07</td>\n",
       "      <td>Clean sunny room near Subway</td>\n",
       "      <td>5 min walking to Orange Line subway with 2 sto...</td>\n",
       "      <td>NaN</td>\n",
       "      <td>5 min walking to Orange Line subway with 2 sto...</td>\n",
       "      <td>none</td>\n",
       "      <td>NaN</td>\n",
       "      <td>...</td>\n",
       "      <td>6.0</td>\n",
       "      <td>f</td>\n",
       "      <td>NaN</td>\n",
       "      <td>NaN</td>\n",
       "      <td>t</td>\n",
       "      <td>strict</td>\n",
       "      <td>f</td>\n",
       "      <td>f</td>\n",
       "      <td>8</td>\n",
       "      <td>1.00</td>\n",
       "    </tr>\n",
       "    <tr>\n",
       "      <th>3569</th>\n",
       "      <td>14426586</td>\n",
       "      <td>https://www.airbnb.com/rooms/14426586</td>\n",
       "      <td>20160906204935</td>\n",
       "      <td>2016-09-07</td>\n",
       "      <td>Condo for 4 close to Boston</td>\n",
       "      <td>1 private BR w/ full size bed and bath + a que...</td>\n",
       "      <td>NaN</td>\n",
       "      <td>1 private BR w/ full size bed and bath + a que...</td>\n",
       "      <td>none</td>\n",
       "      <td>NaN</td>\n",
       "      <td>...</td>\n",
       "      <td>NaN</td>\n",
       "      <td>f</td>\n",
       "      <td>NaN</td>\n",
       "      <td>NaN</td>\n",
       "      <td>f</td>\n",
       "      <td>flexible</td>\n",
       "      <td>f</td>\n",
       "      <td>f</td>\n",
       "      <td>1</td>\n",
       "      <td>NaN</td>\n",
       "    </tr>\n",
       "    <tr>\n",
       "      <th>3578</th>\n",
       "      <td>14536322</td>\n",
       "      <td>https://www.airbnb.com/rooms/14536322</td>\n",
       "      <td>20160906204935</td>\n",
       "      <td>2016-09-07</td>\n",
       "      <td>Victorian Garden Level Room - Omega</td>\n",
       "      <td>Exquisite garden level (semi basement) room in...</td>\n",
       "      <td>Very safe, bustling with shops, restaurants, H...</td>\n",
       "      <td>Exquisite garden level (semi basement) room in...</td>\n",
       "      <td>none</td>\n",
       "      <td>Safe, in the midst of all Harvard Square actio...</td>\n",
       "      <td>...</td>\n",
       "      <td>10.0</td>\n",
       "      <td>f</td>\n",
       "      <td>NaN</td>\n",
       "      <td>NaN</td>\n",
       "      <td>t</td>\n",
       "      <td>strict</td>\n",
       "      <td>f</td>\n",
       "      <td>f</td>\n",
       "      <td>2</td>\n",
       "      <td>2.00</td>\n",
       "    </tr>\n",
       "    <tr>\n",
       "      <th>3581</th>\n",
       "      <td>14844274</td>\n",
       "      <td>https://www.airbnb.com/rooms/14844274</td>\n",
       "      <td>20160906204935</td>\n",
       "      <td>2016-09-07</td>\n",
       "      <td>BU Apartment DexterPark Bright room</td>\n",
       "      <td>Most popular apartment in BU, best located in ...</td>\n",
       "      <td>Best location in BU</td>\n",
       "      <td>Most popular apartment in BU, best located in ...</td>\n",
       "      <td>none</td>\n",
       "      <td>NaN</td>\n",
       "      <td>...</td>\n",
       "      <td>NaN</td>\n",
       "      <td>f</td>\n",
       "      <td>NaN</td>\n",
       "      <td>NaN</td>\n",
       "      <td>f</td>\n",
       "      <td>strict</td>\n",
       "      <td>f</td>\n",
       "      <td>f</td>\n",
       "      <td>2</td>\n",
       "      <td>NaN</td>\n",
       "    </tr>\n",
       "    <tr>\n",
       "      <th>3582</th>\n",
       "      <td>14585486</td>\n",
       "      <td>https://www.airbnb.com/rooms/14585486</td>\n",
       "      <td>20160906204935</td>\n",
       "      <td>2016-09-07</td>\n",
       "      <td>Gorgeous funky apartment</td>\n",
       "      <td>Funky little apartment close to public transpo...</td>\n",
       "      <td>Modern and relaxed space with many facilities ...</td>\n",
       "      <td>Funky little apartment close to public transpo...</td>\n",
       "      <td>none</td>\n",
       "      <td>Cambridge is a short walk into Boston, and set...</td>\n",
       "      <td>...</td>\n",
       "      <td>NaN</td>\n",
       "      <td>f</td>\n",
       "      <td>NaN</td>\n",
       "      <td>NaN</td>\n",
       "      <td>f</td>\n",
       "      <td>flexible</td>\n",
       "      <td>f</td>\n",
       "      <td>f</td>\n",
       "      <td>1</td>\n",
       "      <td>NaN</td>\n",
       "    </tr>\n",
       "  </tbody>\n",
       "</table>\n",
       "<p>543 rows × 95 columns</p>\n",
       "</div>"
      ],
      "text/plain": [
       "            id                            listing_url       scrape_id  \\\n",
       "3      1436513   https://www.airbnb.com/rooms/1436513  20160906204935   \n",
       "6      5706985   https://www.airbnb.com/rooms/5706985  20160906204935   \n",
       "19     7252607   https://www.airbnb.com/rooms/7252607  20160906204935   \n",
       "23     6400432   https://www.airbnb.com/rooms/6400432  20160906204935   \n",
       "36    10116095  https://www.airbnb.com/rooms/10116095  20160906204935   \n",
       "...        ...                                    ...             ...   \n",
       "3568  14574800  https://www.airbnb.com/rooms/14574800  20160906204935   \n",
       "3569  14426586  https://www.airbnb.com/rooms/14426586  20160906204935   \n",
       "3578  14536322  https://www.airbnb.com/rooms/14536322  20160906204935   \n",
       "3581  14844274  https://www.airbnb.com/rooms/14844274  20160906204935   \n",
       "3582  14585486  https://www.airbnb.com/rooms/14585486  20160906204935   \n",
       "\n",
       "     last_scraped                                           name  \\\n",
       "3      2016-09-07  Spacious Sunny Bedroom Suite in Historic Home   \n",
       "6      2016-09-07            New Lrg Studio apt 15 min to Boston   \n",
       "19     2016-09-07             Private Room near Public Transport   \n",
       "23     2016-09-07              Spacious 3 bedroom cape cod style   \n",
       "36     2016-09-07                   Comfortable & Clean - Boston   \n",
       "...           ...                                            ...   \n",
       "3568   2016-09-07                   Clean sunny room near Subway   \n",
       "3569   2016-09-07                    Condo for 4 close to Boston   \n",
       "3578   2016-09-07            Victorian Garden Level Room - Omega   \n",
       "3581   2016-09-07            BU Apartment DexterPark Bright room   \n",
       "3582   2016-09-07                       Gorgeous funky apartment   \n",
       "\n",
       "                                                summary  \\\n",
       "3     Come experience the comforts of home away from...   \n",
       "6     It's a 5 minute walk to Rosi Square to catch t...   \n",
       "19    A handsome colonial house set on a tranquil si...   \n",
       "23    Three bedroom in Boston's Roslindale neighborh...   \n",
       "36    Comfortable private room with a queen sized be...   \n",
       "...                                                 ...   \n",
       "3568  5 min walking to Orange Line subway with 2 sto...   \n",
       "3569  1 private BR w/ full size bed and bath + a que...   \n",
       "3578  Exquisite garden level (semi basement) room in...   \n",
       "3581  Most popular apartment in BU, best located in ...   \n",
       "3582  Funky little apartment close to public transpo...   \n",
       "\n",
       "                                                  space  \\\n",
       "3     Most places you find in Boston are small howev...   \n",
       "6     The whole house was recently redone and it 's ...   \n",
       "19                                                  NaN   \n",
       "23    This Cape Cod style home features two bedrooms...   \n",
       "36    Private bedroom in a 2 bedroom apartment near ...   \n",
       "...                                                 ...   \n",
       "3568                                                NaN   \n",
       "3569                                                NaN   \n",
       "3578  Very safe, bustling with shops, restaurants, H...   \n",
       "3581                                Best location in BU   \n",
       "3582  Modern and relaxed space with many facilities ...   \n",
       "\n",
       "                                            description experiences_offered  \\\n",
       "3     Come experience the comforts of home away from...                none   \n",
       "6     It's a 5 minute walk to Rosi Square to catch t...                none   \n",
       "19    A handsome colonial house set on a tranquil si...                none   \n",
       "23    Three bedroom in Boston's Roslindale neighborh...                none   \n",
       "36    Comfortable private room with a queen sized be...                none   \n",
       "...                                                 ...                 ...   \n",
       "3568  5 min walking to Orange Line subway with 2 sto...                none   \n",
       "3569  1 private BR w/ full size bed and bath + a que...                none   \n",
       "3578  Exquisite garden level (semi basement) room in...                none   \n",
       "3581  Most popular apartment in BU, best located in ...                none   \n",
       "3582  Funky little apartment close to public transpo...                none   \n",
       "\n",
       "                                  neighborhood_overview  ...  \\\n",
       "3     Roslindale is a lovely little neighborhood loc...  ...   \n",
       "6     Roslindale is the new hip area of Boston. Clos...  ...   \n",
       "19                                                  NaN  ...   \n",
       "23                                                  NaN  ...   \n",
       "36    Roslindale is 15 minutes away from downtown Bo...  ...   \n",
       "...                                                 ...  ...   \n",
       "3568                                                NaN  ...   \n",
       "3569                                                NaN  ...   \n",
       "3578  Safe, in the midst of all Harvard Square actio...  ...   \n",
       "3581                                                NaN  ...   \n",
       "3582  Cambridge is a short walk into Boston, and set...  ...   \n",
       "\n",
       "     review_scores_value requires_license license jurisdiction_names  \\\n",
       "3                   10.0                f     NaN                NaN   \n",
       "6                    9.0                f     NaN                NaN   \n",
       "19                  10.0                f     NaN                NaN   \n",
       "23                  10.0                f     NaN                NaN   \n",
       "36                   NaN                f     NaN                NaN   \n",
       "...                  ...              ...     ...                ...   \n",
       "3568                 6.0                f     NaN                NaN   \n",
       "3569                 NaN                f     NaN                NaN   \n",
       "3578                10.0                f     NaN                NaN   \n",
       "3581                 NaN                f     NaN                NaN   \n",
       "3582                 NaN                f     NaN                NaN   \n",
       "\n",
       "     instant_bookable cancellation_policy require_guest_profile_picture  \\\n",
       "3                   f            moderate                             f   \n",
       "6                   f              strict                             f   \n",
       "19                  f              strict                             f   \n",
       "23                  f            flexible                             f   \n",
       "36                  f              strict                             f   \n",
       "...               ...                 ...                           ...   \n",
       "3568                t              strict                             f   \n",
       "3569                f            flexible                             f   \n",
       "3578                t              strict                             f   \n",
       "3581                f              strict                             f   \n",
       "3582                f            flexible                             f   \n",
       "\n",
       "     require_guest_phone_verification calculated_host_listings_count  \\\n",
       "3                                   f                              1   \n",
       "6                                   f                              3   \n",
       "19                                  f                              3   \n",
       "23                                  f                              1   \n",
       "36                                  f                              1   \n",
       "...                               ...                            ...   \n",
       "3568                                f                              8   \n",
       "3569                                f                              1   \n",
       "3578                                f                              2   \n",
       "3581                                f                              2   \n",
       "3582                                f                              1   \n",
       "\n",
       "      reviews_per_month  \n",
       "3                  1.00  \n",
       "6                  4.00  \n",
       "19                 0.29  \n",
       "23                 1.58  \n",
       "36                  NaN  \n",
       "...                 ...  \n",
       "3568               1.00  \n",
       "3569                NaN  \n",
       "3578               2.00  \n",
       "3581                NaN  \n",
       "3582                NaN  \n",
       "\n",
       "[543 rows x 95 columns]"
      ]
     },
     "execution_count": 5,
     "metadata": {},
     "output_type": "execute_result"
    }
   ],
   "source": [
    "import pandas as pd\n",
    "import numpy as np\n",
    "\n",
    "airbnb = pd.read_csv('listings.csv')\n",
    "airbnb[airbnb['neighbourhood'].isnull()]"
   ]
  },
  {
   "cell_type": "code",
   "execution_count": 1,
   "id": "e123cd30-3167-45f2-bd44-3bda2b26a166",
   "metadata": {},
   "outputs": [],
   "source": [
    "%matplotlib inline"
   ]
  },
  {
   "cell_type": "code",
   "execution_count": 4,
   "id": "0f7418e0-5b3e-407b-87a3-9edee3f6bb51",
   "metadata": {},
   "outputs": [
    {
     "data": {
      "application/vnd.jupyter.widget-view+json": {
       "model_id": "0beee160f94c4f75ab8d7e28790d6913",
       "version_major": 2,
       "version_minor": 0
      },
      "text/plain": [
       "Canvas(toolbar=Toolbar(toolitems=[('Home', 'Reset original view', 'home', 'home'), ('Back', 'Back to previous …"
      ]
     },
     "metadata": {},
     "output_type": "display_data"
    }
   ],
   "source": [
    "from matplotlib import pyplot as plt\n",
    "# make a square figure and axes\n",
    "plt.figure(figsize=(6,6))\n",
    "ax = plt.axes([0.1, 0.1, 0.8, 0.8])\n",
    "\n",
    "labels = 'Frogs', 'Hogs', 'Dogs', 'Logs'\n",
    "fracs = [15,30,45, 10]\n",
    "\n",
    "explode=(0, 0.05, 0, 0)\n",
    "p = plt.pie(fracs, explode=explode, labels=labels, autopct='%1.1f%%', shadow=True)\n",
    "plt.title('Raining Hogs and Dogs', bbox={'facecolor':'0.8', 'pad':5})\n",
    "\n",
    "w = p[0][0]\n",
    "plt.show() \n",
    "\n",
    "class PieEventHandler:\n",
    "    def __init__(self,p):\n",
    "        self.p = p\n",
    "        self.fig = p[0].figure\n",
    "        self.ax = p[0].axes\n",
    "        self.fig.canvas.mpl_connect('button_press_event', self.onpress)\n",
    "\n",
    "    def onpress(self, event):\n",
    "        if event.inaxes!=self.ax:\n",
    "            return\n",
    "\n",
    "        for w in self.p:\n",
    "            (hit,_) = w.contains(event)\n",
    "            if hit:\n",
    "                print (w.get_label()) \n",
    "\n",
    "\n",
    "handler = PieEventHandler(p[0])"
   ]
  },
  {
   "cell_type": "code",
   "execution_count": 7,
   "id": "d4329134-4b11-4114-817c-d276ab07c2d5",
   "metadata": {},
   "outputs": [
    {
     "data": {
      "application/vnd.jupyter.widget-view+json": {
       "model_id": "486c99e4b8ed422d9fb58186670e33cc",
       "version_major": 2,
       "version_minor": 0
      },
      "text/plain": [
       "Canvas(toolbar=Toolbar(toolitems=[('Home', 'Reset original view', 'home', 'home'), ('Back', 'Back to previous …"
      ]
     },
     "metadata": {},
     "output_type": "display_data"
    }
   ],
   "source": [
    "def main():\n",
    "    # Make an example pie plot\n",
    "    fig = plt.figure()\n",
    "    ax = fig.add_subplot(111)\n",
    "\n",
    "    labels = ['Apple', 'Mango', 'Orange']\n",
    "    wedges, plt_labels = ax.pie([20, 40, 60], labels=labels)\n",
    "    ax.axis('equal')\n",
    "\n",
    "    make_picker(fig, wedges)\n",
    "    plt.show()\n",
    "\n",
    "def make_picker(fig, wedges):\n",
    "\n",
    "    def onclick(event):\n",
    "        wedge = event.artist\n",
    "        label = wedge.get_label()\n",
    "        print (label)\n",
    "\n",
    "# Make wedges selectable\n",
    "    for wedge in wedges:\n",
    "        wedge.set_picker(True)\n",
    "\n",
    "    fig.canvas.mpl_connect('pick_event', onclick)\n",
    "    \n",
    "main()"
   ]
  },
  {
   "cell_type": "code",
   "execution_count": 5,
   "id": "3e9fc223-2620-4835-abf0-227f57b7b76f",
   "metadata": {},
   "outputs": [
    {
     "data": {
      "text/html": [
       "<div>\n",
       "<style scoped>\n",
       "    .dataframe tbody tr th:only-of-type {\n",
       "        vertical-align: middle;\n",
       "    }\n",
       "\n",
       "    .dataframe tbody tr th {\n",
       "        vertical-align: top;\n",
       "    }\n",
       "\n",
       "    .dataframe thead th {\n",
       "        text-align: right;\n",
       "    }\n",
       "</style>\n",
       "<table border=\"1\" class=\"dataframe\">\n",
       "  <thead>\n",
       "    <tr style=\"text-align: right;\">\n",
       "      <th></th>\n",
       "      <th>total_bill</th>\n",
       "      <th>tip</th>\n",
       "      <th>sex</th>\n",
       "      <th>smoker</th>\n",
       "      <th>day</th>\n",
       "      <th>time</th>\n",
       "      <th>size</th>\n",
       "    </tr>\n",
       "  </thead>\n",
       "  <tbody>\n",
       "    <tr>\n",
       "      <th>0</th>\n",
       "      <td>16.99</td>\n",
       "      <td>1.01</td>\n",
       "      <td>Female</td>\n",
       "      <td>No</td>\n",
       "      <td>Sun</td>\n",
       "      <td>Dinner</td>\n",
       "      <td>2</td>\n",
       "    </tr>\n",
       "    <tr>\n",
       "      <th>1</th>\n",
       "      <td>10.34</td>\n",
       "      <td>1.66</td>\n",
       "      <td>Male</td>\n",
       "      <td>No</td>\n",
       "      <td>Sun</td>\n",
       "      <td>Dinner</td>\n",
       "      <td>3</td>\n",
       "    </tr>\n",
       "    <tr>\n",
       "      <th>2</th>\n",
       "      <td>21.01</td>\n",
       "      <td>3.50</td>\n",
       "      <td>Male</td>\n",
       "      <td>No</td>\n",
       "      <td>Sun</td>\n",
       "      <td>Dinner</td>\n",
       "      <td>3</td>\n",
       "    </tr>\n",
       "    <tr>\n",
       "      <th>3</th>\n",
       "      <td>23.68</td>\n",
       "      <td>3.31</td>\n",
       "      <td>Male</td>\n",
       "      <td>No</td>\n",
       "      <td>Sun</td>\n",
       "      <td>Dinner</td>\n",
       "      <td>2</td>\n",
       "    </tr>\n",
       "    <tr>\n",
       "      <th>4</th>\n",
       "      <td>24.59</td>\n",
       "      <td>3.61</td>\n",
       "      <td>Female</td>\n",
       "      <td>No</td>\n",
       "      <td>Sun</td>\n",
       "      <td>Dinner</td>\n",
       "      <td>4</td>\n",
       "    </tr>\n",
       "    <tr>\n",
       "      <th>...</th>\n",
       "      <td>...</td>\n",
       "      <td>...</td>\n",
       "      <td>...</td>\n",
       "      <td>...</td>\n",
       "      <td>...</td>\n",
       "      <td>...</td>\n",
       "      <td>...</td>\n",
       "    </tr>\n",
       "    <tr>\n",
       "      <th>239</th>\n",
       "      <td>29.03</td>\n",
       "      <td>5.92</td>\n",
       "      <td>Male</td>\n",
       "      <td>No</td>\n",
       "      <td>Sat</td>\n",
       "      <td>Dinner</td>\n",
       "      <td>3</td>\n",
       "    </tr>\n",
       "    <tr>\n",
       "      <th>240</th>\n",
       "      <td>27.18</td>\n",
       "      <td>2.00</td>\n",
       "      <td>Female</td>\n",
       "      <td>Yes</td>\n",
       "      <td>Sat</td>\n",
       "      <td>Dinner</td>\n",
       "      <td>2</td>\n",
       "    </tr>\n",
       "    <tr>\n",
       "      <th>241</th>\n",
       "      <td>22.67</td>\n",
       "      <td>2.00</td>\n",
       "      <td>Male</td>\n",
       "      <td>Yes</td>\n",
       "      <td>Sat</td>\n",
       "      <td>Dinner</td>\n",
       "      <td>2</td>\n",
       "    </tr>\n",
       "    <tr>\n",
       "      <th>242</th>\n",
       "      <td>17.82</td>\n",
       "      <td>1.75</td>\n",
       "      <td>Male</td>\n",
       "      <td>No</td>\n",
       "      <td>Sat</td>\n",
       "      <td>Dinner</td>\n",
       "      <td>2</td>\n",
       "    </tr>\n",
       "    <tr>\n",
       "      <th>243</th>\n",
       "      <td>18.78</td>\n",
       "      <td>3.00</td>\n",
       "      <td>Female</td>\n",
       "      <td>No</td>\n",
       "      <td>Thur</td>\n",
       "      <td>Dinner</td>\n",
       "      <td>2</td>\n",
       "    </tr>\n",
       "  </tbody>\n",
       "</table>\n",
       "<p>244 rows × 7 columns</p>\n",
       "</div>"
      ],
      "text/plain": [
       "     total_bill   tip     sex smoker   day    time  size\n",
       "0         16.99  1.01  Female     No   Sun  Dinner     2\n",
       "1         10.34  1.66    Male     No   Sun  Dinner     3\n",
       "2         21.01  3.50    Male     No   Sun  Dinner     3\n",
       "3         23.68  3.31    Male     No   Sun  Dinner     2\n",
       "4         24.59  3.61  Female     No   Sun  Dinner     4\n",
       "..          ...   ...     ...    ...   ...     ...   ...\n",
       "239       29.03  5.92    Male     No   Sat  Dinner     3\n",
       "240       27.18  2.00  Female    Yes   Sat  Dinner     2\n",
       "241       22.67  2.00    Male    Yes   Sat  Dinner     2\n",
       "242       17.82  1.75    Male     No   Sat  Dinner     2\n",
       "243       18.78  3.00  Female     No  Thur  Dinner     2\n",
       "\n",
       "[244 rows x 7 columns]"
      ]
     },
     "metadata": {},
     "output_type": "display_data"
    },
    {
     "data": {
      "application/vnd.plotly.v1+json": {
       "config": {
        "plotlyServerURL": "https://plot.ly"
       },
       "data": [
        {
         "branchvalues": "total",
         "domain": {
          "x": [
           0,
           1
          ],
          "y": [
           0,
           1
          ]
         },
         "hovertemplate": "labels=%{label}<br>total_bill=%{value}<br>parent=%{parent}<br>id=%{id}<extra></extra>",
         "ids": [
          "Fri/Dinner/Female",
          "Sat/Dinner/Female",
          "Sun/Dinner/Female",
          "Thur/Dinner/Female",
          "Fri/Lunch/Female",
          "Thur/Lunch/Female",
          "Fri/Dinner/Male",
          "Sat/Dinner/Male",
          "Sun/Dinner/Male",
          "Fri/Lunch/Male",
          "Thur/Lunch/Male",
          "Fri/Dinner",
          "Sat/Dinner",
          "Sun/Dinner",
          "Thur/Dinner",
          "Fri/Lunch",
          "Thur/Lunch",
          "Fri",
          "Sat",
          "Sun",
          "Thur"
         ],
         "labels": [
          "Female",
          "Female",
          "Female",
          "Female",
          "Female",
          "Female",
          "Male",
          "Male",
          "Male",
          "Male",
          "Male",
          "Dinner",
          "Dinner",
          "Dinner",
          "Dinner",
          "Lunch",
          "Lunch",
          "Fri",
          "Sat",
          "Sun",
          "Thur"
         ],
         "name": "",
         "parents": [
          "Fri/Dinner",
          "Sat/Dinner",
          "Sun/Dinner",
          "Thur/Dinner",
          "Fri/Lunch",
          "Thur/Lunch",
          "Fri/Dinner",
          "Sat/Dinner",
          "Sun/Dinner",
          "Fri/Lunch",
          "Thur/Lunch",
          "Fri",
          "Sat",
          "Sun",
          "Thur",
          "Fri",
          "Thur",
          "",
          "",
          "",
          ""
         ],
         "type": "sunburst",
         "values": [
          71.55,
          551.0499999999998,
          357.69999999999993,
          18.78,
          55.760000000000005,
          516.11,
          164.41,
          1227.3499999999997,
          1269.46,
          34.160000000000004,
          561.4399999999999,
          235.95999999999998,
          1778.3999999999996,
          1627.1600000000003,
          18.78,
          89.92,
          1077.5499999999997,
          325.87999999999994,
          1778.3999999999996,
          1627.1600000000003,
          1096.3299999999997
         ]
        }
       ],
       "layout": {
        "autosize": true,
        "legend": {
         "tracegroupgap": 0
        },
        "margin": {
         "t": 60
        },
        "template": {
         "data": {
          "bar": [
           {
            "error_x": {
             "color": "#2a3f5f"
            },
            "error_y": {
             "color": "#2a3f5f"
            },
            "marker": {
             "line": {
              "color": "#E5ECF6",
              "width": 0.5
             },
             "pattern": {
              "fillmode": "overlay",
              "size": 10,
              "solidity": 0.2
             }
            },
            "type": "bar"
           }
          ],
          "barpolar": [
           {
            "marker": {
             "line": {
              "color": "#E5ECF6",
              "width": 0.5
             },
             "pattern": {
              "fillmode": "overlay",
              "size": 10,
              "solidity": 0.2
             }
            },
            "type": "barpolar"
           }
          ],
          "carpet": [
           {
            "aaxis": {
             "endlinecolor": "#2a3f5f",
             "gridcolor": "white",
             "linecolor": "white",
             "minorgridcolor": "white",
             "startlinecolor": "#2a3f5f"
            },
            "baxis": {
             "endlinecolor": "#2a3f5f",
             "gridcolor": "white",
             "linecolor": "white",
             "minorgridcolor": "white",
             "startlinecolor": "#2a3f5f"
            },
            "type": "carpet"
           }
          ],
          "choropleth": [
           {
            "colorbar": {
             "outlinewidth": 0,
             "ticks": ""
            },
            "type": "choropleth"
           }
          ],
          "contour": [
           {
            "colorbar": {
             "outlinewidth": 0,
             "ticks": ""
            },
            "colorscale": [
             [
              0,
              "#0d0887"
             ],
             [
              0.1111111111111111,
              "#46039f"
             ],
             [
              0.2222222222222222,
              "#7201a8"
             ],
             [
              0.3333333333333333,
              "#9c179e"
             ],
             [
              0.4444444444444444,
              "#bd3786"
             ],
             [
              0.5555555555555556,
              "#d8576b"
             ],
             [
              0.6666666666666666,
              "#ed7953"
             ],
             [
              0.7777777777777778,
              "#fb9f3a"
             ],
             [
              0.8888888888888888,
              "#fdca26"
             ],
             [
              1,
              "#f0f921"
             ]
            ],
            "type": "contour"
           }
          ],
          "contourcarpet": [
           {
            "colorbar": {
             "outlinewidth": 0,
             "ticks": ""
            },
            "type": "contourcarpet"
           }
          ],
          "heatmap": [
           {
            "colorbar": {
             "outlinewidth": 0,
             "ticks": ""
            },
            "colorscale": [
             [
              0,
              "#0d0887"
             ],
             [
              0.1111111111111111,
              "#46039f"
             ],
             [
              0.2222222222222222,
              "#7201a8"
             ],
             [
              0.3333333333333333,
              "#9c179e"
             ],
             [
              0.4444444444444444,
              "#bd3786"
             ],
             [
              0.5555555555555556,
              "#d8576b"
             ],
             [
              0.6666666666666666,
              "#ed7953"
             ],
             [
              0.7777777777777778,
              "#fb9f3a"
             ],
             [
              0.8888888888888888,
              "#fdca26"
             ],
             [
              1,
              "#f0f921"
             ]
            ],
            "type": "heatmap"
           }
          ],
          "heatmapgl": [
           {
            "colorbar": {
             "outlinewidth": 0,
             "ticks": ""
            },
            "colorscale": [
             [
              0,
              "#0d0887"
             ],
             [
              0.1111111111111111,
              "#46039f"
             ],
             [
              0.2222222222222222,
              "#7201a8"
             ],
             [
              0.3333333333333333,
              "#9c179e"
             ],
             [
              0.4444444444444444,
              "#bd3786"
             ],
             [
              0.5555555555555556,
              "#d8576b"
             ],
             [
              0.6666666666666666,
              "#ed7953"
             ],
             [
              0.7777777777777778,
              "#fb9f3a"
             ],
             [
              0.8888888888888888,
              "#fdca26"
             ],
             [
              1,
              "#f0f921"
             ]
            ],
            "type": "heatmapgl"
           }
          ],
          "histogram": [
           {
            "marker": {
             "pattern": {
              "fillmode": "overlay",
              "size": 10,
              "solidity": 0.2
             }
            },
            "type": "histogram"
           }
          ],
          "histogram2d": [
           {
            "colorbar": {
             "outlinewidth": 0,
             "ticks": ""
            },
            "colorscale": [
             [
              0,
              "#0d0887"
             ],
             [
              0.1111111111111111,
              "#46039f"
             ],
             [
              0.2222222222222222,
              "#7201a8"
             ],
             [
              0.3333333333333333,
              "#9c179e"
             ],
             [
              0.4444444444444444,
              "#bd3786"
             ],
             [
              0.5555555555555556,
              "#d8576b"
             ],
             [
              0.6666666666666666,
              "#ed7953"
             ],
             [
              0.7777777777777778,
              "#fb9f3a"
             ],
             [
              0.8888888888888888,
              "#fdca26"
             ],
             [
              1,
              "#f0f921"
             ]
            ],
            "type": "histogram2d"
           }
          ],
          "histogram2dcontour": [
           {
            "colorbar": {
             "outlinewidth": 0,
             "ticks": ""
            },
            "colorscale": [
             [
              0,
              "#0d0887"
             ],
             [
              0.1111111111111111,
              "#46039f"
             ],
             [
              0.2222222222222222,
              "#7201a8"
             ],
             [
              0.3333333333333333,
              "#9c179e"
             ],
             [
              0.4444444444444444,
              "#bd3786"
             ],
             [
              0.5555555555555556,
              "#d8576b"
             ],
             [
              0.6666666666666666,
              "#ed7953"
             ],
             [
              0.7777777777777778,
              "#fb9f3a"
             ],
             [
              0.8888888888888888,
              "#fdca26"
             ],
             [
              1,
              "#f0f921"
             ]
            ],
            "type": "histogram2dcontour"
           }
          ],
          "mesh3d": [
           {
            "colorbar": {
             "outlinewidth": 0,
             "ticks": ""
            },
            "type": "mesh3d"
           }
          ],
          "parcoords": [
           {
            "line": {
             "colorbar": {
              "outlinewidth": 0,
              "ticks": ""
             }
            },
            "type": "parcoords"
           }
          ],
          "pie": [
           {
            "automargin": true,
            "type": "pie"
           }
          ],
          "scatter": [
           {
            "marker": {
             "colorbar": {
              "outlinewidth": 0,
              "ticks": ""
             }
            },
            "type": "scatter"
           }
          ],
          "scatter3d": [
           {
            "line": {
             "colorbar": {
              "outlinewidth": 0,
              "ticks": ""
             }
            },
            "marker": {
             "colorbar": {
              "outlinewidth": 0,
              "ticks": ""
             }
            },
            "type": "scatter3d"
           }
          ],
          "scattercarpet": [
           {
            "marker": {
             "colorbar": {
              "outlinewidth": 0,
              "ticks": ""
             }
            },
            "type": "scattercarpet"
           }
          ],
          "scattergeo": [
           {
            "marker": {
             "colorbar": {
              "outlinewidth": 0,
              "ticks": ""
             }
            },
            "type": "scattergeo"
           }
          ],
          "scattergl": [
           {
            "marker": {
             "colorbar": {
              "outlinewidth": 0,
              "ticks": ""
             }
            },
            "type": "scattergl"
           }
          ],
          "scattermapbox": [
           {
            "marker": {
             "colorbar": {
              "outlinewidth": 0,
              "ticks": ""
             }
            },
            "type": "scattermapbox"
           }
          ],
          "scatterpolar": [
           {
            "marker": {
             "colorbar": {
              "outlinewidth": 0,
              "ticks": ""
             }
            },
            "type": "scatterpolar"
           }
          ],
          "scatterpolargl": [
           {
            "marker": {
             "colorbar": {
              "outlinewidth": 0,
              "ticks": ""
             }
            },
            "type": "scatterpolargl"
           }
          ],
          "scatterternary": [
           {
            "marker": {
             "colorbar": {
              "outlinewidth": 0,
              "ticks": ""
             }
            },
            "type": "scatterternary"
           }
          ],
          "surface": [
           {
            "colorbar": {
             "outlinewidth": 0,
             "ticks": ""
            },
            "colorscale": [
             [
              0,
              "#0d0887"
             ],
             [
              0.1111111111111111,
              "#46039f"
             ],
             [
              0.2222222222222222,
              "#7201a8"
             ],
             [
              0.3333333333333333,
              "#9c179e"
             ],
             [
              0.4444444444444444,
              "#bd3786"
             ],
             [
              0.5555555555555556,
              "#d8576b"
             ],
             [
              0.6666666666666666,
              "#ed7953"
             ],
             [
              0.7777777777777778,
              "#fb9f3a"
             ],
             [
              0.8888888888888888,
              "#fdca26"
             ],
             [
              1,
              "#f0f921"
             ]
            ],
            "type": "surface"
           }
          ],
          "table": [
           {
            "cells": {
             "fill": {
              "color": "#EBF0F8"
             },
             "line": {
              "color": "white"
             }
            },
            "header": {
             "fill": {
              "color": "#C8D4E3"
             },
             "line": {
              "color": "white"
             }
            },
            "type": "table"
           }
          ]
         },
         "layout": {
          "annotationdefaults": {
           "arrowcolor": "#2a3f5f",
           "arrowhead": 0,
           "arrowwidth": 1
          },
          "autotypenumbers": "strict",
          "coloraxis": {
           "colorbar": {
            "outlinewidth": 0,
            "ticks": ""
           }
          },
          "colorscale": {
           "diverging": [
            [
             0,
             "#8e0152"
            ],
            [
             0.1,
             "#c51b7d"
            ],
            [
             0.2,
             "#de77ae"
            ],
            [
             0.3,
             "#f1b6da"
            ],
            [
             0.4,
             "#fde0ef"
            ],
            [
             0.5,
             "#f7f7f7"
            ],
            [
             0.6,
             "#e6f5d0"
            ],
            [
             0.7,
             "#b8e186"
            ],
            [
             0.8,
             "#7fbc41"
            ],
            [
             0.9,
             "#4d9221"
            ],
            [
             1,
             "#276419"
            ]
           ],
           "sequential": [
            [
             0,
             "#0d0887"
            ],
            [
             0.1111111111111111,
             "#46039f"
            ],
            [
             0.2222222222222222,
             "#7201a8"
            ],
            [
             0.3333333333333333,
             "#9c179e"
            ],
            [
             0.4444444444444444,
             "#bd3786"
            ],
            [
             0.5555555555555556,
             "#d8576b"
            ],
            [
             0.6666666666666666,
             "#ed7953"
            ],
            [
             0.7777777777777778,
             "#fb9f3a"
            ],
            [
             0.8888888888888888,
             "#fdca26"
            ],
            [
             1,
             "#f0f921"
            ]
           ],
           "sequentialminus": [
            [
             0,
             "#0d0887"
            ],
            [
             0.1111111111111111,
             "#46039f"
            ],
            [
             0.2222222222222222,
             "#7201a8"
            ],
            [
             0.3333333333333333,
             "#9c179e"
            ],
            [
             0.4444444444444444,
             "#bd3786"
            ],
            [
             0.5555555555555556,
             "#d8576b"
            ],
            [
             0.6666666666666666,
             "#ed7953"
            ],
            [
             0.7777777777777778,
             "#fb9f3a"
            ],
            [
             0.8888888888888888,
             "#fdca26"
            ],
            [
             1,
             "#f0f921"
            ]
           ]
          },
          "colorway": [
           "#636efa",
           "#EF553B",
           "#00cc96",
           "#ab63fa",
           "#FFA15A",
           "#19d3f3",
           "#FF6692",
           "#B6E880",
           "#FF97FF",
           "#FECB52"
          ],
          "font": {
           "color": "#2a3f5f"
          },
          "geo": {
           "bgcolor": "white",
           "lakecolor": "white",
           "landcolor": "#E5ECF6",
           "showlakes": true,
           "showland": true,
           "subunitcolor": "white"
          },
          "hoverlabel": {
           "align": "left"
          },
          "hovermode": "closest",
          "mapbox": {
           "style": "light"
          },
          "paper_bgcolor": "white",
          "plot_bgcolor": "#E5ECF6",
          "polar": {
           "angularaxis": {
            "gridcolor": "white",
            "linecolor": "white",
            "ticks": ""
           },
           "bgcolor": "#E5ECF6",
           "radialaxis": {
            "gridcolor": "white",
            "linecolor": "white",
            "ticks": ""
           }
          },
          "scene": {
           "xaxis": {
            "backgroundcolor": "#E5ECF6",
            "gridcolor": "white",
            "gridwidth": 2,
            "linecolor": "white",
            "showbackground": true,
            "ticks": "",
            "zerolinecolor": "white"
           },
           "yaxis": {
            "backgroundcolor": "#E5ECF6",
            "gridcolor": "white",
            "gridwidth": 2,
            "linecolor": "white",
            "showbackground": true,
            "ticks": "",
            "zerolinecolor": "white"
           },
           "zaxis": {
            "backgroundcolor": "#E5ECF6",
            "gridcolor": "white",
            "gridwidth": 2,
            "linecolor": "white",
            "showbackground": true,
            "ticks": "",
            "zerolinecolor": "white"
           }
          },
          "shapedefaults": {
           "line": {
            "color": "#2a3f5f"
           }
          },
          "ternary": {
           "aaxis": {
            "gridcolor": "white",
            "linecolor": "white",
            "ticks": ""
           },
           "baxis": {
            "gridcolor": "white",
            "linecolor": "white",
            "ticks": ""
           },
           "bgcolor": "#E5ECF6",
           "caxis": {
            "gridcolor": "white",
            "linecolor": "white",
            "ticks": ""
           }
          },
          "title": {
           "x": 0.05
          },
          "xaxis": {
           "automargin": true,
           "gridcolor": "white",
           "linecolor": "white",
           "ticks": "",
           "title": {
            "standoff": 15
           },
           "zerolinecolor": "white",
           "zerolinewidth": 2
          },
          "yaxis": {
           "automargin": true,
           "gridcolor": "white",
           "linecolor": "white",
           "ticks": "",
           "title": {
            "standoff": 15
           },
           "zerolinecolor": "white",
           "zerolinewidth": 2
          }
         }
        }
       }
      },
      "image/png": "[encoded data removed]",
      "text/html": [
       "<div>                            <div id=\"d090ada0-0e6a-49c6-a418-1e4a489f2f03\" class=\"plotly-graph-div\" style=\"height:525px; width:100%;\"></div>            <script type=\"text/javascript\">                require([\"plotly\"], function(Plotly) {                    window.PLOTLYENV=window.PLOTLYENV || {};                                    if (document.getElementById(\"d090ada0-0e6a-49c6-a418-1e4a489f2f03\")) {                    Plotly.newPlot(                        \"d090ada0-0e6a-49c6-a418-1e4a489f2f03\",                        [{\"branchvalues\":\"total\",\"domain\":{\"x\":[0.0,1.0],\"y\":[0.0,1.0]},\"hovertemplate\":\"labels=%{label}<br>total_bill=%{value}<br>parent=%{parent}<br>id=%{id}<extra></extra>\",\"ids\":[\"Fri/Dinner/Female\",\"Sat/Dinner/Female\",\"Sun/Dinner/Female\",\"Thur/Dinner/Female\",\"Fri/Lunch/Female\",\"Thur/Lunch/Female\",\"Fri/Dinner/Male\",\"Sat/Dinner/Male\",\"Sun/Dinner/Male\",\"Fri/Lunch/Male\",\"Thur/Lunch/Male\",\"Fri/Dinner\",\"Sat/Dinner\",\"Sun/Dinner\",\"Thur/Dinner\",\"Fri/Lunch\",\"Thur/Lunch\",\"Fri\",\"Sat\",\"Sun\",\"Thur\"],\"labels\":[\"Female\",\"Female\",\"Female\",\"Female\",\"Female\",\"Female\",\"Male\",\"Male\",\"Male\",\"Male\",\"Male\",\"Dinner\",\"Dinner\",\"Dinner\",\"Dinner\",\"Lunch\",\"Lunch\",\"Fri\",\"Sat\",\"Sun\",\"Thur\"],\"name\":\"\",\"parents\":[\"Fri/Dinner\",\"Sat/Dinner\",\"Sun/Dinner\",\"Thur/Dinner\",\"Fri/Lunch\",\"Thur/Lunch\",\"Fri/Dinner\",\"Sat/Dinner\",\"Sun/Dinner\",\"Fri/Lunch\",\"Thur/Lunch\",\"Fri\",\"Sat\",\"Sun\",\"Thur\",\"Fri\",\"Thur\",\"\",\"\",\"\",\"\"],\"type\":\"sunburst\",\"values\":[71.55,551.0499999999998,357.69999999999993,18.78,55.760000000000005,516.11,164.41,1227.3499999999997,1269.46,34.160000000000004,561.4399999999999,235.95999999999998,1778.3999999999996,1627.1600000000003,18.78,89.92,1077.5499999999997,325.87999999999994,1778.3999999999996,1627.1600000000003,1096.3299999999997]}],                        {\"legend\":{\"tracegroupgap\":0},\"margin\":{\"t\":60},\"template\":{\"data\":{\"bar\":[{\"error_x\":{\"color\":\"#2a3f5f\"},\"error_y\":{\"color\":\"#2a3f5f\"},\"marker\":{\"line\":{\"color\":\"#E5ECF6\",\"width\":0.5},\"pattern\":{\"fillmode\":\"overlay\",\"size\":10,\"solidity\":0.2}},\"type\":\"bar\"}],\"barpolar\":[{\"marker\":{\"line\":{\"color\":\"#E5ECF6\",\"width\":0.5},\"pattern\":{\"fillmode\":\"overlay\",\"size\":10,\"solidity\":0.2}},\"type\":\"barpolar\"}],\"carpet\":[{\"aaxis\":{\"endlinecolor\":\"#2a3f5f\",\"gridcolor\":\"white\",\"linecolor\":\"white\",\"minorgridcolor\":\"white\",\"startlinecolor\":\"#2a3f5f\"},\"baxis\":{\"endlinecolor\":\"#2a3f5f\",\"gridcolor\":\"white\",\"linecolor\":\"white\",\"minorgridcolor\":\"white\",\"startlinecolor\":\"#2a3f5f\"},\"type\":\"carpet\"}],\"choropleth\":[{\"colorbar\":{\"outlinewidth\":0,\"ticks\":\"\"},\"type\":\"choropleth\"}],\"contour\":[{\"colorbar\":{\"outlinewidth\":0,\"ticks\":\"\"},\"colorscale\":[[0.0,\"#0d0887\"],[0.1111111111111111,\"#46039f\"],[0.2222222222222222,\"#7201a8\"],[0.3333333333333333,\"#9c179e\"],[0.4444444444444444,\"#bd3786\"],[0.5555555555555556,\"#d8576b\"],[0.6666666666666666,\"#ed7953\"],[0.7777777777777778,\"#fb9f3a\"],[0.8888888888888888,\"#fdca26\"],[1.0,\"#f0f921\"]],\"type\":\"contour\"}],\"contourcarpet\":[{\"colorbar\":{\"outlinewidth\":0,\"ticks\":\"\"},\"type\":\"contourcarpet\"}],\"heatmap\":[{\"colorbar\":{\"outlinewidth\":0,\"ticks\":\"\"},\"colorscale\":[[0.0,\"#0d0887\"],[0.1111111111111111,\"#46039f\"],[0.2222222222222222,\"#7201a8\"],[0.3333333333333333,\"#9c179e\"],[0.4444444444444444,\"#bd3786\"],[0.5555555555555556,\"#d8576b\"],[0.6666666666666666,\"#ed7953\"],[0.7777777777777778,\"#fb9f3a\"],[0.8888888888888888,\"#fdca26\"],[1.0,\"#f0f921\"]],\"type\":\"heatmap\"}],\"heatmapgl\":[{\"colorbar\":{\"outlinewidth\":0,\"ticks\":\"\"},\"colorscale\":[[0.0,\"#0d0887\"],[0.1111111111111111,\"#46039f\"],[0.2222222222222222,\"#7201a8\"],[0.3333333333333333,\"#9c179e\"],[0.4444444444444444,\"#bd3786\"],[0.5555555555555556,\"#d8576b\"],[0.6666666666666666,\"#ed7953\"],[0.7777777777777778,\"#fb9f3a\"],[0.8888888888888888,\"#fdca26\"],[1.0,\"#f0f921\"]],\"type\":\"heatmapgl\"}],\"histogram\":[{\"marker\":{\"pattern\":{\"fillmode\":\"overlay\",\"size\":10,\"solidity\":0.2}},\"type\":\"histogram\"}],\"histogram2d\":[{\"colorbar\":{\"outlinewidth\":0,\"ticks\":\"\"},\"colorscale\":[[0.0,\"#0d0887\"],[0.1111111111111111,\"#46039f\"],[0.2222222222222222,\"#7201a8\"],[0.3333333333333333,\"#9c179e\"],[0.4444444444444444,\"#bd3786\"],[0.5555555555555556,\"#d8576b\"],[0.6666666666666666,\"#ed7953\"],[0.7777777777777778,\"#fb9f3a\"],[0.8888888888888888,\"#fdca26\"],[1.0,\"#f0f921\"]],\"type\":\"histogram2d\"}],\"histogram2dcontour\":[{\"colorbar\":{\"outlinewidth\":0,\"ticks\":\"\"},\"colorscale\":[[0.0,\"#0d0887\"],[0.1111111111111111,\"#46039f\"],[0.2222222222222222,\"#7201a8\"],[0.3333333333333333,\"#9c179e\"],[0.4444444444444444,\"#bd3786\"],[0.5555555555555556,\"#d8576b\"],[0.6666666666666666,\"#ed7953\"],[0.7777777777777778,\"#fb9f3a\"],[0.8888888888888888,\"#fdca26\"],[1.0,\"#f0f921\"]],\"type\":\"histogram2dcontour\"}],\"mesh3d\":[{\"colorbar\":{\"outlinewidth\":0,\"ticks\":\"\"},\"type\":\"mesh3d\"}],\"parcoords\":[{\"line\":{\"colorbar\":{\"outlinewidth\":0,\"ticks\":\"\"}},\"type\":\"parcoords\"}],\"pie\":[{\"automargin\":true,\"type\":\"pie\"}],\"scatter\":[{\"marker\":{\"colorbar\":{\"outlinewidth\":0,\"ticks\":\"\"}},\"type\":\"scatter\"}],\"scatter3d\":[{\"line\":{\"colorbar\":{\"outlinewidth\":0,\"ticks\":\"\"}},\"marker\":{\"colorbar\":{\"outlinewidth\":0,\"ticks\":\"\"}},\"type\":\"scatter3d\"}],\"scattercarpet\":[{\"marker\":{\"colorbar\":{\"outlinewidth\":0,\"ticks\":\"\"}},\"type\":\"scattercarpet\"}],\"scattergeo\":[{\"marker\":{\"colorbar\":{\"outlinewidth\":0,\"ticks\":\"\"}},\"type\":\"scattergeo\"}],\"scattergl\":[{\"marker\":{\"colorbar\":{\"outlinewidth\":0,\"ticks\":\"\"}},\"type\":\"scattergl\"}],\"scattermapbox\":[{\"marker\":{\"colorbar\":{\"outlinewidth\":0,\"ticks\":\"\"}},\"type\":\"scattermapbox\"}],\"scatterpolar\":[{\"marker\":{\"colorbar\":{\"outlinewidth\":0,\"ticks\":\"\"}},\"type\":\"scatterpolar\"}],\"scatterpolargl\":[{\"marker\":{\"colorbar\":{\"outlinewidth\":0,\"ticks\":\"\"}},\"type\":\"scatterpolargl\"}],\"scatterternary\":[{\"marker\":{\"colorbar\":{\"outlinewidth\":0,\"ticks\":\"\"}},\"type\":\"scatterternary\"}],\"surface\":[{\"colorbar\":{\"outlinewidth\":0,\"ticks\":\"\"},\"colorscale\":[[0.0,\"#0d0887\"],[0.1111111111111111,\"#46039f\"],[0.2222222222222222,\"#7201a8\"],[0.3333333333333333,\"#9c179e\"],[0.4444444444444444,\"#bd3786\"],[0.5555555555555556,\"#d8576b\"],[0.6666666666666666,\"#ed7953\"],[0.7777777777777778,\"#fb9f3a\"],[0.8888888888888888,\"#fdca26\"],[1.0,\"#f0f921\"]],\"type\":\"surface\"}],\"table\":[{\"cells\":{\"fill\":{\"color\":\"#EBF0F8\"},\"line\":{\"color\":\"white\"}},\"header\":{\"fill\":{\"color\":\"#C8D4E3\"},\"line\":{\"color\":\"white\"}},\"type\":\"table\"}]},\"layout\":{\"annotationdefaults\":{\"arrowcolor\":\"#2a3f5f\",\"arrowhead\":0,\"arrowwidth\":1},\"autotypenumbers\":\"strict\",\"coloraxis\":{\"colorbar\":{\"outlinewidth\":0,\"ticks\":\"\"}},\"colorscale\":{\"diverging\":[[0,\"#8e0152\"],[0.1,\"#c51b7d\"],[0.2,\"#de77ae\"],[0.3,\"#f1b6da\"],[0.4,\"#fde0ef\"],[0.5,\"#f7f7f7\"],[0.6,\"#e6f5d0\"],[0.7,\"#b8e186\"],[0.8,\"#7fbc41\"],[0.9,\"#4d9221\"],[1,\"#276419\"]],\"sequential\":[[0.0,\"#0d0887\"],[0.1111111111111111,\"#46039f\"],[0.2222222222222222,\"#7201a8\"],[0.3333333333333333,\"#9c179e\"],[0.4444444444444444,\"#bd3786\"],[0.5555555555555556,\"#d8576b\"],[0.6666666666666666,\"#ed7953\"],[0.7777777777777778,\"#fb9f3a\"],[0.8888888888888888,\"#fdca26\"],[1.0,\"#f0f921\"]],\"sequentialminus\":[[0.0,\"#0d0887\"],[0.1111111111111111,\"#46039f\"],[0.2222222222222222,\"#7201a8\"],[0.3333333333333333,\"#9c179e\"],[0.4444444444444444,\"#bd3786\"],[0.5555555555555556,\"#d8576b\"],[0.6666666666666666,\"#ed7953\"],[0.7777777777777778,\"#fb9f3a\"],[0.8888888888888888,\"#fdca26\"],[1.0,\"#f0f921\"]]},\"colorway\":[\"#636efa\",\"#EF553B\",\"#00cc96\",\"#ab63fa\",\"#FFA15A\",\"#19d3f3\",\"#FF6692\",\"#B6E880\",\"#FF97FF\",\"#FECB52\"],\"font\":{\"color\":\"#2a3f5f\"},\"geo\":{\"bgcolor\":\"white\",\"lakecolor\":\"white\",\"landcolor\":\"#E5ECF6\",\"showlakes\":true,\"showland\":true,\"subunitcolor\":\"white\"},\"hoverlabel\":{\"align\":\"left\"},\"hovermode\":\"closest\",\"mapbox\":{\"style\":\"light\"},\"paper_bgcolor\":\"white\",\"plot_bgcolor\":\"#E5ECF6\",\"polar\":{\"angularaxis\":{\"gridcolor\":\"white\",\"linecolor\":\"white\",\"ticks\":\"\"},\"bgcolor\":\"#E5ECF6\",\"radialaxis\":{\"gridcolor\":\"white\",\"linecolor\":\"white\",\"ticks\":\"\"}},\"scene\":{\"xaxis\":{\"backgroundcolor\":\"#E5ECF6\",\"gridcolor\":\"white\",\"gridwidth\":2,\"linecolor\":\"white\",\"showbackground\":true,\"ticks\":\"\",\"zerolinecolor\":\"white\"},\"yaxis\":{\"backgroundcolor\":\"#E5ECF6\",\"gridcolor\":\"white\",\"gridwidth\":2,\"linecolor\":\"white\",\"showbackground\":true,\"ticks\":\"\",\"zerolinecolor\":\"white\"},\"zaxis\":{\"backgroundcolor\":\"#E5ECF6\",\"gridcolor\":\"white\",\"gridwidth\":2,\"linecolor\":\"white\",\"showbackground\":true,\"ticks\":\"\",\"zerolinecolor\":\"white\"}},\"shapedefaults\":{\"line\":{\"color\":\"#2a3f5f\"}},\"ternary\":{\"aaxis\":{\"gridcolor\":\"white\",\"linecolor\":\"white\",\"ticks\":\"\"},\"baxis\":{\"gridcolor\":\"white\",\"linecolor\":\"white\",\"ticks\":\"\"},\"bgcolor\":\"#E5ECF6\",\"caxis\":{\"gridcolor\":\"white\",\"linecolor\":\"white\",\"ticks\":\"\"}},\"title\":{\"x\":0.05},\"xaxis\":{\"automargin\":true,\"gridcolor\":\"white\",\"linecolor\":\"white\",\"ticks\":\"\",\"title\":{\"standoff\":15},\"zerolinecolor\":\"white\",\"zerolinewidth\":2},\"yaxis\":{\"automargin\":true,\"gridcolor\":\"white\",\"linecolor\":\"white\",\"ticks\":\"\",\"title\":{\"standoff\":15},\"zerolinecolor\":\"white\",\"zerolinewidth\":2}}}},                        {\"responsive\": true}                    ).then(function(){\n",
       "                            \n",
       "var gd = document.getElementById('d090ada0-0e6a-49c6-a418-1e4a489f2f03');\n",
       "var x = new MutationObserver(function (mutations, observer) {{\n",
       "        var display = window.getComputedStyle(gd).display;\n",
       "        if (!display || display === 'none') {{\n",
       "            console.log([gd, 'removed!']);\n",
       "            Plotly.purge(gd);\n",
       "            observer.disconnect();\n",
       "        }}\n",
       "}});\n",
       "\n",
       "// Listen for the removal of the full notebook cells\n",
       "var notebookContainer = gd.closest('#notebook-container');\n",
       "if (notebookContainer) {{\n",
       "    x.observe(notebookContainer, {childList: true});\n",
       "}}\n",
       "\n",
       "// Listen for the clearing of the current output cell\n",
       "var outputEl = gd.closest('.output');\n",
       "if (outputEl) {{\n",
       "    x.observe(outputEl, {childList: true});\n",
       "}}\n",
       "\n",
       "                        })                };                });            </script>        </div>"
      ]
     },
     "metadata": {},
     "output_type": "display_data"
    }
   ],
   "source": [
    "import plotly.express as px\n",
    "df = px.data.tips()\n",
    "fig = px.sunburst(df, path=['day', 'time', 'sex'], values='total_bill')\n",
    "\n",
    "display(df)\n",
    "fig.show()"
   ]
  },
  {
   "cell_type": "code",
   "execution_count": null,
   "id": "c5573157-5639-4754-a56f-bb900dee65c7",
   "metadata": {},
   "outputs": [],
   "source": [
    "def find_max(nums):\n",
    "    max_num = float(\"-inf\") # smaller than all other numbers\n",
    "    for num in nums:\n",
    "        if num > max_num:\n",
    "    # (Fill in the missing line here)\n",
    "return max_num"
   ]
  },
  {
   "cell_type": "code",
   "execution_count": 8,
   "id": "3fa955fd-fb4f-4b30-9a13-d10fad8272cc",
   "metadata": {},
   "outputs": [
    {
     "data": {
      "text/plain": [
       "-inf"
      ]
     },
     "execution_count": 8,
     "metadata": {},
     "output_type": "execute_result"
    }
   ],
   "source": [
    "float(\"-inf\") "
   ]
  },
  {
   "cell_type": "markdown",
   "id": "54dff654-4c47-40b0-bb0b-6f5289b358cf",
   "metadata": {},
   "source": [
    "<a style = 'font-size:50px' href= 'https://www.thepythoncode.com/article/translate-text-in-python'>Biblioteca de Tradução de textos</a>"
   ]
  }
 ],
 "metadata": {
  "kernelspec": {
   "display_name": "Python 3",
   "language": "python",
   "name": "python3"
  },
  "language_info": {
   "codemirror_mode": {
    "name": "ipython",
    "version": 3
   },
   "file_extension": ".py",
   "mimetype": "text/x-python",
   "name": "python",
   "nbconvert_exporter": "python",
   "pygments_lexer": "ipython3",
   "version": "3.8.8"
  }
 },
 "nbformat": 4,
 "nbformat_minor": 5
}
