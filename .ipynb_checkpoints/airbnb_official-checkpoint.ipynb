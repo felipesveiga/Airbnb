{
 "cells": [
  {
   "cell_type": "markdown",
   "id": "49f5f6b7-bd50-408d-9d82-9d14d8a2c4c5",
   "metadata": {},
   "source": [
    "<p style = 'font-size:40px'> <strong>Analyzing Airbnb Data</strong> </p> #DEFINIR O PD.READ_CSV APENAS COM AS COLUNAS UTILIZADAS\n",
    "\n",
    "Colocar o rótulo de dados nos gráficos!"
   ]
  },
  {
   "cell_type": "markdown",
   "id": "fe51935a-77a2-4510-98e5-c73eceea4332",
   "metadata": {},
   "source": [
    "* <p style = 'font-size:20px'> This project aims to explore informations about a data set regarding Airbnb registered Boston dwellings. We are going to</p>\n",
    "\n",
    "* <p style = 'font-size:20px'> I've challenged myself to perform the following tasks:</p>\n",
    "\n",
    "<p style = 'font-size:20px;margin-left:50px'> 1 - Get the dwelling type composition per neighborhood.</p>\n",
    "<p style = 'font-size:20px;margin-left:50px'> 2 - Establish customer grade ranges and compare the average prices among the categories created. </p>\n",
    "<p style = 'font-size:20px;margin-left:50px'> 3 - Find out if Airbnb superhosts take advantadge of their status in order to impose higher prices to their customers. </p>\n",
    "<p style = 'font-size:20px;margin-left:50px'> 4 - Discover if it is more expensive to stay in Boston's richer neighborhoods.</p>"
   ]
  },
  {
   "cell_type": "markdown",
   "id": "cfe3a54b-6974-4c80-9efe-9f9dc48942e8",
   "metadata": {},
   "source": [
    "<p style = 'font-size:30px'> <strong>Data set presentation</strong> </p>"
   ]
  },
  {
   "cell_type": "markdown",
   "id": "2aa2885a-264e-4cdf-afd3-5a163eefc8b9",
   "metadata": {},
   "source": [
    "* <p style = 'font-size:20px'> Here, I'll let you take a glimpse on the data set we are going to explore in this project. Since it contains multiple columns I am going to select just the ones that we need.</p>"
   ]
  },
  {
   "cell_type": "code",
   "execution_count": 329,
   "id": "38e43d52-41df-4a28-a974-a37f3832d66b",
   "metadata": {},
   "outputs": [
    {
     "data": {
      "text/html": [
       "<div>\n",
       "<style scoped>\n",
       "    .dataframe tbody tr th:only-of-type {\n",
       "        vertical-align: middle;\n",
       "    }\n",
       "\n",
       "    .dataframe tbody tr th {\n",
       "        vertical-align: top;\n",
       "    }\n",
       "\n",
       "    .dataframe thead th {\n",
       "        text-align: right;\n",
       "    }\n",
       "</style>\n",
       "<table border=\"1\" class=\"dataframe\">\n",
       "  <thead>\n",
       "    <tr style=\"text-align: right;\">\n",
       "      <th></th>\n",
       "      <th>id</th>\n",
       "      <th>host_is_superhost</th>\n",
       "      <th>neighbourhood</th>\n",
       "      <th>property_type</th>\n",
       "      <th>price</th>\n",
       "      <th>review_scores_value</th>\n",
       "    </tr>\n",
       "  </thead>\n",
       "  <tbody>\n",
       "    <tr>\n",
       "      <th>0</th>\n",
       "      <td>12147973</td>\n",
       "      <td>f</td>\n",
       "      <td>Roslindale</td>\n",
       "      <td>House</td>\n",
       "      <td>$250.00</td>\n",
       "      <td>NaN</td>\n",
       "    </tr>\n",
       "    <tr>\n",
       "      <th>1</th>\n",
       "      <td>3075044</td>\n",
       "      <td>f</td>\n",
       "      <td>Roslindale</td>\n",
       "      <td>Apartment</td>\n",
       "      <td>$65.00</td>\n",
       "      <td>9.0</td>\n",
       "    </tr>\n",
       "    <tr>\n",
       "      <th>2</th>\n",
       "      <td>6976</td>\n",
       "      <td>t</td>\n",
       "      <td>Roslindale</td>\n",
       "      <td>Apartment</td>\n",
       "      <td>$65.00</td>\n",
       "      <td>10.0</td>\n",
       "    </tr>\n",
       "    <tr>\n",
       "      <th>3</th>\n",
       "      <td>1436513</td>\n",
       "      <td>f</td>\n",
       "      <td>NaN</td>\n",
       "      <td>House</td>\n",
       "      <td>$75.00</td>\n",
       "      <td>10.0</td>\n",
       "    </tr>\n",
       "    <tr>\n",
       "      <th>4</th>\n",
       "      <td>7651065</td>\n",
       "      <td>t</td>\n",
       "      <td>Roslindale</td>\n",
       "      <td>House</td>\n",
       "      <td>$79.00</td>\n",
       "      <td>10.0</td>\n",
       "    </tr>\n",
       "  </tbody>\n",
       "</table>\n",
       "</div>"
      ],
      "text/plain": [
       "         id host_is_superhost neighbourhood property_type    price  \\\n",
       "0  12147973                 f    Roslindale         House  $250.00   \n",
       "1   3075044                 f    Roslindale     Apartment   $65.00   \n",
       "2      6976                 t    Roslindale     Apartment   $65.00   \n",
       "3   1436513                 f           NaN         House   $75.00   \n",
       "4   7651065                 t    Roslindale         House   $79.00   \n",
       "\n",
       "   review_scores_value  \n",
       "0                  NaN  \n",
       "1                  9.0  \n",
       "2                 10.0  \n",
       "3                 10.0  \n",
       "4                 10.0  "
      ]
     },
     "execution_count": 329,
     "metadata": {},
     "output_type": "execute_result"
    }
   ],
   "source": [
    "import pandas as pd\n",
    "import numpy as np\n",
    "\n",
    "usecols = ['id', 'host_is_superhost', 'neighbourhood', 'property_type', 'price', 'review_scores_value'  ]\n",
    "airbnb = pd.read_csv('listings.csv', usecols = usecols)\n",
    "airbnb.head()"
   ]
  },
  {
   "cell_type": "markdown",
   "id": "18f78c32-7f6e-4b4c-b5a7-aef8cb9a2dd1",
   "metadata": {},
   "source": [
    "<p style = 'font-size:30px'> <strong>Cleaning the data</strong> </p>"
   ]
  },
  {
   "cell_type": "markdown",
   "id": "a832cfee-49e8-4385-8390-aa544700a0e5",
   "metadata": {},
   "source": [
    "* <p style = 'font-size:20px'> Since we are making a neighborhood-based analysis, it is necessary that all the dwellings have their neighborhood name in the <em> neighbourhood</em> column.</p>\n",
    "* <p style = 'font-size:20px'> Unfortunately, this is not the case for some of the lodgings. Therefore we need to remove them from the DataFrame.</p>"
   ]
  },
  {
   "cell_type": "code",
   "execution_count": 283,
   "id": "a3d3065e-bb8a-4db7-b3b5-f1b6e8edc726",
   "metadata": {},
   "outputs": [],
   "source": [
    "airbnb = airbnb[~airbnb['neighbourhood'].isnull()]\n",
    "# On top of that, the columns related to prices are not being recognized as numbers, \n",
    "# since all their rows have a '$' sign in front of the numbers and  ',' as thousands separator.\n",
    "\n",
    "replacement = {'\\$':'', ',':''}\n",
    "\n",
    "airbnb['price'] = (airbnb['price']\n",
    "                  .replace(replacement, regex = True)\n",
    "                  .astype('float')) "
   ]
  },
  {
   "cell_type": "markdown",
   "id": "008be9ed-35f2-4f88-938e-870c95be473e",
   "metadata": {},
   "source": [
    "* <p style = 'font-size:20px'> Furthermore, it is important to mention that some lodgings do not have their neighborhood correctly written in the \"neighbourhood\" column. Instead they have touristic places registered.</p>\n",
    "\n",
    "* <p style = 'font-size:20px'> We'll substitute the touristic location name for the residence's actual neighborhood.</p>\n",
    "\n",
    "* <p style = 'font-size:20px'>Also, because we are performing a Boston exclusive analysis, we need to disregard some of the dwellings which belong to cities that surround its area (like Cambridge, Sommerville, Chesnut Hill and Brookline).</p>"
   ]
  },
  {
   "cell_type": "code",
   "execution_count": 284,
   "id": "d9903061-066e-4684-a54b-b9d4a26d0216",
   "metadata": {},
   "outputs": [
    {
     "data": {
      "text/plain": [
       "['Allston-Brighton',\n",
       " 'Back Bay',\n",
       " 'Beacon Hill',\n",
       " 'Charlestown',\n",
       " 'Chestnut Hill',\n",
       " 'Dorchester',\n",
       " 'Downtown',\n",
       " 'East Boston',\n",
       " 'Fenway/Kenmore',\n",
       " 'Hyde Park',\n",
       " 'Jamaica Plain',\n",
       " 'Mattapan',\n",
       " 'Mission Hill',\n",
       " 'North End',\n",
       " 'Roslindale',\n",
       " 'Roxbury',\n",
       " 'South Boston',\n",
       " 'South End',\n",
       " 'West End',\n",
       " 'West Roxbury']"
      ]
     },
     "execution_count": 284,
     "metadata": {},
     "output_type": "execute_result"
    }
   ],
   "source": [
    "substitute = {'Downtown Crossing':'Downtown',\n",
    "            'Government Center': 'Downtown',\n",
    "            'Leather District':'Downtown',\n",
    "             'Chinatown': 'Downtown',\n",
    "            'Theater District':'Downtown',\n",
    "            'Financial District': 'Downtown'}\n",
    "\n",
    "to_drop = ['Somerville', 'Chesnut Hill', 'Harvard Square', 'Brookline', 'Cambridge']\n",
    "\n",
    "for index, neighborhood in zip(airbnb.index, airbnb['neighbourhood']):\n",
    "    if neighborhood in to_drop:\n",
    "        airbnb.drop(index = index, inplace = True)\n",
    "airbnb = airbnb.replace(substitute) \n",
    "\n",
    "# Now we have finally cleaned our data!\n",
    "sorted(airbnb['neighbourhood'].unique())"
   ]
  },
  {
   "cell_type": "markdown",
   "id": "f703799d-c023-459b-a6ee-9a18c52ef00c",
   "metadata": {},
   "source": [
    "<p style = 'font-size:30px'> <strong>Task 1</strong> </p>"
   ]
  },
  {
   "cell_type": "markdown",
   "id": "0cf79457-71a3-4b47-9ab1-1daaca3d299e",
   "metadata": {},
   "source": [
    "* <p style = 'font-size:20px'> The output of this operation will be a sunburst chart. It will contain some of Boston's neighborhoods along with their property types composition.</p>\n",
    "\n",
    "* <p style = 'font-size:20px'> We need to consider that Boston has many neighborhoods, so using the informations from all of them can make our graph's visual poluted.</p>"
   ]
  },
  {
   "cell_type": "code",
   "execution_count": 285,
   "id": "2cb31526-c838-4aab-9fae-c84d31628fc6",
   "metadata": {},
   "outputs": [
    {
     "data": {
      "text/plain": [
       "neighbourhood\n",
       "Allston-Brighton    364\n",
       "Jamaica Plain       314\n",
       "South End           298\n",
       "Back Bay            291\n",
       "Fenway/Kenmore      249\n",
       "South Boston        216\n",
       "Name: id, dtype: int64"
      ]
     },
     "execution_count": 285,
     "metadata": {},
     "output_type": "execute_result"
    }
   ],
   "source": [
    "# Considering this, we'll establish a rule: we'll plot the property type compostion for only the 6 locations\n",
    "# with most dwellings registered on Airbnb.\n",
    "\n",
    "# Which are those neghborhoods?\n",
    "top_6 = airbnb.groupby(['neighbourhood'])['id'].count().sort_values(ascending = False).head(6)\n",
    "top_6"
   ]
  },
  {
   "cell_type": "code",
   "execution_count": 286,
   "id": "42876440-ab67-498d-b469-835042eed983",
   "metadata": {},
   "outputs": [
    {
     "data": {
      "text/plain": [
       "['Allston-Brighton',\n",
       " 'Jamaica Plain',\n",
       " 'South End',\n",
       " 'Back Bay',\n",
       " 'Fenway/Kenmore',\n",
       " 'South Boston']"
      ]
     },
     "execution_count": 286,
     "metadata": {},
     "output_type": "execute_result"
    }
   ],
   "source": [
    "# Let's make a list containing all the 'top_6' Series neighborhoods.\n",
    "desirable_neighborhoods = list(top_6.index)\n",
    "desirable_neighborhoods"
   ]
  },
  {
   "cell_type": "code",
   "execution_count": 287,
   "id": "5cbb3505-3ace-4bfb-a6f6-cc424e46bddb",
   "metadata": {},
   "outputs": [
    {
     "data": {
      "application/vnd.plotly.v1+json": {
       "config": {
        "plotlyServerURL": "https://plot.ly"
       },
       "data": [
        {
         "branchvalues": "total",
         "domain": {
          "x": [
           0,
           1
          ],
          "y": [
           0,
           1
          ]
         },
         "hovertemplate": "labels=%{label}<br>Number of Dwellings=%{value}<br>parent=%{parent}<br>id=%{id}<extra></extra>",
         "ids": [
          "Allston-Brighton/Apartment",
          "Back Bay/Apartment",
          "Fenway/Kenmore/Apartment",
          "Jamaica Plain/Apartment",
          "South Boston/Apartment",
          "South End/Apartment",
          "Allston-Brighton/Bed & Breakfast",
          "Back Bay/Bed & Breakfast",
          "Fenway/Kenmore/Bed & Breakfast",
          "Jamaica Plain/Bed & Breakfast",
          "South End/Bed & Breakfast",
          "Allston-Brighton/Condominium",
          "Back Bay/Condominium",
          "Fenway/Kenmore/Condominium",
          "Jamaica Plain/Condominium",
          "South Boston/Condominium",
          "South End/Condominium",
          "Allston-Brighton/Dorm",
          "South End/Dorm",
          "Jamaica Plain/Entire Floor",
          "Back Bay/Guesthouse",
          "Allston-Brighton/House",
          "Back Bay/House",
          "Fenway/Kenmore/House",
          "Jamaica Plain/House",
          "South Boston/House",
          "South End/House",
          "Allston-Brighton/Loft",
          "Back Bay/Loft",
          "Jamaica Plain/Loft",
          "South Boston/Loft",
          "South End/Loft",
          "Allston-Brighton/Other",
          "Back Bay/Other",
          "South Boston/Other",
          "South End/Other",
          "Allston-Brighton/Townhouse",
          "Back Bay/Townhouse",
          "Jamaica Plain/Townhouse",
          "South Boston/Townhouse",
          "South End/Townhouse",
          "Allston-Brighton/Villa",
          "Allston-Brighton",
          "Back Bay",
          "Fenway/Kenmore",
          "Jamaica Plain",
          "South Boston",
          "South End"
         ],
         "labels": [
          "Apartment",
          "Apartment",
          "Apartment",
          "Apartment",
          "Apartment",
          "Apartment",
          "Bed & Breakfast",
          "Bed & Breakfast",
          "Bed & Breakfast",
          "Bed & Breakfast",
          "Bed & Breakfast",
          "Condominium",
          "Condominium",
          "Condominium",
          "Condominium",
          "Condominium",
          "Condominium",
          "Dorm",
          "Dorm",
          "Entire Floor",
          "Guesthouse",
          "House",
          "House",
          "House",
          "House",
          "House",
          "House",
          "Loft",
          "Loft",
          "Loft",
          "Loft",
          "Loft",
          "Other",
          "Other",
          "Other",
          "Other",
          "Townhouse",
          "Townhouse",
          "Townhouse",
          "Townhouse",
          "Townhouse",
          "Villa",
          "Allston-Brighton",
          "Back Bay",
          "Fenway/Kenmore",
          "Jamaica Plain",
          "South Boston",
          "South End"
         ],
         "name": "",
         "parents": [
          "Allston-Brighton",
          "Back Bay",
          "Fenway/Kenmore",
          "Jamaica Plain",
          "South Boston",
          "South End",
          "Allston-Brighton",
          "Back Bay",
          "Fenway/Kenmore",
          "Jamaica Plain",
          "South End",
          "Allston-Brighton",
          "Back Bay",
          "Fenway/Kenmore",
          "Jamaica Plain",
          "South Boston",
          "South End",
          "Allston-Brighton",
          "South End",
          "Jamaica Plain",
          "Back Bay",
          "Allston-Brighton",
          "Back Bay",
          "Fenway/Kenmore",
          "Jamaica Plain",
          "South Boston",
          "South End",
          "Allston-Brighton",
          "Back Bay",
          "Jamaica Plain",
          "South Boston",
          "South End",
          "Allston-Brighton",
          "Back Bay",
          "South Boston",
          "South End",
          "Allston-Brighton",
          "Back Bay",
          "Jamaica Plain",
          "South Boston",
          "South End",
          "Allston-Brighton",
          "",
          "",
          "",
          "",
          "",
          ""
         ],
         "textinfo": "label+percent parent",
         "type": "sunburst",
         "values": [
          245,
          247,
          239,
          176,
          137,
          241,
          1,
          2,
          1,
          10,
          6,
          13,
          24,
          7,
          28,
          31,
          27,
          1,
          1,
          1,
          1,
          94,
          8,
          2,
          87,
          30,
          9,
          2,
          4,
          2,
          4,
          4,
          1,
          2,
          8,
          2,
          5,
          2,
          10,
          6,
          8,
          1,
          363,
          290,
          249,
          314,
          216,
          298
         ]
        }
       ],
       "layout": {
        "height": 600,
        "legend": {
         "tracegroupgap": 0
        },
        "template": {
         "data": {
          "bar": [
           {
            "error_x": {
             "color": "#2a3f5f"
            },
            "error_y": {
             "color": "#2a3f5f"
            },
            "marker": {
             "line": {
              "color": "#E5ECF6",
              "width": 0.5
             },
             "pattern": {
              "fillmode": "overlay",
              "size": 10,
              "solidity": 0.2
             }
            },
            "type": "bar"
           }
          ],
          "barpolar": [
           {
            "marker": {
             "line": {
              "color": "#E5ECF6",
              "width": 0.5
             },
             "pattern": {
              "fillmode": "overlay",
              "size": 10,
              "solidity": 0.2
             }
            },
            "type": "barpolar"
           }
          ],
          "carpet": [
           {
            "aaxis": {
             "endlinecolor": "#2a3f5f",
             "gridcolor": "white",
             "linecolor": "white",
             "minorgridcolor": "white",
             "startlinecolor": "#2a3f5f"
            },
            "baxis": {
             "endlinecolor": "#2a3f5f",
             "gridcolor": "white",
             "linecolor": "white",
             "minorgridcolor": "white",
             "startlinecolor": "#2a3f5f"
            },
            "type": "carpet"
           }
          ],
          "choropleth": [
           {
            "colorbar": {
             "outlinewidth": 0,
             "ticks": ""
            },
            "type": "choropleth"
           }
          ],
          "contour": [
           {
            "colorbar": {
             "outlinewidth": 0,
             "ticks": ""
            },
            "colorscale": [
             [
              0,
              "#0d0887"
             ],
             [
              0.1111111111111111,
              "#46039f"
             ],
             [
              0.2222222222222222,
              "#7201a8"
             ],
             [
              0.3333333333333333,
              "#9c179e"
             ],
             [
              0.4444444444444444,
              "#bd3786"
             ],
             [
              0.5555555555555556,
              "#d8576b"
             ],
             [
              0.6666666666666666,
              "#ed7953"
             ],
             [
              0.7777777777777778,
              "#fb9f3a"
             ],
             [
              0.8888888888888888,
              "#fdca26"
             ],
             [
              1,
              "#f0f921"
             ]
            ],
            "type": "contour"
           }
          ],
          "contourcarpet": [
           {
            "colorbar": {
             "outlinewidth": 0,
             "ticks": ""
            },
            "type": "contourcarpet"
           }
          ],
          "heatmap": [
           {
            "colorbar": {
             "outlinewidth": 0,
             "ticks": ""
            },
            "colorscale": [
             [
              0,
              "#0d0887"
             ],
             [
              0.1111111111111111,
              "#46039f"
             ],
             [
              0.2222222222222222,
              "#7201a8"
             ],
             [
              0.3333333333333333,
              "#9c179e"
             ],
             [
              0.4444444444444444,
              "#bd3786"
             ],
             [
              0.5555555555555556,
              "#d8576b"
             ],
             [
              0.6666666666666666,
              "#ed7953"
             ],
             [
              0.7777777777777778,
              "#fb9f3a"
             ],
             [
              0.8888888888888888,
              "#fdca26"
             ],
             [
              1,
              "#f0f921"
             ]
            ],
            "type": "heatmap"
           }
          ],
          "heatmapgl": [
           {
            "colorbar": {
             "outlinewidth": 0,
             "ticks": ""
            },
            "colorscale": [
             [
              0,
              "#0d0887"
             ],
             [
              0.1111111111111111,
              "#46039f"
             ],
             [
              0.2222222222222222,
              "#7201a8"
             ],
             [
              0.3333333333333333,
              "#9c179e"
             ],
             [
              0.4444444444444444,
              "#bd3786"
             ],
             [
              0.5555555555555556,
              "#d8576b"
             ],
             [
              0.6666666666666666,
              "#ed7953"
             ],
             [
              0.7777777777777778,
              "#fb9f3a"
             ],
             [
              0.8888888888888888,
              "#fdca26"
             ],
             [
              1,
              "#f0f921"
             ]
            ],
            "type": "heatmapgl"
           }
          ],
          "histogram": [
           {
            "marker": {
             "pattern": {
              "fillmode": "overlay",
              "size": 10,
              "solidity": 0.2
             }
            },
            "type": "histogram"
           }
          ],
          "histogram2d": [
           {
            "colorbar": {
             "outlinewidth": 0,
             "ticks": ""
            },
            "colorscale": [
             [
              0,
              "#0d0887"
             ],
             [
              0.1111111111111111,
              "#46039f"
             ],
             [
              0.2222222222222222,
              "#7201a8"
             ],
             [
              0.3333333333333333,
              "#9c179e"
             ],
             [
              0.4444444444444444,
              "#bd3786"
             ],
             [
              0.5555555555555556,
              "#d8576b"
             ],
             [
              0.6666666666666666,
              "#ed7953"
             ],
             [
              0.7777777777777778,
              "#fb9f3a"
             ],
             [
              0.8888888888888888,
              "#fdca26"
             ],
             [
              1,
              "#f0f921"
             ]
            ],
            "type": "histogram2d"
           }
          ],
          "histogram2dcontour": [
           {
            "colorbar": {
             "outlinewidth": 0,
             "ticks": ""
            },
            "colorscale": [
             [
              0,
              "#0d0887"
             ],
             [
              0.1111111111111111,
              "#46039f"
             ],
             [
              0.2222222222222222,
              "#7201a8"
             ],
             [
              0.3333333333333333,
              "#9c179e"
             ],
             [
              0.4444444444444444,
              "#bd3786"
             ],
             [
              0.5555555555555556,
              "#d8576b"
             ],
             [
              0.6666666666666666,
              "#ed7953"
             ],
             [
              0.7777777777777778,
              "#fb9f3a"
             ],
             [
              0.8888888888888888,
              "#fdca26"
             ],
             [
              1,
              "#f0f921"
             ]
            ],
            "type": "histogram2dcontour"
           }
          ],
          "mesh3d": [
           {
            "colorbar": {
             "outlinewidth": 0,
             "ticks": ""
            },
            "type": "mesh3d"
           }
          ],
          "parcoords": [
           {
            "line": {
             "colorbar": {
              "outlinewidth": 0,
              "ticks": ""
             }
            },
            "type": "parcoords"
           }
          ],
          "pie": [
           {
            "automargin": true,
            "type": "pie"
           }
          ],
          "scatter": [
           {
            "marker": {
             "colorbar": {
              "outlinewidth": 0,
              "ticks": ""
             }
            },
            "type": "scatter"
           }
          ],
          "scatter3d": [
           {
            "line": {
             "colorbar": {
              "outlinewidth": 0,
              "ticks": ""
             }
            },
            "marker": {
             "colorbar": {
              "outlinewidth": 0,
              "ticks": ""
             }
            },
            "type": "scatter3d"
           }
          ],
          "scattercarpet": [
           {
            "marker": {
             "colorbar": {
              "outlinewidth": 0,
              "ticks": ""
             }
            },
            "type": "scattercarpet"
           }
          ],
          "scattergeo": [
           {
            "marker": {
             "colorbar": {
              "outlinewidth": 0,
              "ticks": ""
             }
            },
            "type": "scattergeo"
           }
          ],
          "scattergl": [
           {
            "marker": {
             "colorbar": {
              "outlinewidth": 0,
              "ticks": ""
             }
            },
            "type": "scattergl"
           }
          ],
          "scattermapbox": [
           {
            "marker": {
             "colorbar": {
              "outlinewidth": 0,
              "ticks": ""
             }
            },
            "type": "scattermapbox"
           }
          ],
          "scatterpolar": [
           {
            "marker": {
             "colorbar": {
              "outlinewidth": 0,
              "ticks": ""
             }
            },
            "type": "scatterpolar"
           }
          ],
          "scatterpolargl": [
           {
            "marker": {
             "colorbar": {
              "outlinewidth": 0,
              "ticks": ""
             }
            },
            "type": "scatterpolargl"
           }
          ],
          "scatterternary": [
           {
            "marker": {
             "colorbar": {
              "outlinewidth": 0,
              "ticks": ""
             }
            },
            "type": "scatterternary"
           }
          ],
          "surface": [
           {
            "colorbar": {
             "outlinewidth": 0,
             "ticks": ""
            },
            "colorscale": [
             [
              0,
              "#0d0887"
             ],
             [
              0.1111111111111111,
              "#46039f"
             ],
             [
              0.2222222222222222,
              "#7201a8"
             ],
             [
              0.3333333333333333,
              "#9c179e"
             ],
             [
              0.4444444444444444,
              "#bd3786"
             ],
             [
              0.5555555555555556,
              "#d8576b"
             ],
             [
              0.6666666666666666,
              "#ed7953"
             ],
             [
              0.7777777777777778,
              "#fb9f3a"
             ],
             [
              0.8888888888888888,
              "#fdca26"
             ],
             [
              1,
              "#f0f921"
             ]
            ],
            "type": "surface"
           }
          ],
          "table": [
           {
            "cells": {
             "fill": {
              "color": "#EBF0F8"
             },
             "line": {
              "color": "white"
             }
            },
            "header": {
             "fill": {
              "color": "#C8D4E3"
             },
             "line": {
              "color": "white"
             }
            },
            "type": "table"
           }
          ]
         },
         "layout": {
          "annotationdefaults": {
           "arrowcolor": "#2a3f5f",
           "arrowhead": 0,
           "arrowwidth": 1
          },
          "autotypenumbers": "strict",
          "coloraxis": {
           "colorbar": {
            "outlinewidth": 0,
            "ticks": ""
           }
          },
          "colorscale": {
           "diverging": [
            [
             0,
             "#8e0152"
            ],
            [
             0.1,
             "#c51b7d"
            ],
            [
             0.2,
             "#de77ae"
            ],
            [
             0.3,
             "#f1b6da"
            ],
            [
             0.4,
             "#fde0ef"
            ],
            [
             0.5,
             "#f7f7f7"
            ],
            [
             0.6,
             "#e6f5d0"
            ],
            [
             0.7,
             "#b8e186"
            ],
            [
             0.8,
             "#7fbc41"
            ],
            [
             0.9,
             "#4d9221"
            ],
            [
             1,
             "#276419"
            ]
           ],
           "sequential": [
            [
             0,
             "#0d0887"
            ],
            [
             0.1111111111111111,
             "#46039f"
            ],
            [
             0.2222222222222222,
             "#7201a8"
            ],
            [
             0.3333333333333333,
             "#9c179e"
            ],
            [
             0.4444444444444444,
             "#bd3786"
            ],
            [
             0.5555555555555556,
             "#d8576b"
            ],
            [
             0.6666666666666666,
             "#ed7953"
            ],
            [
             0.7777777777777778,
             "#fb9f3a"
            ],
            [
             0.8888888888888888,
             "#fdca26"
            ],
            [
             1,
             "#f0f921"
            ]
           ],
           "sequentialminus": [
            [
             0,
             "#0d0887"
            ],
            [
             0.1111111111111111,
             "#46039f"
            ],
            [
             0.2222222222222222,
             "#7201a8"
            ],
            [
             0.3333333333333333,
             "#9c179e"
            ],
            [
             0.4444444444444444,
             "#bd3786"
            ],
            [
             0.5555555555555556,
             "#d8576b"
            ],
            [
             0.6666666666666666,
             "#ed7953"
            ],
            [
             0.7777777777777778,
             "#fb9f3a"
            ],
            [
             0.8888888888888888,
             "#fdca26"
            ],
            [
             1,
             "#f0f921"
            ]
           ]
          },
          "colorway": [
           "#636efa",
           "#EF553B",
           "#00cc96",
           "#ab63fa",
           "#FFA15A",
           "#19d3f3",
           "#FF6692",
           "#B6E880",
           "#FF97FF",
           "#FECB52"
          ],
          "font": {
           "color": "#2a3f5f"
          },
          "geo": {
           "bgcolor": "white",
           "lakecolor": "white",
           "landcolor": "#E5ECF6",
           "showlakes": true,
           "showland": true,
           "subunitcolor": "white"
          },
          "hoverlabel": {
           "align": "left"
          },
          "hovermode": "closest",
          "mapbox": {
           "style": "light"
          },
          "paper_bgcolor": "white",
          "plot_bgcolor": "#E5ECF6",
          "polar": {
           "angularaxis": {
            "gridcolor": "white",
            "linecolor": "white",
            "ticks": ""
           },
           "bgcolor": "#E5ECF6",
           "radialaxis": {
            "gridcolor": "white",
            "linecolor": "white",
            "ticks": ""
           }
          },
          "scene": {
           "xaxis": {
            "backgroundcolor": "#E5ECF6",
            "gridcolor": "white",
            "gridwidth": 2,
            "linecolor": "white",
            "showbackground": true,
            "ticks": "",
            "zerolinecolor": "white"
           },
           "yaxis": {
            "backgroundcolor": "#E5ECF6",
            "gridcolor": "white",
            "gridwidth": 2,
            "linecolor": "white",
            "showbackground": true,
            "ticks": "",
            "zerolinecolor": "white"
           },
           "zaxis": {
            "backgroundcolor": "#E5ECF6",
            "gridcolor": "white",
            "gridwidth": 2,
            "linecolor": "white",
            "showbackground": true,
            "ticks": "",
            "zerolinecolor": "white"
           }
          },
          "shapedefaults": {
           "line": {
            "color": "#2a3f5f"
           }
          },
          "ternary": {
           "aaxis": {
            "gridcolor": "white",
            "linecolor": "white",
            "ticks": ""
           },
           "baxis": {
            "gridcolor": "white",
            "linecolor": "white",
            "ticks": ""
           },
           "bgcolor": "#E5ECF6",
           "caxis": {
            "gridcolor": "white",
            "linecolor": "white",
            "ticks": ""
           }
          },
          "title": {
           "x": 0.05
          },
          "xaxis": {
           "automargin": true,
           "gridcolor": "white",
           "linecolor": "white",
           "ticks": "",
           "title": {
            "standoff": 15
           },
           "zerolinecolor": "white",
           "zerolinewidth": 2
          },
          "yaxis": {
           "automargin": true,
           "gridcolor": "white",
           "linecolor": "white",
           "ticks": "",
           "title": {
            "standoff": 15
           },
           "zerolinecolor": "white",
           "zerolinewidth": 2
          }
         }
        },
        "title": {
         "text": "Dwelling Type Composition"
        },
        "width": 600
       }
      },
      "image/png": "[encoded data removed]",
      "text/html": [
       "<div>                            <div id=\"fdd9b786-21a0-4e7e-9361-0afcbffc6dde\" class=\"plotly-graph-div\" style=\"height:600px; width:600px;\"></div>            <script type=\"text/javascript\">                require([\"plotly\"], function(Plotly) {                    window.PLOTLYENV=window.PLOTLYENV || {};                                    if (document.getElementById(\"fdd9b786-21a0-4e7e-9361-0afcbffc6dde\")) {                    Plotly.newPlot(                        \"fdd9b786-21a0-4e7e-9361-0afcbffc6dde\",                        [{\"branchvalues\":\"total\",\"domain\":{\"x\":[0.0,1.0],\"y\":[0.0,1.0]},\"hovertemplate\":\"labels=%{label}<br>Number of Dwellings=%{value}<br>parent=%{parent}<br>id=%{id}<extra></extra>\",\"ids\":[\"Allston-Brighton/Apartment\",\"Back Bay/Apartment\",\"Fenway/Kenmore/Apartment\",\"Jamaica Plain/Apartment\",\"South Boston/Apartment\",\"South End/Apartment\",\"Allston-Brighton/Bed & Breakfast\",\"Back Bay/Bed & Breakfast\",\"Fenway/Kenmore/Bed & Breakfast\",\"Jamaica Plain/Bed & Breakfast\",\"South End/Bed & Breakfast\",\"Allston-Brighton/Condominium\",\"Back Bay/Condominium\",\"Fenway/Kenmore/Condominium\",\"Jamaica Plain/Condominium\",\"South Boston/Condominium\",\"South End/Condominium\",\"Allston-Brighton/Dorm\",\"South End/Dorm\",\"Jamaica Plain/Entire Floor\",\"Back Bay/Guesthouse\",\"Allston-Brighton/House\",\"Back Bay/House\",\"Fenway/Kenmore/House\",\"Jamaica Plain/House\",\"South Boston/House\",\"South End/House\",\"Allston-Brighton/Loft\",\"Back Bay/Loft\",\"Jamaica Plain/Loft\",\"South Boston/Loft\",\"South End/Loft\",\"Allston-Brighton/Other\",\"Back Bay/Other\",\"South Boston/Other\",\"South End/Other\",\"Allston-Brighton/Townhouse\",\"Back Bay/Townhouse\",\"Jamaica Plain/Townhouse\",\"South Boston/Townhouse\",\"South End/Townhouse\",\"Allston-Brighton/Villa\",\"Allston-Brighton\",\"Back Bay\",\"Fenway/Kenmore\",\"Jamaica Plain\",\"South Boston\",\"South End\"],\"labels\":[\"Apartment\",\"Apartment\",\"Apartment\",\"Apartment\",\"Apartment\",\"Apartment\",\"Bed & Breakfast\",\"Bed & Breakfast\",\"Bed & Breakfast\",\"Bed & Breakfast\",\"Bed & Breakfast\",\"Condominium\",\"Condominium\",\"Condominium\",\"Condominium\",\"Condominium\",\"Condominium\",\"Dorm\",\"Dorm\",\"Entire Floor\",\"Guesthouse\",\"House\",\"House\",\"House\",\"House\",\"House\",\"House\",\"Loft\",\"Loft\",\"Loft\",\"Loft\",\"Loft\",\"Other\",\"Other\",\"Other\",\"Other\",\"Townhouse\",\"Townhouse\",\"Townhouse\",\"Townhouse\",\"Townhouse\",\"Villa\",\"Allston-Brighton\",\"Back Bay\",\"Fenway/Kenmore\",\"Jamaica Plain\",\"South Boston\",\"South End\"],\"name\":\"\",\"parents\":[\"Allston-Brighton\",\"Back Bay\",\"Fenway/Kenmore\",\"Jamaica Plain\",\"South Boston\",\"South End\",\"Allston-Brighton\",\"Back Bay\",\"Fenway/Kenmore\",\"Jamaica Plain\",\"South End\",\"Allston-Brighton\",\"Back Bay\",\"Fenway/Kenmore\",\"Jamaica Plain\",\"South Boston\",\"South End\",\"Allston-Brighton\",\"South End\",\"Jamaica Plain\",\"Back Bay\",\"Allston-Brighton\",\"Back Bay\",\"Fenway/Kenmore\",\"Jamaica Plain\",\"South Boston\",\"South End\",\"Allston-Brighton\",\"Back Bay\",\"Jamaica Plain\",\"South Boston\",\"South End\",\"Allston-Brighton\",\"Back Bay\",\"South Boston\",\"South End\",\"Allston-Brighton\",\"Back Bay\",\"Jamaica Plain\",\"South Boston\",\"South End\",\"Allston-Brighton\",\"\",\"\",\"\",\"\",\"\",\"\"],\"textinfo\":\"label+percent parent\",\"type\":\"sunburst\",\"values\":[245,247,239,176,137,241,1,2,1,10,6,13,24,7,28,31,27,1,1,1,1,94,8,2,87,30,9,2,4,2,4,4,1,2,8,2,5,2,10,6,8,1,363,290,249,314,216,298]}],                        {\"height\":600,\"legend\":{\"tracegroupgap\":0},\"template\":{\"data\":{\"bar\":[{\"error_x\":{\"color\":\"#2a3f5f\"},\"error_y\":{\"color\":\"#2a3f5f\"},\"marker\":{\"line\":{\"color\":\"#E5ECF6\",\"width\":0.5},\"pattern\":{\"fillmode\":\"overlay\",\"size\":10,\"solidity\":0.2}},\"type\":\"bar\"}],\"barpolar\":[{\"marker\":{\"line\":{\"color\":\"#E5ECF6\",\"width\":0.5},\"pattern\":{\"fillmode\":\"overlay\",\"size\":10,\"solidity\":0.2}},\"type\":\"barpolar\"}],\"carpet\":[{\"aaxis\":{\"endlinecolor\":\"#2a3f5f\",\"gridcolor\":\"white\",\"linecolor\":\"white\",\"minorgridcolor\":\"white\",\"startlinecolor\":\"#2a3f5f\"},\"baxis\":{\"endlinecolor\":\"#2a3f5f\",\"gridcolor\":\"white\",\"linecolor\":\"white\",\"minorgridcolor\":\"white\",\"startlinecolor\":\"#2a3f5f\"},\"type\":\"carpet\"}],\"choropleth\":[{\"colorbar\":{\"outlinewidth\":0,\"ticks\":\"\"},\"type\":\"choropleth\"}],\"contour\":[{\"colorbar\":{\"outlinewidth\":0,\"ticks\":\"\"},\"colorscale\":[[0.0,\"#0d0887\"],[0.1111111111111111,\"#46039f\"],[0.2222222222222222,\"#7201a8\"],[0.3333333333333333,\"#9c179e\"],[0.4444444444444444,\"#bd3786\"],[0.5555555555555556,\"#d8576b\"],[0.6666666666666666,\"#ed7953\"],[0.7777777777777778,\"#fb9f3a\"],[0.8888888888888888,\"#fdca26\"],[1.0,\"#f0f921\"]],\"type\":\"contour\"}],\"contourcarpet\":[{\"colorbar\":{\"outlinewidth\":0,\"ticks\":\"\"},\"type\":\"contourcarpet\"}],\"heatmap\":[{\"colorbar\":{\"outlinewidth\":0,\"ticks\":\"\"},\"colorscale\":[[0.0,\"#0d0887\"],[0.1111111111111111,\"#46039f\"],[0.2222222222222222,\"#7201a8\"],[0.3333333333333333,\"#9c179e\"],[0.4444444444444444,\"#bd3786\"],[0.5555555555555556,\"#d8576b\"],[0.6666666666666666,\"#ed7953\"],[0.7777777777777778,\"#fb9f3a\"],[0.8888888888888888,\"#fdca26\"],[1.0,\"#f0f921\"]],\"type\":\"heatmap\"}],\"heatmapgl\":[{\"colorbar\":{\"outlinewidth\":0,\"ticks\":\"\"},\"colorscale\":[[0.0,\"#0d0887\"],[0.1111111111111111,\"#46039f\"],[0.2222222222222222,\"#7201a8\"],[0.3333333333333333,\"#9c179e\"],[0.4444444444444444,\"#bd3786\"],[0.5555555555555556,\"#d8576b\"],[0.6666666666666666,\"#ed7953\"],[0.7777777777777778,\"#fb9f3a\"],[0.8888888888888888,\"#fdca26\"],[1.0,\"#f0f921\"]],\"type\":\"heatmapgl\"}],\"histogram\":[{\"marker\":{\"pattern\":{\"fillmode\":\"overlay\",\"size\":10,\"solidity\":0.2}},\"type\":\"histogram\"}],\"histogram2d\":[{\"colorbar\":{\"outlinewidth\":0,\"ticks\":\"\"},\"colorscale\":[[0.0,\"#0d0887\"],[0.1111111111111111,\"#46039f\"],[0.2222222222222222,\"#7201a8\"],[0.3333333333333333,\"#9c179e\"],[0.4444444444444444,\"#bd3786\"],[0.5555555555555556,\"#d8576b\"],[0.6666666666666666,\"#ed7953\"],[0.7777777777777778,\"#fb9f3a\"],[0.8888888888888888,\"#fdca26\"],[1.0,\"#f0f921\"]],\"type\":\"histogram2d\"}],\"histogram2dcontour\":[{\"colorbar\":{\"outlinewidth\":0,\"ticks\":\"\"},\"colorscale\":[[0.0,\"#0d0887\"],[0.1111111111111111,\"#46039f\"],[0.2222222222222222,\"#7201a8\"],[0.3333333333333333,\"#9c179e\"],[0.4444444444444444,\"#bd3786\"],[0.5555555555555556,\"#d8576b\"],[0.6666666666666666,\"#ed7953\"],[0.7777777777777778,\"#fb9f3a\"],[0.8888888888888888,\"#fdca26\"],[1.0,\"#f0f921\"]],\"type\":\"histogram2dcontour\"}],\"mesh3d\":[{\"colorbar\":{\"outlinewidth\":0,\"ticks\":\"\"},\"type\":\"mesh3d\"}],\"parcoords\":[{\"line\":{\"colorbar\":{\"outlinewidth\":0,\"ticks\":\"\"}},\"type\":\"parcoords\"}],\"pie\":[{\"automargin\":true,\"type\":\"pie\"}],\"scatter\":[{\"marker\":{\"colorbar\":{\"outlinewidth\":0,\"ticks\":\"\"}},\"type\":\"scatter\"}],\"scatter3d\":[{\"line\":{\"colorbar\":{\"outlinewidth\":0,\"ticks\":\"\"}},\"marker\":{\"colorbar\":{\"outlinewidth\":0,\"ticks\":\"\"}},\"type\":\"scatter3d\"}],\"scattercarpet\":[{\"marker\":{\"colorbar\":{\"outlinewidth\":0,\"ticks\":\"\"}},\"type\":\"scattercarpet\"}],\"scattergeo\":[{\"marker\":{\"colorbar\":{\"outlinewidth\":0,\"ticks\":\"\"}},\"type\":\"scattergeo\"}],\"scattergl\":[{\"marker\":{\"colorbar\":{\"outlinewidth\":0,\"ticks\":\"\"}},\"type\":\"scattergl\"}],\"scattermapbox\":[{\"marker\":{\"colorbar\":{\"outlinewidth\":0,\"ticks\":\"\"}},\"type\":\"scattermapbox\"}],\"scatterpolar\":[{\"marker\":{\"colorbar\":{\"outlinewidth\":0,\"ticks\":\"\"}},\"type\":\"scatterpolar\"}],\"scatterpolargl\":[{\"marker\":{\"colorbar\":{\"outlinewidth\":0,\"ticks\":\"\"}},\"type\":\"scatterpolargl\"}],\"scatterternary\":[{\"marker\":{\"colorbar\":{\"outlinewidth\":0,\"ticks\":\"\"}},\"type\":\"scatterternary\"}],\"surface\":[{\"colorbar\":{\"outlinewidth\":0,\"ticks\":\"\"},\"colorscale\":[[0.0,\"#0d0887\"],[0.1111111111111111,\"#46039f\"],[0.2222222222222222,\"#7201a8\"],[0.3333333333333333,\"#9c179e\"],[0.4444444444444444,\"#bd3786\"],[0.5555555555555556,\"#d8576b\"],[0.6666666666666666,\"#ed7953\"],[0.7777777777777778,\"#fb9f3a\"],[0.8888888888888888,\"#fdca26\"],[1.0,\"#f0f921\"]],\"type\":\"surface\"}],\"table\":[{\"cells\":{\"fill\":{\"color\":\"#EBF0F8\"},\"line\":{\"color\":\"white\"}},\"header\":{\"fill\":{\"color\":\"#C8D4E3\"},\"line\":{\"color\":\"white\"}},\"type\":\"table\"}]},\"layout\":{\"annotationdefaults\":{\"arrowcolor\":\"#2a3f5f\",\"arrowhead\":0,\"arrowwidth\":1},\"autotypenumbers\":\"strict\",\"coloraxis\":{\"colorbar\":{\"outlinewidth\":0,\"ticks\":\"\"}},\"colorscale\":{\"diverging\":[[0,\"#8e0152\"],[0.1,\"#c51b7d\"],[0.2,\"#de77ae\"],[0.3,\"#f1b6da\"],[0.4,\"#fde0ef\"],[0.5,\"#f7f7f7\"],[0.6,\"#e6f5d0\"],[0.7,\"#b8e186\"],[0.8,\"#7fbc41\"],[0.9,\"#4d9221\"],[1,\"#276419\"]],\"sequential\":[[0.0,\"#0d0887\"],[0.1111111111111111,\"#46039f\"],[0.2222222222222222,\"#7201a8\"],[0.3333333333333333,\"#9c179e\"],[0.4444444444444444,\"#bd3786\"],[0.5555555555555556,\"#d8576b\"],[0.6666666666666666,\"#ed7953\"],[0.7777777777777778,\"#fb9f3a\"],[0.8888888888888888,\"#fdca26\"],[1.0,\"#f0f921\"]],\"sequentialminus\":[[0.0,\"#0d0887\"],[0.1111111111111111,\"#46039f\"],[0.2222222222222222,\"#7201a8\"],[0.3333333333333333,\"#9c179e\"],[0.4444444444444444,\"#bd3786\"],[0.5555555555555556,\"#d8576b\"],[0.6666666666666666,\"#ed7953\"],[0.7777777777777778,\"#fb9f3a\"],[0.8888888888888888,\"#fdca26\"],[1.0,\"#f0f921\"]]},\"colorway\":[\"#636efa\",\"#EF553B\",\"#00cc96\",\"#ab63fa\",\"#FFA15A\",\"#19d3f3\",\"#FF6692\",\"#B6E880\",\"#FF97FF\",\"#FECB52\"],\"font\":{\"color\":\"#2a3f5f\"},\"geo\":{\"bgcolor\":\"white\",\"lakecolor\":\"white\",\"landcolor\":\"#E5ECF6\",\"showlakes\":true,\"showland\":true,\"subunitcolor\":\"white\"},\"hoverlabel\":{\"align\":\"left\"},\"hovermode\":\"closest\",\"mapbox\":{\"style\":\"light\"},\"paper_bgcolor\":\"white\",\"plot_bgcolor\":\"#E5ECF6\",\"polar\":{\"angularaxis\":{\"gridcolor\":\"white\",\"linecolor\":\"white\",\"ticks\":\"\"},\"bgcolor\":\"#E5ECF6\",\"radialaxis\":{\"gridcolor\":\"white\",\"linecolor\":\"white\",\"ticks\":\"\"}},\"scene\":{\"xaxis\":{\"backgroundcolor\":\"#E5ECF6\",\"gridcolor\":\"white\",\"gridwidth\":2,\"linecolor\":\"white\",\"showbackground\":true,\"ticks\":\"\",\"zerolinecolor\":\"white\"},\"yaxis\":{\"backgroundcolor\":\"#E5ECF6\",\"gridcolor\":\"white\",\"gridwidth\":2,\"linecolor\":\"white\",\"showbackground\":true,\"ticks\":\"\",\"zerolinecolor\":\"white\"},\"zaxis\":{\"backgroundcolor\":\"#E5ECF6\",\"gridcolor\":\"white\",\"gridwidth\":2,\"linecolor\":\"white\",\"showbackground\":true,\"ticks\":\"\",\"zerolinecolor\":\"white\"}},\"shapedefaults\":{\"line\":{\"color\":\"#2a3f5f\"}},\"ternary\":{\"aaxis\":{\"gridcolor\":\"white\",\"linecolor\":\"white\",\"ticks\":\"\"},\"baxis\":{\"gridcolor\":\"white\",\"linecolor\":\"white\",\"ticks\":\"\"},\"bgcolor\":\"#E5ECF6\",\"caxis\":{\"gridcolor\":\"white\",\"linecolor\":\"white\",\"ticks\":\"\"}},\"title\":{\"x\":0.05},\"xaxis\":{\"automargin\":true,\"gridcolor\":\"white\",\"linecolor\":\"white\",\"ticks\":\"\",\"title\":{\"standoff\":15},\"zerolinecolor\":\"white\",\"zerolinewidth\":2},\"yaxis\":{\"automargin\":true,\"gridcolor\":\"white\",\"linecolor\":\"white\",\"ticks\":\"\",\"title\":{\"standoff\":15},\"zerolinecolor\":\"white\",\"zerolinewidth\":2}}},\"title\":{\"text\":\"Dwelling Type Composition\"},\"width\":600},                        {\"responsive\": true}                    ).then(function(){\n",
       "                            \n",
       "var gd = document.getElementById('fdd9b786-21a0-4e7e-9361-0afcbffc6dde');\n",
       "var x = new MutationObserver(function (mutations, observer) {{\n",
       "        var display = window.getComputedStyle(gd).display;\n",
       "        if (!display || display === 'none') {{\n",
       "            console.log([gd, 'removed!']);\n",
       "            Plotly.purge(gd);\n",
       "            observer.disconnect();\n",
       "        }}\n",
       "}});\n",
       "\n",
       "// Listen for the removal of the full notebook cells\n",
       "var notebookContainer = gd.closest('#notebook-container');\n",
       "if (notebookContainer) {{\n",
       "    x.observe(notebookContainer, {childList: true});\n",
       "}}\n",
       "\n",
       "// Listen for the clearing of the current output cell\n",
       "var outputEl = gd.closest('.output');\n",
       "if (outputEl) {{\n",
       "    x.observe(outputEl, {childList: true});\n",
       "}}\n",
       "\n",
       "                        })                };                });            </script>        </div>"
      ]
     },
     "metadata": {},
     "output_type": "display_data"
    }
   ],
   "source": [
    "# Now that we know the locations we are going to use, let's plot our sunburst chart!\n",
    "\n",
    "import plotly.express as px\n",
    "property_types_count = airbnb.groupby(['neighbourhood','property_type'], as_index = False)['id'].count()\n",
    "property_types_count = (property_types_count.\n",
    "                        sort_values(by = 'id', ascending = False)\n",
    "                       ) \n",
    "# Excluding the neighborhoods which are not in the 'desirable_neighborhoods' list.\n",
    "for i, n in zip(property_types_count.index, property_types_count['neighbourhood']) :\n",
    "    if n not in desirable_neighborhoods:\n",
    "        property_types_count.drop(i, inplace = True)\n",
    "\n",
    "# Unfortunately plotly has a bug for the sunburst plot in which it does not recognize the 'id' column\n",
    "# for the chart creation. We need thus make a second column with the same data as the that one.\n",
    "# We are going to call the new column 'Number of Dwellings'\n",
    "property_types_count['Number of Dwellings'] = property_types_count['id']\n",
    "\n",
    "# Creating a matplotlib figure to our sunburst chart.\n",
    "#plt.figure(figsize=(15,10))\n",
    "figure = px.sunburst(property_types_count, values = 'Number of Dwellings', path = ['neighbourhood','property_type'], \n",
    "                     width = 600, height = 600, title = 'Dwelling Type Composition')\n",
    "figure.update_traces(textinfo=\"label+percent parent\")\n",
    "figure.show()"
   ]
  },
  {
   "cell_type": "markdown",
   "id": "47a85386-a532-4ac9-8b76-09a496d4e460",
   "metadata": {},
   "source": [
    "<p style = 'font-size:30px'> <strong>Task 2</strong> </p>"
   ]
  },
  {
   "cell_type": "code",
   "execution_count": 288,
   "id": "51c0edbb-e6a4-4f48-820f-6d9f423ed076",
   "metadata": {},
   "outputs": [
    {
     "data": {
      "text/plain": [
       "1        (8.0, 10.0]\n",
       "2        (8.0, 10.0]\n",
       "4        (8.0, 10.0]\n",
       "5        (8.0, 10.0]\n",
       "7        (8.0, 10.0]\n",
       "            ...     \n",
       "3529    (1.992, 4.0]\n",
       "3532     (8.0, 10.0]\n",
       "3533      (6.0, 8.0]\n",
       "3534     (8.0, 10.0]\n",
       "3574      (6.0, 8.0]\n",
       "Name: review_scores_value, Length: 2350, dtype: category\n",
       "Categories (4, interval[float64]): [(1.992, 4.0] < (4.0, 6.0] < (6.0, 8.0] < (8.0, 10.0]]"
      ]
     },
     "execution_count": 288,
     "metadata": {},
     "output_type": "execute_result"
    }
   ],
   "source": [
    "# In this task, I am going to create four categories for the ratings from the 'review_scores_value' column.\n",
    "# Each of the categories will contain the same number of dwellings.\n",
    "categories = pd.cut(airbnb['review_scores_value'].dropna(), 4)\n",
    "categories"
   ]
  },
  {
   "cell_type": "code",
   "execution_count": 289,
   "id": "ead23625-d492-481d-a7d1-1f760abd2e34",
   "metadata": {},
   "outputs": [
    {
     "data": {
      "text/plain": [
       "1       Excellent\n",
       "2       Excellent\n",
       "4       Excellent\n",
       "5       Excellent\n",
       "7       Excellent\n",
       "          ...    \n",
       "3529         Poor\n",
       "3532    Excellent\n",
       "3533         Good\n",
       "3534    Excellent\n",
       "3574         Good\n",
       "Name: review_scores_value, Length: 2350, dtype: category\n",
       "Categories (4, object): ['Poor' < 'Avergage' < 'Good' < 'Excellent']"
      ]
     },
     "execution_count": 289,
     "metadata": {},
     "output_type": "execute_result"
    }
   ],
   "source": [
    "# Let's set some labels to the categories\n",
    "categories = pd.cut(airbnb['review_scores_value'].dropna(), 4,\n",
    "                   labels = ['Poor', 'Avergage', 'Good', 'Excellent'])\n",
    "categories"
   ]
  },
  {
   "cell_type": "code",
   "execution_count": 290,
   "id": "65ef73af-0a8c-4065-948e-0e33ab5e2789",
   "metadata": {},
   "outputs": [
    {
     "data": {
      "text/html": [
       "<div>\n",
       "<style scoped>\n",
       "    .dataframe tbody tr th:only-of-type {\n",
       "        vertical-align: middle;\n",
       "    }\n",
       "\n",
       "    .dataframe tbody tr th {\n",
       "        vertical-align: top;\n",
       "    }\n",
       "\n",
       "    .dataframe thead th {\n",
       "        text-align: right;\n",
       "    }\n",
       "</style>\n",
       "<table border=\"1\" class=\"dataframe\">\n",
       "  <thead>\n",
       "    <tr style=\"text-align: right;\">\n",
       "      <th></th>\n",
       "      <th>id</th>\n",
       "      <th>listing_url</th>\n",
       "      <th>scrape_id</th>\n",
       "      <th>last_scraped</th>\n",
       "      <th>name</th>\n",
       "      <th>summary</th>\n",
       "      <th>space</th>\n",
       "      <th>description</th>\n",
       "      <th>experiences_offered</th>\n",
       "      <th>neighborhood_overview</th>\n",
       "      <th>notes</th>\n",
       "      <th>transit</th>\n",
       "      <th>access</th>\n",
       "      <th>interaction</th>\n",
       "      <th>house_rules</th>\n",
       "      <th>thumbnail_url</th>\n",
       "      <th>medium_url</th>\n",
       "      <th>picture_url</th>\n",
       "      <th>xl_picture_url</th>\n",
       "      <th>host_id</th>\n",
       "      <th>host_url</th>\n",
       "      <th>host_name</th>\n",
       "      <th>host_since</th>\n",
       "      <th>host_location</th>\n",
       "      <th>host_about</th>\n",
       "      <th>host_response_time</th>\n",
       "      <th>host_response_rate</th>\n",
       "      <th>host_acceptance_rate</th>\n",
       "      <th>host_is_superhost</th>\n",
       "      <th>host_thumbnail_url</th>\n",
       "      <th>host_picture_url</th>\n",
       "      <th>host_neighbourhood</th>\n",
       "      <th>host_listings_count</th>\n",
       "      <th>host_total_listings_count</th>\n",
       "      <th>host_verifications</th>\n",
       "      <th>host_has_profile_pic</th>\n",
       "      <th>host_identity_verified</th>\n",
       "      <th>street</th>\n",
       "      <th>neighbourhood</th>\n",
       "      <th>neighbourhood_cleansed</th>\n",
       "      <th>neighbourhood_group_cleansed</th>\n",
       "      <th>city</th>\n",
       "      <th>state</th>\n",
       "      <th>zipcode</th>\n",
       "      <th>market</th>\n",
       "      <th>smart_location</th>\n",
       "      <th>country_code</th>\n",
       "      <th>country</th>\n",
       "      <th>latitude</th>\n",
       "      <th>longitude</th>\n",
       "      <th>is_location_exact</th>\n",
       "      <th>property_type</th>\n",
       "      <th>room_type</th>\n",
       "      <th>accommodates</th>\n",
       "      <th>bathrooms</th>\n",
       "      <th>bedrooms</th>\n",
       "      <th>beds</th>\n",
       "      <th>bed_type</th>\n",
       "      <th>amenities</th>\n",
       "      <th>square_feet</th>\n",
       "      <th>price</th>\n",
       "      <th>weekly_price</th>\n",
       "      <th>monthly_price</th>\n",
       "      <th>security_deposit</th>\n",
       "      <th>cleaning_fee</th>\n",
       "      <th>guests_included</th>\n",
       "      <th>extra_people</th>\n",
       "      <th>minimum_nights</th>\n",
       "      <th>maximum_nights</th>\n",
       "      <th>calendar_updated</th>\n",
       "      <th>has_availability</th>\n",
       "      <th>availability_30</th>\n",
       "      <th>availability_60</th>\n",
       "      <th>availability_90</th>\n",
       "      <th>availability_365</th>\n",
       "      <th>calendar_last_scraped</th>\n",
       "      <th>number_of_reviews</th>\n",
       "      <th>first_review</th>\n",
       "      <th>last_review</th>\n",
       "      <th>review_scores_rating</th>\n",
       "      <th>review_scores_accuracy</th>\n",
       "      <th>review_scores_cleanliness</th>\n",
       "      <th>review_scores_checkin</th>\n",
       "      <th>review_scores_communication</th>\n",
       "      <th>review_scores_location</th>\n",
       "      <th>review_scores_value</th>\n",
       "      <th>requires_license</th>\n",
       "      <th>license</th>\n",
       "      <th>jurisdiction_names</th>\n",
       "      <th>instant_bookable</th>\n",
       "      <th>cancellation_policy</th>\n",
       "      <th>require_guest_profile_picture</th>\n",
       "      <th>require_guest_phone_verification</th>\n",
       "      <th>calculated_host_listings_count</th>\n",
       "      <th>reviews_per_month</th>\n",
       "      <th>Lodging Quality</th>\n",
       "    </tr>\n",
       "  </thead>\n",
       "  <tbody>\n",
       "    <tr>\n",
       "      <th>0</th>\n",
       "      <td>12147973</td>\n",
       "      <td>https://www.airbnb.com/rooms/12147973</td>\n",
       "      <td>20160906204935</td>\n",
       "      <td>2016-09-07</td>\n",
       "      <td>Sunny Bungalow in the City</td>\n",
       "      <td>Cozy, sunny, family home.  Master bedroom high...</td>\n",
       "      <td>The house has an open and cozy feel at the sam...</td>\n",
       "      <td>Cozy, sunny, family home.  Master bedroom high...</td>\n",
       "      <td>none</td>\n",
       "      <td>Roslindale is quiet, convenient and friendly. ...</td>\n",
       "      <td>NaN</td>\n",
       "      <td>The bus stop is 2 blocks away, and frequent. B...</td>\n",
       "      <td>You will have access to 2 bedrooms, a living r...</td>\n",
       "      <td>NaN</td>\n",
       "      <td>Clean up and treat the home the way you'd like...</td>\n",
       "      <td>https://a2.muscache.com/im/pictures/c0842db1-e...</td>\n",
       "      <td>https://a2.muscache.com/im/pictures/c0842db1-e...</td>\n",
       "      <td>https://a2.muscache.com/im/pictures/c0842db1-e...</td>\n",
       "      <td>https://a2.muscache.com/im/pictures/c0842db1-e...</td>\n",
       "      <td>31303940</td>\n",
       "      <td>https://www.airbnb.com/users/show/31303940</td>\n",
       "      <td>Virginia</td>\n",
       "      <td>2015-04-15</td>\n",
       "      <td>Boston, Massachusetts, United States</td>\n",
       "      <td>We are country and city connecting in our deck...</td>\n",
       "      <td>NaN</td>\n",
       "      <td>NaN</td>\n",
       "      <td>NaN</td>\n",
       "      <td>f</td>\n",
       "      <td>https://a2.muscache.com/im/pictures/5936fef0-b...</td>\n",
       "      <td>https://a2.muscache.com/im/pictures/5936fef0-b...</td>\n",
       "      <td>Roslindale</td>\n",
       "      <td>1</td>\n",
       "      <td>1</td>\n",
       "      <td>['email', 'phone', 'facebook', 'reviews']</td>\n",
       "      <td>t</td>\n",
       "      <td>f</td>\n",
       "      <td>Birch Street, Boston, MA 02131, United States</td>\n",
       "      <td>Roslindale</td>\n",
       "      <td>Roslindale</td>\n",
       "      <td>NaN</td>\n",
       "      <td>Boston</td>\n",
       "      <td>MA</td>\n",
       "      <td>02131</td>\n",
       "      <td>Boston</td>\n",
       "      <td>Boston, MA</td>\n",
       "      <td>US</td>\n",
       "      <td>United States</td>\n",
       "      <td>42.282619</td>\n",
       "      <td>-71.133068</td>\n",
       "      <td>t</td>\n",
       "      <td>House</td>\n",
       "      <td>Entire home/apt</td>\n",
       "      <td>4</td>\n",
       "      <td>1.5</td>\n",
       "      <td>2.0</td>\n",
       "      <td>3.0</td>\n",
       "      <td>Real Bed</td>\n",
       "      <td>{TV,\"Wireless Internet\",Kitchen,\"Free Parking ...</td>\n",
       "      <td>NaN</td>\n",
       "      <td>250.0</td>\n",
       "      <td>NaN</td>\n",
       "      <td>NaN</td>\n",
       "      <td>NaN</td>\n",
       "      <td>$35.00</td>\n",
       "      <td>1</td>\n",
       "      <td>$0.00</td>\n",
       "      <td>2</td>\n",
       "      <td>1125</td>\n",
       "      <td>2 weeks ago</td>\n",
       "      <td>NaN</td>\n",
       "      <td>0</td>\n",
       "      <td>0</td>\n",
       "      <td>0</td>\n",
       "      <td>0</td>\n",
       "      <td>2016-09-06</td>\n",
       "      <td>0</td>\n",
       "      <td>NaN</td>\n",
       "      <td>NaN</td>\n",
       "      <td>NaN</td>\n",
       "      <td>NaN</td>\n",
       "      <td>NaN</td>\n",
       "      <td>NaN</td>\n",
       "      <td>NaN</td>\n",
       "      <td>NaN</td>\n",
       "      <td>NaN</td>\n",
       "      <td>f</td>\n",
       "      <td>NaN</td>\n",
       "      <td>NaN</td>\n",
       "      <td>f</td>\n",
       "      <td>moderate</td>\n",
       "      <td>f</td>\n",
       "      <td>f</td>\n",
       "      <td>1</td>\n",
       "      <td>NaN</td>\n",
       "      <td>NaN</td>\n",
       "    </tr>\n",
       "    <tr>\n",
       "      <th>1</th>\n",
       "      <td>3075044</td>\n",
       "      <td>https://www.airbnb.com/rooms/3075044</td>\n",
       "      <td>20160906204935</td>\n",
       "      <td>2016-09-07</td>\n",
       "      <td>Charming room in pet friendly apt</td>\n",
       "      <td>Charming and quiet room in a second floor 1910...</td>\n",
       "      <td>Small but cozy and quite room with a full size...</td>\n",
       "      <td>Charming and quiet room in a second floor 1910...</td>\n",
       "      <td>none</td>\n",
       "      <td>The room is in Roslindale, a diverse and prima...</td>\n",
       "      <td>If you don't have a US cell phone, you can tex...</td>\n",
       "      <td>Plenty of safe street parking. Bus stops a few...</td>\n",
       "      <td>Apt has one more bedroom (which I use) and lar...</td>\n",
       "      <td>If I am at home, I am likely working in my hom...</td>\n",
       "      <td>Pet friendly but please confirm with me if the...</td>\n",
       "      <td>https://a1.muscache.com/im/pictures/39327812/d...</td>\n",
       "      <td>https://a1.muscache.com/im/pictures/39327812/d...</td>\n",
       "      <td>https://a1.muscache.com/im/pictures/39327812/d...</td>\n",
       "      <td>https://a1.muscache.com/im/pictures/39327812/d...</td>\n",
       "      <td>2572247</td>\n",
       "      <td>https://www.airbnb.com/users/show/2572247</td>\n",
       "      <td>Andrea</td>\n",
       "      <td>2012-06-07</td>\n",
       "      <td>Boston, Massachusetts, United States</td>\n",
       "      <td>I live in Boston and I like to travel and have...</td>\n",
       "      <td>within an hour</td>\n",
       "      <td>100%</td>\n",
       "      <td>100%</td>\n",
       "      <td>f</td>\n",
       "      <td>https://a2.muscache.com/im/users/2572247/profi...</td>\n",
       "      <td>https://a2.muscache.com/im/users/2572247/profi...</td>\n",
       "      <td>Roslindale</td>\n",
       "      <td>1</td>\n",
       "      <td>1</td>\n",
       "      <td>['email', 'phone', 'facebook', 'linkedin', 'am...</td>\n",
       "      <td>t</td>\n",
       "      <td>t</td>\n",
       "      <td>Pinehurst Street, Boston, MA 02131, United States</td>\n",
       "      <td>Roslindale</td>\n",
       "      <td>Roslindale</td>\n",
       "      <td>NaN</td>\n",
       "      <td>Boston</td>\n",
       "      <td>MA</td>\n",
       "      <td>02131</td>\n",
       "      <td>Boston</td>\n",
       "      <td>Boston, MA</td>\n",
       "      <td>US</td>\n",
       "      <td>United States</td>\n",
       "      <td>42.286241</td>\n",
       "      <td>-71.134374</td>\n",
       "      <td>t</td>\n",
       "      <td>Apartment</td>\n",
       "      <td>Private room</td>\n",
       "      <td>2</td>\n",
       "      <td>1.0</td>\n",
       "      <td>1.0</td>\n",
       "      <td>1.0</td>\n",
       "      <td>Real Bed</td>\n",
       "      <td>{TV,Internet,\"Wireless Internet\",\"Air Conditio...</td>\n",
       "      <td>NaN</td>\n",
       "      <td>65.0</td>\n",
       "      <td>$400.00</td>\n",
       "      <td>NaN</td>\n",
       "      <td>$95.00</td>\n",
       "      <td>$10.00</td>\n",
       "      <td>0</td>\n",
       "      <td>$0.00</td>\n",
       "      <td>2</td>\n",
       "      <td>15</td>\n",
       "      <td>a week ago</td>\n",
       "      <td>NaN</td>\n",
       "      <td>26</td>\n",
       "      <td>54</td>\n",
       "      <td>84</td>\n",
       "      <td>359</td>\n",
       "      <td>2016-09-06</td>\n",
       "      <td>36</td>\n",
       "      <td>2014-06-01</td>\n",
       "      <td>2016-08-13</td>\n",
       "      <td>94.0</td>\n",
       "      <td>10.0</td>\n",
       "      <td>9.0</td>\n",
       "      <td>10.0</td>\n",
       "      <td>10.0</td>\n",
       "      <td>9.0</td>\n",
       "      <td>9.0</td>\n",
       "      <td>f</td>\n",
       "      <td>NaN</td>\n",
       "      <td>NaN</td>\n",
       "      <td>t</td>\n",
       "      <td>moderate</td>\n",
       "      <td>f</td>\n",
       "      <td>f</td>\n",
       "      <td>1</td>\n",
       "      <td>1.30</td>\n",
       "      <td>Excellent</td>\n",
       "    </tr>\n",
       "    <tr>\n",
       "      <th>2</th>\n",
       "      <td>6976</td>\n",
       "      <td>https://www.airbnb.com/rooms/6976</td>\n",
       "      <td>20160906204935</td>\n",
       "      <td>2016-09-07</td>\n",
       "      <td>Mexican Folk Art Haven in Boston</td>\n",
       "      <td>Come stay with a friendly, middle-aged guy in ...</td>\n",
       "      <td>Come stay with a friendly, middle-aged guy in ...</td>\n",
       "      <td>Come stay with a friendly, middle-aged guy in ...</td>\n",
       "      <td>none</td>\n",
       "      <td>The LOCATION: Roslindale is a safe and diverse...</td>\n",
       "      <td>I am in a scenic part of Boston with a couple ...</td>\n",
       "      <td>PUBLIC TRANSPORTATION: From the house, quick p...</td>\n",
       "      <td>I am living in the apartment during your stay,...</td>\n",
       "      <td>ABOUT ME: I'm a laid-back, friendly, unmarried...</td>\n",
       "      <td>I encourage you to use my kitchen, cooking and...</td>\n",
       "      <td>https://a2.muscache.com/im/pictures/6ae8335d-9...</td>\n",
       "      <td>https://a2.muscache.com/im/pictures/6ae8335d-9...</td>\n",
       "      <td>https://a2.muscache.com/im/pictures/6ae8335d-9...</td>\n",
       "      <td>https://a2.muscache.com/im/pictures/6ae8335d-9...</td>\n",
       "      <td>16701</td>\n",
       "      <td>https://www.airbnb.com/users/show/16701</td>\n",
       "      <td>Phil</td>\n",
       "      <td>2009-05-11</td>\n",
       "      <td>Boston, Massachusetts, United States</td>\n",
       "      <td>I am a middle-aged, single male with a wide ra...</td>\n",
       "      <td>within a few hours</td>\n",
       "      <td>100%</td>\n",
       "      <td>88%</td>\n",
       "      <td>t</td>\n",
       "      <td>https://a2.muscache.com/im/users/16701/profile...</td>\n",
       "      <td>https://a2.muscache.com/im/users/16701/profile...</td>\n",
       "      <td>Roslindale</td>\n",
       "      <td>1</td>\n",
       "      <td>1</td>\n",
       "      <td>['email', 'phone', 'reviews', 'jumio']</td>\n",
       "      <td>t</td>\n",
       "      <td>t</td>\n",
       "      <td>Ardale St., Boston, MA 02131, United States</td>\n",
       "      <td>Roslindale</td>\n",
       "      <td>Roslindale</td>\n",
       "      <td>NaN</td>\n",
       "      <td>Boston</td>\n",
       "      <td>MA</td>\n",
       "      <td>02131</td>\n",
       "      <td>Boston</td>\n",
       "      <td>Boston, MA</td>\n",
       "      <td>US</td>\n",
       "      <td>United States</td>\n",
       "      <td>42.292438</td>\n",
       "      <td>-71.135765</td>\n",
       "      <td>t</td>\n",
       "      <td>Apartment</td>\n",
       "      <td>Private room</td>\n",
       "      <td>2</td>\n",
       "      <td>1.0</td>\n",
       "      <td>1.0</td>\n",
       "      <td>1.0</td>\n",
       "      <td>Real Bed</td>\n",
       "      <td>{TV,\"Cable TV\",\"Wireless Internet\",\"Air Condit...</td>\n",
       "      <td>NaN</td>\n",
       "      <td>65.0</td>\n",
       "      <td>$395.00</td>\n",
       "      <td>$1,350.00</td>\n",
       "      <td>NaN</td>\n",
       "      <td>NaN</td>\n",
       "      <td>1</td>\n",
       "      <td>$20.00</td>\n",
       "      <td>3</td>\n",
       "      <td>45</td>\n",
       "      <td>5 days ago</td>\n",
       "      <td>NaN</td>\n",
       "      <td>19</td>\n",
       "      <td>46</td>\n",
       "      <td>61</td>\n",
       "      <td>319</td>\n",
       "      <td>2016-09-06</td>\n",
       "      <td>41</td>\n",
       "      <td>2009-07-19</td>\n",
       "      <td>2016-08-05</td>\n",
       "      <td>98.0</td>\n",
       "      <td>10.0</td>\n",
       "      <td>9.0</td>\n",
       "      <td>10.0</td>\n",
       "      <td>10.0</td>\n",
       "      <td>9.0</td>\n",
       "      <td>10.0</td>\n",
       "      <td>f</td>\n",
       "      <td>NaN</td>\n",
       "      <td>NaN</td>\n",
       "      <td>f</td>\n",
       "      <td>moderate</td>\n",
       "      <td>t</td>\n",
       "      <td>f</td>\n",
       "      <td>1</td>\n",
       "      <td>0.47</td>\n",
       "      <td>Excellent</td>\n",
       "    </tr>\n",
       "  </tbody>\n",
       "</table>\n",
       "</div>"
      ],
      "text/plain": [
       "         id                            listing_url       scrape_id  \\\n",
       "0  12147973  https://www.airbnb.com/rooms/12147973  20160906204935   \n",
       "1   3075044   https://www.airbnb.com/rooms/3075044  20160906204935   \n",
       "2      6976      https://www.airbnb.com/rooms/6976  20160906204935   \n",
       "\n",
       "  last_scraped                               name  \\\n",
       "0   2016-09-07         Sunny Bungalow in the City   \n",
       "1   2016-09-07  Charming room in pet friendly apt   \n",
       "2   2016-09-07   Mexican Folk Art Haven in Boston   \n",
       "\n",
       "                                             summary  \\\n",
       "0  Cozy, sunny, family home.  Master bedroom high...   \n",
       "1  Charming and quiet room in a second floor 1910...   \n",
       "2  Come stay with a friendly, middle-aged guy in ...   \n",
       "\n",
       "                                               space  \\\n",
       "0  The house has an open and cozy feel at the sam...   \n",
       "1  Small but cozy and quite room with a full size...   \n",
       "2  Come stay with a friendly, middle-aged guy in ...   \n",
       "\n",
       "                                         description experiences_offered  \\\n",
       "0  Cozy, sunny, family home.  Master bedroom high...                none   \n",
       "1  Charming and quiet room in a second floor 1910...                none   \n",
       "2  Come stay with a friendly, middle-aged guy in ...                none   \n",
       "\n",
       "                               neighborhood_overview  \\\n",
       "0  Roslindale is quiet, convenient and friendly. ...   \n",
       "1  The room is in Roslindale, a diverse and prima...   \n",
       "2  The LOCATION: Roslindale is a safe and diverse...   \n",
       "\n",
       "                                               notes  \\\n",
       "0                                                NaN   \n",
       "1  If you don't have a US cell phone, you can tex...   \n",
       "2  I am in a scenic part of Boston with a couple ...   \n",
       "\n",
       "                                             transit  \\\n",
       "0  The bus stop is 2 blocks away, and frequent. B...   \n",
       "1  Plenty of safe street parking. Bus stops a few...   \n",
       "2  PUBLIC TRANSPORTATION: From the house, quick p...   \n",
       "\n",
       "                                              access  \\\n",
       "0  You will have access to 2 bedrooms, a living r...   \n",
       "1  Apt has one more bedroom (which I use) and lar...   \n",
       "2  I am living in the apartment during your stay,...   \n",
       "\n",
       "                                         interaction  \\\n",
       "0                                                NaN   \n",
       "1  If I am at home, I am likely working in my hom...   \n",
       "2  ABOUT ME: I'm a laid-back, friendly, unmarried...   \n",
       "\n",
       "                                         house_rules  \\\n",
       "0  Clean up and treat the home the way you'd like...   \n",
       "1  Pet friendly but please confirm with me if the...   \n",
       "2  I encourage you to use my kitchen, cooking and...   \n",
       "\n",
       "                                       thumbnail_url  \\\n",
       "0  https://a2.muscache.com/im/pictures/c0842db1-e...   \n",
       "1  https://a1.muscache.com/im/pictures/39327812/d...   \n",
       "2  https://a2.muscache.com/im/pictures/6ae8335d-9...   \n",
       "\n",
       "                                          medium_url  \\\n",
       "0  https://a2.muscache.com/im/pictures/c0842db1-e...   \n",
       "1  https://a1.muscache.com/im/pictures/39327812/d...   \n",
       "2  https://a2.muscache.com/im/pictures/6ae8335d-9...   \n",
       "\n",
       "                                         picture_url  \\\n",
       "0  https://a2.muscache.com/im/pictures/c0842db1-e...   \n",
       "1  https://a1.muscache.com/im/pictures/39327812/d...   \n",
       "2  https://a2.muscache.com/im/pictures/6ae8335d-9...   \n",
       "\n",
       "                                      xl_picture_url   host_id  \\\n",
       "0  https://a2.muscache.com/im/pictures/c0842db1-e...  31303940   \n",
       "1  https://a1.muscache.com/im/pictures/39327812/d...   2572247   \n",
       "2  https://a2.muscache.com/im/pictures/6ae8335d-9...     16701   \n",
       "\n",
       "                                     host_url host_name  host_since  \\\n",
       "0  https://www.airbnb.com/users/show/31303940  Virginia  2015-04-15   \n",
       "1   https://www.airbnb.com/users/show/2572247    Andrea  2012-06-07   \n",
       "2     https://www.airbnb.com/users/show/16701      Phil  2009-05-11   \n",
       "\n",
       "                          host_location  \\\n",
       "0  Boston, Massachusetts, United States   \n",
       "1  Boston, Massachusetts, United States   \n",
       "2  Boston, Massachusetts, United States   \n",
       "\n",
       "                                          host_about  host_response_time  \\\n",
       "0  We are country and city connecting in our deck...                 NaN   \n",
       "1  I live in Boston and I like to travel and have...      within an hour   \n",
       "2  I am a middle-aged, single male with a wide ra...  within a few hours   \n",
       "\n",
       "  host_response_rate host_acceptance_rate host_is_superhost  \\\n",
       "0                NaN                  NaN                 f   \n",
       "1               100%                 100%                 f   \n",
       "2               100%                  88%                 t   \n",
       "\n",
       "                                  host_thumbnail_url  \\\n",
       "0  https://a2.muscache.com/im/pictures/5936fef0-b...   \n",
       "1  https://a2.muscache.com/im/users/2572247/profi...   \n",
       "2  https://a2.muscache.com/im/users/16701/profile...   \n",
       "\n",
       "                                    host_picture_url host_neighbourhood  \\\n",
       "0  https://a2.muscache.com/im/pictures/5936fef0-b...         Roslindale   \n",
       "1  https://a2.muscache.com/im/users/2572247/profi...         Roslindale   \n",
       "2  https://a2.muscache.com/im/users/16701/profile...         Roslindale   \n",
       "\n",
       "   host_listings_count  host_total_listings_count  \\\n",
       "0                    1                          1   \n",
       "1                    1                          1   \n",
       "2                    1                          1   \n",
       "\n",
       "                                  host_verifications host_has_profile_pic  \\\n",
       "0          ['email', 'phone', 'facebook', 'reviews']                    t   \n",
       "1  ['email', 'phone', 'facebook', 'linkedin', 'am...                    t   \n",
       "2             ['email', 'phone', 'reviews', 'jumio']                    t   \n",
       "\n",
       "  host_identity_verified                                             street  \\\n",
       "0                      f      Birch Street, Boston, MA 02131, United States   \n",
       "1                      t  Pinehurst Street, Boston, MA 02131, United States   \n",
       "2                      t        Ardale St., Boston, MA 02131, United States   \n",
       "\n",
       "  neighbourhood neighbourhood_cleansed  neighbourhood_group_cleansed    city  \\\n",
       "0    Roslindale             Roslindale                           NaN  Boston   \n",
       "1    Roslindale             Roslindale                           NaN  Boston   \n",
       "2    Roslindale             Roslindale                           NaN  Boston   \n",
       "\n",
       "  state zipcode  market smart_location country_code        country   latitude  \\\n",
       "0    MA   02131  Boston     Boston, MA           US  United States  42.282619   \n",
       "1    MA   02131  Boston     Boston, MA           US  United States  42.286241   \n",
       "2    MA   02131  Boston     Boston, MA           US  United States  42.292438   \n",
       "\n",
       "   longitude is_location_exact property_type        room_type  accommodates  \\\n",
       "0 -71.133068                 t         House  Entire home/apt             4   \n",
       "1 -71.134374                 t     Apartment     Private room             2   \n",
       "2 -71.135765                 t     Apartment     Private room             2   \n",
       "\n",
       "   bathrooms  bedrooms  beds  bed_type  \\\n",
       "0        1.5       2.0   3.0  Real Bed   \n",
       "1        1.0       1.0   1.0  Real Bed   \n",
       "2        1.0       1.0   1.0  Real Bed   \n",
       "\n",
       "                                           amenities  square_feet  price  \\\n",
       "0  {TV,\"Wireless Internet\",Kitchen,\"Free Parking ...          NaN  250.0   \n",
       "1  {TV,Internet,\"Wireless Internet\",\"Air Conditio...          NaN   65.0   \n",
       "2  {TV,\"Cable TV\",\"Wireless Internet\",\"Air Condit...          NaN   65.0   \n",
       "\n",
       "  weekly_price monthly_price security_deposit cleaning_fee  guests_included  \\\n",
       "0          NaN           NaN              NaN       $35.00                1   \n",
       "1      $400.00           NaN           $95.00       $10.00                0   \n",
       "2      $395.00     $1,350.00              NaN          NaN                1   \n",
       "\n",
       "  extra_people  minimum_nights  maximum_nights calendar_updated  \\\n",
       "0        $0.00               2            1125      2 weeks ago   \n",
       "1        $0.00               2              15       a week ago   \n",
       "2       $20.00               3              45       5 days ago   \n",
       "\n",
       "   has_availability  availability_30  availability_60  availability_90  \\\n",
       "0               NaN                0                0                0   \n",
       "1               NaN               26               54               84   \n",
       "2               NaN               19               46               61   \n",
       "\n",
       "   availability_365 calendar_last_scraped  number_of_reviews first_review  \\\n",
       "0                 0            2016-09-06                  0          NaN   \n",
       "1               359            2016-09-06                 36   2014-06-01   \n",
       "2               319            2016-09-06                 41   2009-07-19   \n",
       "\n",
       "  last_review  review_scores_rating  review_scores_accuracy  \\\n",
       "0         NaN                   NaN                     NaN   \n",
       "1  2016-08-13                  94.0                    10.0   \n",
       "2  2016-08-05                  98.0                    10.0   \n",
       "\n",
       "   review_scores_cleanliness  review_scores_checkin  \\\n",
       "0                        NaN                    NaN   \n",
       "1                        9.0                   10.0   \n",
       "2                        9.0                   10.0   \n",
       "\n",
       "   review_scores_communication  review_scores_location  review_scores_value  \\\n",
       "0                          NaN                     NaN                  NaN   \n",
       "1                         10.0                     9.0                  9.0   \n",
       "2                         10.0                     9.0                 10.0   \n",
       "\n",
       "  requires_license  license  jurisdiction_names instant_bookable  \\\n",
       "0                f      NaN                 NaN                f   \n",
       "1                f      NaN                 NaN                t   \n",
       "2                f      NaN                 NaN                f   \n",
       "\n",
       "  cancellation_policy require_guest_profile_picture  \\\n",
       "0            moderate                             f   \n",
       "1            moderate                             f   \n",
       "2            moderate                             t   \n",
       "\n",
       "  require_guest_phone_verification  calculated_host_listings_count  \\\n",
       "0                                f                               1   \n",
       "1                                f                               1   \n",
       "2                                f                               1   \n",
       "\n",
       "   reviews_per_month Lodging Quality  \n",
       "0                NaN             NaN  \n",
       "1               1.30       Excellent  \n",
       "2               0.47       Excellent  "
      ]
     },
     "execution_count": 290,
     "metadata": {},
     "output_type": "execute_result"
    }
   ],
   "source": [
    "# Transforming the Categorical object into a column:\n",
    "airbnb['Lodging Quality'] = categories\n",
    "airbnb.head(3)"
   ]
  },
  {
   "cell_type": "code",
   "execution_count": 324,
   "id": "ae7c2922-acd0-40aa-aae6-f38e8ec4652c",
   "metadata": {},
   "outputs": [
    {
     "data": {
      "text/plain": [
       "<AxesSubplot:xlabel='Lodging Quality', ylabel='Average Cost ($)'>"
      ]
     },
     "execution_count": 324,
     "metadata": {},
     "output_type": "execute_result"
    },
    {
     "data": {
      "image/png": "[encoded data removed]",
      "text/plain": [
       "<Figure size 576x396 with 1 Axes>"
      ]
     },
     "metadata": {},
     "output_type": "display_data"
    }
   ],
   "source": [
    "# With the quality categories defined, we are able to create our chart!\n",
    "from matplotlib.pyplot import style\n",
    "style.use('seaborn')\n",
    "airbnb.groupby('Lodging Quality')['price'].mean().plot(kind = 'bar', ylim = (100,200),\n",
    "                                        ylabel = 'Average Cost ($)')"
   ]
  },
  {
   "cell_type": "markdown",
   "id": "bde30a7f-eaec-47ed-9f5f-0e3a1f978320",
   "metadata": {},
   "source": [
    "<p style = 'font-size:30px'> <strong>Task 3</strong> </p>"
   ]
  },
  {
   "cell_type": "markdown",
   "id": "6a4395a6-c1dd-411e-a912-09fdd332e4fa",
   "metadata": {},
   "source": [
    "* <p style = 'font-size:20px'> In Airbnb you can get a superhost status if your profile matches a set of conditions.</p>\n",
    "\n",
    "* <p style = 'font-size:20px'> This title can provide you a sense of credibility among Airbnb users. </p>\n",
    "\n",
    "* <p style = 'font-size:20px'> But in regard to the Boston's Airbnb superhosts, do they take advantadge of their status in order impose a higher price on their lodgings?</p>"
   ]
  },
  {
   "cell_type": "code",
   "execution_count": 292,
   "id": "d0087580-24b0-4978-94a3-df7203662f26",
   "metadata": {},
   "outputs": [],
   "source": [
    "# We can check it through an hypothesis test!\n",
    "\n",
    "# Null hypothesis: Airbnb owned dwellings got the SAME price as the ones possessed by common hosts.\n",
    "# Alternative hypothesis: Airbnb superhosts owned dwellings DO NOT HAVE SAME price as the ones \n",
    "                                                                    # possessed by common hosts.\n",
    "    \n",
    "# To perform our hypothesis test, we need equally-sized samples.\n",
    "# Let's create a group of 100 lodgings possessed by superhosts and another one of the same size containing the ones\n",
    "# owned by common hosts.\n",
    "superhost = airbnb[airbnb['host_is_superhost'] == 't']['price'].sample(100)\n",
    "non_superhost = airbnb[airbnb['host_is_superhost'] == 'f']['price'].sample(100)"
   ]
  },
  {
   "cell_type": "code",
   "execution_count": 293,
   "id": "e089f518-d304-4c52-8144-6ae7816317d8",
   "metadata": {},
   "outputs": [
    {
     "data": {
      "text/plain": [
       "Ttest_relResult(statistic=0.37944720948485705, pvalue=0.7051684930740684)"
      ]
     },
     "execution_count": 293,
     "metadata": {},
     "output_type": "execute_result"
    }
   ],
   "source": [
    "# We are going to set the significance level as 5%\n",
    "from scipy.stats import ttest_rel\n",
    "import matplotlib.pyplot as plt\n",
    "\n",
    "# Our p-value obtained is larger than the significance level. So we cannot reject our null hypothesis.\n",
    "ttest_rel(superhost, non_superhost)"
   ]
  },
  {
   "cell_type": "code",
   "execution_count": 294,
   "id": "f037fad3-1f10-42ed-b0b3-99b21318e95b",
   "metadata": {},
   "outputs": [
    {
     "name": "stdout",
     "output_type": "stream",
     "text": [
      "0.7051684930740684\n"
     ]
    },
    {
     "data": {
      "image/png": "[encoded data removed]",
      "text/plain": [
       "<Figure size 720x108 with 1 Axes>"
      ]
     },
     "metadata": {},
     "output_type": "display_data"
    }
   ],
   "source": [
    "# We are going to plot the Significance Level and the p-value obtained.\n",
    "pvalue = ttest_rel(superhost, non_superhost)[1]\n",
    "print(pvalue)\n",
    "\n",
    "fig = plt.figure(figsize = (10,1.5))\n",
    "plt.barh(y = ['p-value', 'Significance Level'], width = [pvalue, 0.05],\n",
    "       linewidth = 0.2)\n",
    "\n",
    "plt.title('Significance Level x p-value')\n",
    "\n",
    "plt.margins(y = 0.05)\n",
    "plt.tight_layout()"
   ]
  },
  {
   "cell_type": "markdown",
   "id": "c6af1345-31ac-4060-b2fd-36acb2f2d66a",
   "metadata": {},
   "source": [
    "<p style = 'font-size:30px'> <strong>Task 4</strong> </p>"
   ]
  },
  {
   "cell_type": "markdown",
   "id": "54d042a6-dea4-489d-91df-03d2589a4ef6",
   "metadata": {},
   "source": [
    "* <p style = 'font-size:20px'> I've encountered an Excel file made by American Community Survey containing many demographic statistics from Boston's neighborhoods. I'll use a sheet displaying the Per Capita Income of each one of the locations.</p>\n",
    "\n",
    "* <p style = 'font-size:20px'> Our mission is going to answer the following question: How is the correlation between the neighborhoods' Per Capita Income and their Airbnb dwellings' average price?  Is it more expensive to stay in a richer region of Boston?</p>\n",
    "\n",
    "* <p style = 'font-size:20px'> If you wish to access the full document you can click <a href = 'https://data.boston.gov/dataset/neighborhood-demographics'> here</a>. The file used is the third one from the list.</p>"
   ]
  },
  {
   "cell_type": "code",
   "execution_count": 296,
   "id": "8fc56f11-079d-4f41-b599-9ffa89b40316",
   "metadata": {},
   "outputs": [
    {
     "data": {
      "text/html": [
       "<div>\n",
       "<style scoped>\n",
       "    .dataframe tbody tr th:only-of-type {\n",
       "        vertical-align: middle;\n",
       "    }\n",
       "\n",
       "    .dataframe tbody tr th {\n",
       "        vertical-align: top;\n",
       "    }\n",
       "\n",
       "    .dataframe thead th {\n",
       "        text-align: right;\n",
       "    }\n",
       "</style>\n",
       "<table border=\"1\" class=\"dataframe\">\n",
       "  <thead>\n",
       "    <tr style=\"text-align: right;\">\n",
       "      <th></th>\n",
       "      <th>Total Population</th>\n",
       "      <th>Per Capita Income</th>\n",
       "    </tr>\n",
       "    <tr>\n",
       "      <th>Neighborhood</th>\n",
       "      <th></th>\n",
       "      <th></th>\n",
       "    </tr>\n",
       "  </thead>\n",
       "  <tbody>\n",
       "    <tr>\n",
       "      <th>Allston</th>\n",
       "      <td>19261</td>\n",
       "      <td>34148.709828</td>\n",
       "    </tr>\n",
       "    <tr>\n",
       "      <th>Back Bay</th>\n",
       "      <td>17783</td>\n",
       "      <td>110676.820559</td>\n",
       "    </tr>\n",
       "    <tr>\n",
       "      <th>Beacon Hill</th>\n",
       "      <td>9648</td>\n",
       "      <td>100005.286070</td>\n",
       "    </tr>\n",
       "    <tr>\n",
       "      <th>Brighton</th>\n",
       "      <td>55297</td>\n",
       "      <td>41261.375843</td>\n",
       "    </tr>\n",
       "    <tr>\n",
       "      <th>Charlestown</th>\n",
       "      <td>19890</td>\n",
       "      <td>75338.893917</td>\n",
       "    </tr>\n",
       "  </tbody>\n",
       "</table>\n",
       "</div>"
      ],
      "text/plain": [
       "              Total Population  Per Capita Income\n",
       "Neighborhood                                     \n",
       "Allston                  19261       34148.709828\n",
       "Back Bay                 17783      110676.820559\n",
       "Beacon Hill               9648      100005.286070\n",
       "Brighton                 55297       41261.375843\n",
       "Charlestown              19890       75338.893917"
      ]
     },
     "execution_count": 296,
     "metadata": {},
     "output_type": "execute_result"
    }
   ],
   "source": [
    "# Importing the Excel sheet.\n",
    "per_capita = pd.read_excel('2015-2019_neighborhood_tables_2021.12.21.xlsm', sheet_name='Per Capita Income', \n",
    "                          header = 2, usecols = [0,1,3], \n",
    "                        names = ['Neighborhood', 'Total Population', 'Per Capita Income'],\n",
    "                          skiprows=[1,2,3,28, 29, 30, 31, 32, 33, 34], index_col=0)\n",
    "\n",
    "# Making a little adjustment in one of the rows.\n",
    "per_capita.rename(index = {'Fenway' : 'Fenway/Kenmore'}, inplace = True)\n",
    "per_capita.head()"
   ]
  },
  {
   "cell_type": "markdown",
   "id": "0698b9f7-c963-4a7e-9e9a-4610640de669",
   "metadata": {},
   "source": [
    "* <p style = 'font-size:20px'> We can see that differently from what the 'airbnb' DF states, Brighton and Allston are actually two separated neighborhoods.</p>\n",
    "\n",
    "* <p style = 'font-size:20px'> But in order to work with the Airbnb data we need to convert the informations from both neighborhoods into a single row with the name 'Allston-Brighton'.</p>"
   ]
  },
  {
   "cell_type": "code",
   "execution_count": 297,
   "id": "cbad3c16-1467-4c7b-adde-c136c55d8050",
   "metadata": {},
   "outputs": [
    {
     "data": {
      "text/plain": [
       "39423.91963303737"
      ]
     },
     "execution_count": 297,
     "metadata": {},
     "output_type": "execute_result"
    }
   ],
   "source": [
    "# Now, we need to create an 'Allston-Brighton' row with its population and Per Capita Income.\n",
    "\n",
    "allst_bright_pop = per_capita.loc['Allston', 'Total Population'] + per_capita.loc['Brighton', 'Total Population']\n",
    "\n",
    "a = (per_capita.loc['Allston', 'Total Population'] / allst_bright_pop) * per_capita.loc['Allston', 'Per Capita Income']\n",
    "\n",
    "b = (per_capita.loc['Brighton', 'Total Population']/allst_bright_pop) * per_capita.loc['Brighton', 'Per Capita Income']\n",
    "\n",
    "# Evaluating the average Per Capita Income from the 'Allston-Brighton' area.\n",
    "alls_bright_capita = a+b\n",
    "alls_bright_capita"
   ]
  },
  {
   "cell_type": "code",
   "execution_count": 298,
   "id": "014b295a-a89f-425b-a5f3-4bc1f8348720",
   "metadata": {},
   "outputs": [
    {
     "data": {
      "text/plain": [
       "Total Population     74558.000000\n",
       "Per Capita Income    39423.919633\n",
       "Name: Allston-Brighton, dtype: float64"
      ]
     },
     "execution_count": 298,
     "metadata": {},
     "output_type": "execute_result"
    }
   ],
   "source": [
    "# With the right data in our hands, let's make the new row!\n",
    "per_capita.loc['Allston-Brighton'] = allst_bright_pop, alls_bright_capita\n",
    "per_capita.loc['Allston-Brighton']"
   ]
  },
  {
   "cell_type": "code",
   "execution_count": 299,
   "id": "36669040-e485-43db-b0ce-15b94a2fd77c",
   "metadata": {},
   "outputs": [],
   "source": [
    "# Dropping the 'Allston' and 'Brighton' rows.\n",
    "per_capita.drop(index = ['Allston', 'Brighton'], inplace = True)"
   ]
  },
  {
   "cell_type": "code",
   "execution_count": 301,
   "id": "bc3f7385-cb7f-40a9-bd9b-7c17a49c00e6",
   "metadata": {},
   "outputs": [
    {
     "data": {
      "text/plain": [
       "neighbourhood\n",
       "Allston-Brighton    114.162088\n",
       "Back Bay            245.457045\n",
       "Beacon Hill         212.080460\n",
       "Charlestown         210.050633\n",
       "Chestnut Hill        70.750000\n",
       "Name: price, dtype: float64"
      ]
     },
     "execution_count": 301,
     "metadata": {},
     "output_type": "execute_result"
    }
   ],
   "source": [
    "# Now we need to get the average price for each of the neighborhoods contained in the 'airbnb' DF.\n",
    "average_price = airbnb.groupby('neighbourhood')['price'].mean()\n",
    "average_price.head()"
   ]
  },
  {
   "cell_type": "code",
   "execution_count": 306,
   "id": "682f17d4-9b51-475d-9c6a-67b400c1aa3c",
   "metadata": {},
   "outputs": [
    {
     "data": {
      "text/html": [
       "<div>\n",
       "<style scoped>\n",
       "    .dataframe tbody tr th:only-of-type {\n",
       "        vertical-align: middle;\n",
       "    }\n",
       "\n",
       "    .dataframe tbody tr th {\n",
       "        vertical-align: top;\n",
       "    }\n",
       "\n",
       "    .dataframe thead th {\n",
       "        text-align: right;\n",
       "    }\n",
       "</style>\n",
       "<table border=\"1\" class=\"dataframe\">\n",
       "  <thead>\n",
       "    <tr style=\"text-align: right;\">\n",
       "      <th></th>\n",
       "      <th>price</th>\n",
       "      <th>Per Capita Income</th>\n",
       "    </tr>\n",
       "    <tr>\n",
       "      <th>Neighborhood</th>\n",
       "      <th></th>\n",
       "      <th></th>\n",
       "    </tr>\n",
       "  </thead>\n",
       "  <tbody>\n",
       "    <tr>\n",
       "      <th>Allston-Brighton</th>\n",
       "      <td>114.162088</td>\n",
       "      <td>39423.919633</td>\n",
       "    </tr>\n",
       "    <tr>\n",
       "      <th>Back Bay</th>\n",
       "      <td>245.457045</td>\n",
       "      <td>110676.820559</td>\n",
       "    </tr>\n",
       "    <tr>\n",
       "      <th>Beacon Hill</th>\n",
       "      <td>212.080460</td>\n",
       "      <td>100005.286070</td>\n",
       "    </tr>\n",
       "    <tr>\n",
       "      <th>Charlestown</th>\n",
       "      <td>210.050633</td>\n",
       "      <td>75338.893917</td>\n",
       "    </tr>\n",
       "    <tr>\n",
       "      <th>Dorchester</th>\n",
       "      <td>97.451282</td>\n",
       "      <td>29767.207999</td>\n",
       "    </tr>\n",
       "  </tbody>\n",
       "</table>\n",
       "</div>"
      ],
      "text/plain": [
       "                       price  Per Capita Income\n",
       "Neighborhood                                   \n",
       "Allston-Brighton  114.162088       39423.919633\n",
       "Back Bay          245.457045      110676.820559\n",
       "Beacon Hill       212.080460      100005.286070\n",
       "Charlestown       210.050633       75338.893917\n",
       "Dorchester         97.451282       29767.207999"
      ]
     },
     "execution_count": 306,
     "metadata": {},
     "output_type": "execute_result"
    }
   ],
   "source": [
    "# Now we'll join the 'average price' Series with the 'per_capita' DF.\n",
    "price_per_capita = pd.merge(average_price, per_capita, \n",
    "                            left_index= True, right_on = 'Neighborhood').drop(columns = 'Total Population')\n",
    "price_per_capita.head()"
   ]
  },
  {
   "cell_type": "code",
   "execution_count": 313,
   "id": "66570ae6-9003-48a5-a470-a1e20cd5112b",
   "metadata": {},
   "outputs": [
    {
     "data": {
      "text/plain": [
       "0.7419441871562023"
      ]
     },
     "execution_count": 313,
     "metadata": {},
     "output_type": "execute_result"
    }
   ],
   "source": [
    "# With everything set we are able to calculate the correlation coefficient between \n",
    "# the 'price' and 'Per Capita Income' columns.\n",
    "from scipy.stats import pearsonr\n",
    "\n",
    "# And here is the value.\n",
    "pearsonr(price_per_capita['price'], price_per_capita['Per Capita Income'])[0]"
   ]
  }
 ],
 "metadata": {
  "kernelspec": {
   "display_name": "Python 3",
   "language": "python",
   "name": "python3"
  },
  "language_info": {
   "codemirror_mode": {
    "name": "ipython",
    "version": 3
   },
   "file_extension": ".py",
   "mimetype": "text/x-python",
   "name": "python",
   "nbconvert_exporter": "python",
   "pygments_lexer": "ipython3",
   "version": "3.8.8"
  }
 },
 "nbformat": 4,
 "nbformat_minor": 5
}
