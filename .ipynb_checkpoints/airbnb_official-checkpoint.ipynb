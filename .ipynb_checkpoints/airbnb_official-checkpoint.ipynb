{
 "cells": [
  {
   "cell_type": "markdown",
   "id": "49f5f6b7-bd50-408d-9d82-9d14d8a2c4c5",
   "metadata": {},
   "source": [
    "<p style = 'font-size:40px'> <strong>Analyzing Airbnb Data</strong> </p>"
   ]
  },
  {
   "cell_type": "markdown",
   "id": "fe51935a-77a2-4510-98e5-c73eceea4332",
   "metadata": {},
   "source": [
    "* <p style = 'font-size:20px'> This project aims to explore informations about a data set regarding Boston's Airbnb registered  dwellings.</p>\n",
    "\n",
    "* <p style = 'font-size:20px'> I've challenged myself to perform the following tasks:</p>\n",
    "\n",
    "<p style = 'font-size:20px;margin-left:50px'> 1 - Get the dwelling type composition per neighborhood.</p>\n",
    "<p style = 'font-size:20px;margin-left:50px'> 2 -  Compare the average prices among residences with different reputations among their customers. </p>\n",
    "<p style = 'font-size:20px;margin-left:50px'> 3 - Find out whether Airbnb superhosts take advantadge of their status in order to charge higher prices to their customers. </p>\n",
    "<p style = 'font-size:20px;margin-left:50px'> 4 - Discover if it is more expensive to stay in Boston's richer neighborhoods.</p>"
   ]
  },
  {
   "cell_type": "markdown",
   "id": "cfe3a54b-6974-4c80-9efe-9f9dc48942e8",
   "metadata": {},
   "source": [
    "<p style = 'font-size:30px'> <strong>Data set presentation</strong> </p>"
   ]
  },
  {
   "cell_type": "markdown",
   "id": "2aa2885a-264e-4cdf-afd3-5a163eefc8b9",
   "metadata": {},
   "source": [
    "* <p style = 'font-size:20px'> Here, I'll let you take a glimpse on the data set we are going to explore in this project. Since it contains multiple columns I am going to select just the ones that we need.</p>"
   ]
  },
  {
   "cell_type": "code",
   "execution_count": 163,
   "id": "38e43d52-41df-4a28-a974-a37f3832d66b",
   "metadata": {},
   "outputs": [
    {
     "data": {
      "text/html": [
       "<div>\n",
       "<style scoped>\n",
       "    .dataframe tbody tr th:only-of-type {\n",
       "        vertical-align: middle;\n",
       "    }\n",
       "\n",
       "    .dataframe tbody tr th {\n",
       "        vertical-align: top;\n",
       "    }\n",
       "\n",
       "    .dataframe thead th {\n",
       "        text-align: right;\n",
       "    }\n",
       "</style>\n",
       "<table border=\"1\" class=\"dataframe\">\n",
       "  <thead>\n",
       "    <tr style=\"text-align: right;\">\n",
       "      <th></th>\n",
       "      <th>id</th>\n",
       "      <th>host_is_superhost</th>\n",
       "      <th>neighbourhood</th>\n",
       "      <th>property_type</th>\n",
       "      <th>price</th>\n",
       "      <th>review_scores_value</th>\n",
       "    </tr>\n",
       "  </thead>\n",
       "  <tbody>\n",
       "    <tr>\n",
       "      <th>0</th>\n",
       "      <td>12147973</td>\n",
       "      <td>f</td>\n",
       "      <td>Roslindale</td>\n",
       "      <td>House</td>\n",
       "      <td>$250.00</td>\n",
       "      <td>NaN</td>\n",
       "    </tr>\n",
       "    <tr>\n",
       "      <th>1</th>\n",
       "      <td>3075044</td>\n",
       "      <td>f</td>\n",
       "      <td>Roslindale</td>\n",
       "      <td>Apartment</td>\n",
       "      <td>$65.00</td>\n",
       "      <td>9.0</td>\n",
       "    </tr>\n",
       "    <tr>\n",
       "      <th>2</th>\n",
       "      <td>6976</td>\n",
       "      <td>t</td>\n",
       "      <td>Roslindale</td>\n",
       "      <td>Apartment</td>\n",
       "      <td>$65.00</td>\n",
       "      <td>10.0</td>\n",
       "    </tr>\n",
       "    <tr>\n",
       "      <th>3</th>\n",
       "      <td>1436513</td>\n",
       "      <td>f</td>\n",
       "      <td>NaN</td>\n",
       "      <td>House</td>\n",
       "      <td>$75.00</td>\n",
       "      <td>10.0</td>\n",
       "    </tr>\n",
       "    <tr>\n",
       "      <th>4</th>\n",
       "      <td>7651065</td>\n",
       "      <td>t</td>\n",
       "      <td>Roslindale</td>\n",
       "      <td>House</td>\n",
       "      <td>$79.00</td>\n",
       "      <td>10.0</td>\n",
       "    </tr>\n",
       "  </tbody>\n",
       "</table>\n",
       "</div>"
      ],
      "text/plain": [
       "         id host_is_superhost neighbourhood property_type    price  \\\n",
       "0  12147973                 f    Roslindale         House  $250.00   \n",
       "1   3075044                 f    Roslindale     Apartment   $65.00   \n",
       "2      6976                 t    Roslindale     Apartment   $65.00   \n",
       "3   1436513                 f           NaN         House   $75.00   \n",
       "4   7651065                 t    Roslindale         House   $79.00   \n",
       "\n",
       "   review_scores_value  \n",
       "0                  NaN  \n",
       "1                  9.0  \n",
       "2                 10.0  \n",
       "3                 10.0  \n",
       "4                 10.0  "
      ]
     },
     "execution_count": 163,
     "metadata": {},
     "output_type": "execute_result"
    }
   ],
   "source": [
    "import pandas as pd\n",
    "import numpy as np\n",
    "\n",
    "usecols = ['id', 'host_is_superhost', 'neighbourhood', 'property_type', 'price', 'review_scores_value']\n",
    "airbnb = pd.read_csv('listings.csv', usecols = usecols)\n",
    "airbnb.head()"
   ]
  },
  {
   "cell_type": "markdown",
   "id": "18f78c32-7f6e-4b4c-b5a7-aef8cb9a2dd1",
   "metadata": {},
   "source": [
    "<p style = 'font-size:30px'> <strong>Cleaning the data</strong> </p>"
   ]
  },
  {
   "cell_type": "markdown",
   "id": "a832cfee-49e8-4385-8390-aa544700a0e5",
   "metadata": {},
   "source": [
    "* <p style = 'font-size:20px'> Since we are making a neighborhood-based analysis, it is necessary that all the dwellings have their neighborhood name in the <em> neighbourhood</em> column.</p>\n",
    "* <p style = 'font-size:20px'> Unfortunately, this is not the case for some of the lodgings. Therefore we need to remove them from the DataFrame.</p>"
   ]
  },
  {
   "cell_type": "code",
   "execution_count": 165,
   "id": "a3d3065e-bb8a-4db7-b3b5-f1b6e8edc726",
   "metadata": {},
   "outputs": [],
   "source": [
    "# Deleting the dwellings with no neighborhood specified.\n",
    "airbnb = airbnb[~airbnb['neighbourhood'].isnull()]\n",
    "\n",
    "# On top of that, the columns related to prices are not being recognized as numbers, \n",
    "# since all their rows have a '$' sign in front of the numbers and  ',' as thousands separator.\n",
    "replacement = {'\\$':'', ',':''}\n",
    "\n",
    "airbnb['price'] = (airbnb['price']\n",
    "                  .replace(replacement, regex = True)\n",
    "                  .astype('float')) "
   ]
  },
  {
   "cell_type": "markdown",
   "id": "008be9ed-35f2-4f88-938e-870c95be473e",
   "metadata": {},
   "source": [
    "* <p style = 'font-size:20px'> Furthermore, it is important to mention that some lodgings do not have their neighborhood correctly written in the \"neighbourhood\" column. Instead they have touristic places registered.</p>\n",
    "\n",
    "* <p style = 'font-size:20px'> We'll substitute the touristic location name for the residence's actual neighborhood.</p>\n",
    "\n",
    "* <p style = 'font-size:20px'>Also, because we are performing a Boston exclusive analysis, we need to disregard some of the dwellings which belong to cities from the surrouding area (like Cambridge, Sommerville, Chesnut Hill and Brookline).</p>"
   ]
  },
  {
   "cell_type": "code",
   "execution_count": 166,
   "id": "d9903061-066e-4684-a54b-b9d4a26d0216",
   "metadata": {},
   "outputs": [
    {
     "data": {
      "text/plain": [
       "['Allston-Brighton',\n",
       " 'Back Bay',\n",
       " 'Beacon Hill',\n",
       " 'Charlestown',\n",
       " 'Chestnut Hill',\n",
       " 'Dorchester',\n",
       " 'Downtown',\n",
       " 'East Boston',\n",
       " 'Fenway/Kenmore',\n",
       " 'Hyde Park',\n",
       " 'Jamaica Plain',\n",
       " 'Mattapan',\n",
       " 'Mission Hill',\n",
       " 'North End',\n",
       " 'Roslindale',\n",
       " 'Roxbury',\n",
       " 'South Boston',\n",
       " 'South End',\n",
       " 'West End',\n",
       " 'West Roxbury']"
      ]
     },
     "execution_count": 166,
     "metadata": {},
     "output_type": "execute_result"
    }
   ],
   "source": [
    "# A dictionary conataining the replacements for the touristic locations names.\n",
    "substitute = {'Downtown Crossing':'Downtown',\n",
    "            'Government Center': 'Downtown',\n",
    "            'Leather District':'Downtown',\n",
    "             'Chinatown': 'Downtown',\n",
    "            'Theater District':'Downtown',\n",
    "            'Financial District': 'Downtown'}\n",
    "\n",
    "airbnb = airbnb.replace(substitute) \n",
    "\n",
    "# A list with the names of the cities/places that do not belong to Boston's area.\n",
    "to_drop = ['Somerville', 'Chesnut Hill', 'Harvard Square', 'Brookline', 'Cambridge']\n",
    "\n",
    "for index, neighborhood in zip(airbnb.index, airbnb['neighbourhood']):\n",
    "    if neighborhood in to_drop:\n",
    "        airbnb.drop(index = index, inplace = True)\n",
    "        \n",
    "# Now we have finally cleaned our data! Let's carry out our tasks!\n",
    "sorted(airbnb['neighbourhood'].unique())"
   ]
  },
  {
   "cell_type": "markdown",
   "id": "f703799d-c023-459b-a6ee-9a18c52ef00c",
   "metadata": {},
   "source": [
    "<p style = 'font-size:30px'> <strong>Task 1</strong> </p>"
   ]
  },
  {
   "cell_type": "markdown",
   "id": "0cf79457-71a3-4b47-9ab1-1daaca3d299e",
   "metadata": {},
   "source": [
    "* <p style = 'font-size:20px'> The output of this operation will be a sunburst chart. It will contain some of Boston's neighborhoods along with their property types composition.</p>\n",
    "\n",
    "* <p style = 'font-size:20px'> We need to consider that Boston has many neighborhoods, so using the informations from all of them can make our graph's visual poluted.</p>"
   ]
  },
  {
   "cell_type": "code",
   "execution_count": 167,
   "id": "2cb31526-c838-4aab-9fae-c84d31628fc6",
   "metadata": {},
   "outputs": [
    {
     "data": {
      "text/plain": [
       "neighbourhood\n",
       "Allston-Brighton    364\n",
       "Jamaica Plain       314\n",
       "South End           298\n",
       "Back Bay            291\n",
       "Fenway/Kenmore      249\n",
       "South Boston        216\n",
       "Name: id, dtype: int64"
      ]
     },
     "execution_count": 167,
     "metadata": {},
     "output_type": "execute_result"
    }
   ],
   "source": [
    "# Considering this, we'll establish a rule: we'll plot the property type compostion for only the 6 locations\n",
    "# with most dwellings registered on Airbnb.\n",
    "\n",
    "# Which are those neghborhoods?\n",
    "top_6 = airbnb.groupby(['neighbourhood'])['id'].count().sort_values(ascending = False).head(6)\n",
    "top_6"
   ]
  },
  {
   "cell_type": "code",
   "execution_count": 168,
   "id": "42876440-ab67-498d-b469-835042eed983",
   "metadata": {},
   "outputs": [
    {
     "data": {
      "text/plain": [
       "['Allston-Brighton',\n",
       " 'Jamaica Plain',\n",
       " 'South End',\n",
       " 'Back Bay',\n",
       " 'Fenway/Kenmore',\n",
       " 'South Boston']"
      ]
     },
     "execution_count": 168,
     "metadata": {},
     "output_type": "execute_result"
    }
   ],
   "source": [
    "# Let's make a list containing all the 'top_6' Series neighborhoods.\n",
    "desirable_neighborhoods = list(top_6.index)\n",
    "desirable_neighborhoods"
   ]
  },
  {
   "cell_type": "code",
   "execution_count": 169,
   "id": "a1cb3757-4f9a-4e85-9e8a-07773eafba4d",
   "metadata": {},
   "outputs": [
    {
     "data": {
      "text/html": [
       "<div>\n",
       "<style scoped>\n",
       "    .dataframe tbody tr th:only-of-type {\n",
       "        vertical-align: middle;\n",
       "    }\n",
       "\n",
       "    .dataframe tbody tr th {\n",
       "        vertical-align: top;\n",
       "    }\n",
       "\n",
       "    .dataframe thead th {\n",
       "        text-align: right;\n",
       "    }\n",
       "</style>\n",
       "<table border=\"1\" class=\"dataframe\">\n",
       "  <thead>\n",
       "    <tr style=\"text-align: right;\">\n",
       "      <th></th>\n",
       "      <th>neighbourhood</th>\n",
       "      <th>property_type</th>\n",
       "      <th>id</th>\n",
       "    </tr>\n",
       "  </thead>\n",
       "  <tbody>\n",
       "    <tr>\n",
       "      <th>9</th>\n",
       "      <td>Back Bay</td>\n",
       "      <td>Apartment</td>\n",
       "      <td>247</td>\n",
       "    </tr>\n",
       "    <tr>\n",
       "      <th>0</th>\n",
       "      <td>Allston-Brighton</td>\n",
       "      <td>Apartment</td>\n",
       "      <td>245</td>\n",
       "    </tr>\n",
       "    <tr>\n",
       "      <th>93</th>\n",
       "      <td>South End</td>\n",
       "      <td>Apartment</td>\n",
       "      <td>241</td>\n",
       "    </tr>\n",
       "    <tr>\n",
       "      <th>48</th>\n",
       "      <td>Fenway/Kenmore</td>\n",
       "      <td>Apartment</td>\n",
       "      <td>239</td>\n",
       "    </tr>\n",
       "    <tr>\n",
       "      <th>55</th>\n",
       "      <td>Jamaica Plain</td>\n",
       "      <td>Apartment</td>\n",
       "      <td>176</td>\n",
       "    </tr>\n",
       "  </tbody>\n",
       "</table>\n",
       "</div>"
      ],
      "text/plain": [
       "       neighbourhood property_type   id\n",
       "9           Back Bay     Apartment  247\n",
       "0   Allston-Brighton     Apartment  245\n",
       "93         South End     Apartment  241\n",
       "48    Fenway/Kenmore     Apartment  239\n",
       "55     Jamaica Plain     Apartment  176"
      ]
     },
     "execution_count": 169,
     "metadata": {},
     "output_type": "execute_result"
    }
   ],
   "source": [
    "# Now that we know the locations we are going to use, it is time to plot our sunburst chart!\n",
    "import plotly.express as px\n",
    "\n",
    "# Below, we'll perform a group by. It will list all neighborhoods and their property types available. Also, it will\n",
    "# count the number of dwellings each residence kind has.\n",
    "property_types_count = airbnb.groupby(['neighbourhood','property_type'], as_index = False)['id'].count()\n",
    "property_types_count = (property_types_count.\n",
    "                        sort_values(by = 'id', ascending = False)\n",
    "                       ) \n",
    "\n",
    "property_types_count.head()"
   ]
  },
  {
   "cell_type": "code",
   "execution_count": 170,
   "id": "d43343dc-171f-4b90-9faa-86e8b435f1eb",
   "metadata": {},
   "outputs": [
    {
     "name": "stdout",
     "output_type": "stream",
     "text": [
      "['Back Bay' 'Allston-Brighton' 'South End' 'Fenway/Kenmore'\n",
      " 'Jamaica Plain' 'South Boston']\n"
     ]
    },
    {
     "data": {
      "text/html": [
       "<div>\n",
       "<style scoped>\n",
       "    .dataframe tbody tr th:only-of-type {\n",
       "        vertical-align: middle;\n",
       "    }\n",
       "\n",
       "    .dataframe tbody tr th {\n",
       "        vertical-align: top;\n",
       "    }\n",
       "\n",
       "    .dataframe thead th {\n",
       "        text-align: right;\n",
       "    }\n",
       "</style>\n",
       "<table border=\"1\" class=\"dataframe\">\n",
       "  <thead>\n",
       "    <tr style=\"text-align: right;\">\n",
       "      <th></th>\n",
       "      <th>neighbourhood</th>\n",
       "      <th>property_type</th>\n",
       "      <th>id</th>\n",
       "    </tr>\n",
       "  </thead>\n",
       "  <tbody>\n",
       "    <tr>\n",
       "      <th>9</th>\n",
       "      <td>Back Bay</td>\n",
       "      <td>Apartment</td>\n",
       "      <td>247</td>\n",
       "    </tr>\n",
       "    <tr>\n",
       "      <th>0</th>\n",
       "      <td>Allston-Brighton</td>\n",
       "      <td>Apartment</td>\n",
       "      <td>245</td>\n",
       "    </tr>\n",
       "    <tr>\n",
       "      <th>93</th>\n",
       "      <td>South End</td>\n",
       "      <td>Apartment</td>\n",
       "      <td>241</td>\n",
       "    </tr>\n",
       "    <tr>\n",
       "      <th>48</th>\n",
       "      <td>Fenway/Kenmore</td>\n",
       "      <td>Apartment</td>\n",
       "      <td>239</td>\n",
       "    </tr>\n",
       "    <tr>\n",
       "      <th>55</th>\n",
       "      <td>Jamaica Plain</td>\n",
       "      <td>Apartment</td>\n",
       "      <td>176</td>\n",
       "    </tr>\n",
       "  </tbody>\n",
       "</table>\n",
       "</div>"
      ],
      "text/plain": [
       "       neighbourhood property_type   id\n",
       "9           Back Bay     Apartment  247\n",
       "0   Allston-Brighton     Apartment  245\n",
       "93         South End     Apartment  241\n",
       "48    Fenway/Kenmore     Apartment  239\n",
       "55     Jamaica Plain     Apartment  176"
      ]
     },
     "execution_count": 170,
     "metadata": {},
     "output_type": "execute_result"
    }
   ],
   "source": [
    "# The 'property_types_count' mentions the property types from all Boston's neighborhoods, but we won't need all\n",
    "# of them (as we've defined earlier).\n",
    "\n",
    "# We are going to filter the DF so that it only contains residences registered in the 'desirable_neighborhoods' list.\n",
    "property_types_count = property_types_count[property_types_count['neighbourhood'].isin(desirable_neighborhoods)]\n",
    "\n",
    "print(property_types_count['neighbourhood'].unique())\n",
    "property_types_count.head()"
   ]
  },
  {
   "cell_type": "code",
   "execution_count": 171,
   "id": "5cbb3505-3ace-4bfb-a6f6-cc424e46bddb",
   "metadata": {},
   "outputs": [
    {
     "data": {
      "application/vnd.plotly.v1+json": {
       "config": {
        "plotlyServerURL": "https://plot.ly"
       },
       "data": [
        {
         "branchvalues": "total",
         "domain": {
          "x": [
           0,
           1
          ],
          "y": [
           0,
           1
          ]
         },
         "hovertemplate": "labels=%{label}<br>Number of Dwellings=%{value}<br>parent=%{parent}<br>id=%{id}<extra></extra>",
         "ids": [
          "Allston-Brighton/Apartment",
          "Back Bay/Apartment",
          "Fenway/Kenmore/Apartment",
          "Jamaica Plain/Apartment",
          "South Boston/Apartment",
          "South End/Apartment",
          "Allston-Brighton/Bed & Breakfast",
          "Back Bay/Bed & Breakfast",
          "Fenway/Kenmore/Bed & Breakfast",
          "Jamaica Plain/Bed & Breakfast",
          "South End/Bed & Breakfast",
          "Allston-Brighton/Condominium",
          "Back Bay/Condominium",
          "Fenway/Kenmore/Condominium",
          "Jamaica Plain/Condominium",
          "South Boston/Condominium",
          "South End/Condominium",
          "Allston-Brighton/Dorm",
          "South End/Dorm",
          "Jamaica Plain/Entire Floor",
          "Back Bay/Guesthouse",
          "Allston-Brighton/House",
          "Back Bay/House",
          "Fenway/Kenmore/House",
          "Jamaica Plain/House",
          "South Boston/House",
          "South End/House",
          "Allston-Brighton/Loft",
          "Back Bay/Loft",
          "Jamaica Plain/Loft",
          "South Boston/Loft",
          "South End/Loft",
          "Allston-Brighton/Other",
          "Back Bay/Other",
          "South Boston/Other",
          "South End/Other",
          "Allston-Brighton/Townhouse",
          "Back Bay/Townhouse",
          "Jamaica Plain/Townhouse",
          "South Boston/Townhouse",
          "South End/Townhouse",
          "Allston-Brighton/Villa",
          "Allston-Brighton",
          "Back Bay",
          "Fenway/Kenmore",
          "Jamaica Plain",
          "South Boston",
          "South End"
         ],
         "labels": [
          "Apartment",
          "Apartment",
          "Apartment",
          "Apartment",
          "Apartment",
          "Apartment",
          "Bed & Breakfast",
          "Bed & Breakfast",
          "Bed & Breakfast",
          "Bed & Breakfast",
          "Bed & Breakfast",
          "Condominium",
          "Condominium",
          "Condominium",
          "Condominium",
          "Condominium",
          "Condominium",
          "Dorm",
          "Dorm",
          "Entire Floor",
          "Guesthouse",
          "House",
          "House",
          "House",
          "House",
          "House",
          "House",
          "Loft",
          "Loft",
          "Loft",
          "Loft",
          "Loft",
          "Other",
          "Other",
          "Other",
          "Other",
          "Townhouse",
          "Townhouse",
          "Townhouse",
          "Townhouse",
          "Townhouse",
          "Villa",
          "Allston-Brighton",
          "Back Bay",
          "Fenway/Kenmore",
          "Jamaica Plain",
          "South Boston",
          "South End"
         ],
         "name": "",
         "parents": [
          "Allston-Brighton",
          "Back Bay",
          "Fenway/Kenmore",
          "Jamaica Plain",
          "South Boston",
          "South End",
          "Allston-Brighton",
          "Back Bay",
          "Fenway/Kenmore",
          "Jamaica Plain",
          "South End",
          "Allston-Brighton",
          "Back Bay",
          "Fenway/Kenmore",
          "Jamaica Plain",
          "South Boston",
          "South End",
          "Allston-Brighton",
          "South End",
          "Jamaica Plain",
          "Back Bay",
          "Allston-Brighton",
          "Back Bay",
          "Fenway/Kenmore",
          "Jamaica Plain",
          "South Boston",
          "South End",
          "Allston-Brighton",
          "Back Bay",
          "Jamaica Plain",
          "South Boston",
          "South End",
          "Allston-Brighton",
          "Back Bay",
          "South Boston",
          "South End",
          "Allston-Brighton",
          "Back Bay",
          "Jamaica Plain",
          "South Boston",
          "South End",
          "Allston-Brighton",
          "",
          "",
          "",
          "",
          "",
          ""
         ],
         "textinfo": "label+percent parent",
         "type": "sunburst",
         "values": [
          245,
          247,
          239,
          176,
          137,
          241,
          1,
          2,
          1,
          10,
          6,
          13,
          24,
          7,
          28,
          31,
          27,
          1,
          1,
          1,
          1,
          94,
          8,
          2,
          87,
          30,
          9,
          2,
          4,
          2,
          4,
          4,
          1,
          2,
          8,
          2,
          5,
          2,
          10,
          6,
          8,
          1,
          363,
          290,
          249,
          314,
          216,
          298
         ]
        }
       ],
       "layout": {
        "height": 600,
        "legend": {
         "tracegroupgap": 0
        },
        "template": {
         "data": {
          "bar": [
           {
            "error_x": {
             "color": "#2a3f5f"
            },
            "error_y": {
             "color": "#2a3f5f"
            },
            "marker": {
             "line": {
              "color": "#E5ECF6",
              "width": 0.5
             },
             "pattern": {
              "fillmode": "overlay",
              "size": 10,
              "solidity": 0.2
             }
            },
            "type": "bar"
           }
          ],
          "barpolar": [
           {
            "marker": {
             "line": {
              "color": "#E5ECF6",
              "width": 0.5
             },
             "pattern": {
              "fillmode": "overlay",
              "size": 10,
              "solidity": 0.2
             }
            },
            "type": "barpolar"
           }
          ],
          "carpet": [
           {
            "aaxis": {
             "endlinecolor": "#2a3f5f",
             "gridcolor": "white",
             "linecolor": "white",
             "minorgridcolor": "white",
             "startlinecolor": "#2a3f5f"
            },
            "baxis": {
             "endlinecolor": "#2a3f5f",
             "gridcolor": "white",
             "linecolor": "white",
             "minorgridcolor": "white",
             "startlinecolor": "#2a3f5f"
            },
            "type": "carpet"
           }
          ],
          "choropleth": [
           {
            "colorbar": {
             "outlinewidth": 0,
             "ticks": ""
            },
            "type": "choropleth"
           }
          ],
          "contour": [
           {
            "colorbar": {
             "outlinewidth": 0,
             "ticks": ""
            },
            "colorscale": [
             [
              0,
              "#0d0887"
             ],
             [
              0.1111111111111111,
              "#46039f"
             ],
             [
              0.2222222222222222,
              "#7201a8"
             ],
             [
              0.3333333333333333,
              "#9c179e"
             ],
             [
              0.4444444444444444,
              "#bd3786"
             ],
             [
              0.5555555555555556,
              "#d8576b"
             ],
             [
              0.6666666666666666,
              "#ed7953"
             ],
             [
              0.7777777777777778,
              "#fb9f3a"
             ],
             [
              0.8888888888888888,
              "#fdca26"
             ],
             [
              1,
              "#f0f921"
             ]
            ],
            "type": "contour"
           }
          ],
          "contourcarpet": [
           {
            "colorbar": {
             "outlinewidth": 0,
             "ticks": ""
            },
            "type": "contourcarpet"
           }
          ],
          "heatmap": [
           {
            "colorbar": {
             "outlinewidth": 0,
             "ticks": ""
            },
            "colorscale": [
             [
              0,
              "#0d0887"
             ],
             [
              0.1111111111111111,
              "#46039f"
             ],
             [
              0.2222222222222222,
              "#7201a8"
             ],
             [
              0.3333333333333333,
              "#9c179e"
             ],
             [
              0.4444444444444444,
              "#bd3786"
             ],
             [
              0.5555555555555556,
              "#d8576b"
             ],
             [
              0.6666666666666666,
              "#ed7953"
             ],
             [
              0.7777777777777778,
              "#fb9f3a"
             ],
             [
              0.8888888888888888,
              "#fdca26"
             ],
             [
              1,
              "#f0f921"
             ]
            ],
            "type": "heatmap"
           }
          ],
          "heatmapgl": [
           {
            "colorbar": {
             "outlinewidth": 0,
             "ticks": ""
            },
            "colorscale": [
             [
              0,
              "#0d0887"
             ],
             [
              0.1111111111111111,
              "#46039f"
             ],
             [
              0.2222222222222222,
              "#7201a8"
             ],
             [
              0.3333333333333333,
              "#9c179e"
             ],
             [
              0.4444444444444444,
              "#bd3786"
             ],
             [
              0.5555555555555556,
              "#d8576b"
             ],
             [
              0.6666666666666666,
              "#ed7953"
             ],
             [
              0.7777777777777778,
              "#fb9f3a"
             ],
             [
              0.8888888888888888,
              "#fdca26"
             ],
             [
              1,
              "#f0f921"
             ]
            ],
            "type": "heatmapgl"
           }
          ],
          "histogram": [
           {
            "marker": {
             "pattern": {
              "fillmode": "overlay",
              "size": 10,
              "solidity": 0.2
             }
            },
            "type": "histogram"
           }
          ],
          "histogram2d": [
           {
            "colorbar": {
             "outlinewidth": 0,
             "ticks": ""
            },
            "colorscale": [
             [
              0,
              "#0d0887"
             ],
             [
              0.1111111111111111,
              "#46039f"
             ],
             [
              0.2222222222222222,
              "#7201a8"
             ],
             [
              0.3333333333333333,
              "#9c179e"
             ],
             [
              0.4444444444444444,
              "#bd3786"
             ],
             [
              0.5555555555555556,
              "#d8576b"
             ],
             [
              0.6666666666666666,
              "#ed7953"
             ],
             [
              0.7777777777777778,
              "#fb9f3a"
             ],
             [
              0.8888888888888888,
              "#fdca26"
             ],
             [
              1,
              "#f0f921"
             ]
            ],
            "type": "histogram2d"
           }
          ],
          "histogram2dcontour": [
           {
            "colorbar": {
             "outlinewidth": 0,
             "ticks": ""
            },
            "colorscale": [
             [
              0,
              "#0d0887"
             ],
             [
              0.1111111111111111,
              "#46039f"
             ],
             [
              0.2222222222222222,
              "#7201a8"
             ],
             [
              0.3333333333333333,
              "#9c179e"
             ],
             [
              0.4444444444444444,
              "#bd3786"
             ],
             [
              0.5555555555555556,
              "#d8576b"
             ],
             [
              0.6666666666666666,
              "#ed7953"
             ],
             [
              0.7777777777777778,
              "#fb9f3a"
             ],
             [
              0.8888888888888888,
              "#fdca26"
             ],
             [
              1,
              "#f0f921"
             ]
            ],
            "type": "histogram2dcontour"
           }
          ],
          "mesh3d": [
           {
            "colorbar": {
             "outlinewidth": 0,
             "ticks": ""
            },
            "type": "mesh3d"
           }
          ],
          "parcoords": [
           {
            "line": {
             "colorbar": {
              "outlinewidth": 0,
              "ticks": ""
             }
            },
            "type": "parcoords"
           }
          ],
          "pie": [
           {
            "automargin": true,
            "type": "pie"
           }
          ],
          "scatter": [
           {
            "marker": {
             "colorbar": {
              "outlinewidth": 0,
              "ticks": ""
             }
            },
            "type": "scatter"
           }
          ],
          "scatter3d": [
           {
            "line": {
             "colorbar": {
              "outlinewidth": 0,
              "ticks": ""
             }
            },
            "marker": {
             "colorbar": {
              "outlinewidth": 0,
              "ticks": ""
             }
            },
            "type": "scatter3d"
           }
          ],
          "scattercarpet": [
           {
            "marker": {
             "colorbar": {
              "outlinewidth": 0,
              "ticks": ""
             }
            },
            "type": "scattercarpet"
           }
          ],
          "scattergeo": [
           {
            "marker": {
             "colorbar": {
              "outlinewidth": 0,
              "ticks": ""
             }
            },
            "type": "scattergeo"
           }
          ],
          "scattergl": [
           {
            "marker": {
             "colorbar": {
              "outlinewidth": 0,
              "ticks": ""
             }
            },
            "type": "scattergl"
           }
          ],
          "scattermapbox": [
           {
            "marker": {
             "colorbar": {
              "outlinewidth": 0,
              "ticks": ""
             }
            },
            "type": "scattermapbox"
           }
          ],
          "scatterpolar": [
           {
            "marker": {
             "colorbar": {
              "outlinewidth": 0,
              "ticks": ""
             }
            },
            "type": "scatterpolar"
           }
          ],
          "scatterpolargl": [
           {
            "marker": {
             "colorbar": {
              "outlinewidth": 0,
              "ticks": ""
             }
            },
            "type": "scatterpolargl"
           }
          ],
          "scatterternary": [
           {
            "marker": {
             "colorbar": {
              "outlinewidth": 0,
              "ticks": ""
             }
            },
            "type": "scatterternary"
           }
          ],
          "surface": [
           {
            "colorbar": {
             "outlinewidth": 0,
             "ticks": ""
            },
            "colorscale": [
             [
              0,
              "#0d0887"
             ],
             [
              0.1111111111111111,
              "#46039f"
             ],
             [
              0.2222222222222222,
              "#7201a8"
             ],
             [
              0.3333333333333333,
              "#9c179e"
             ],
             [
              0.4444444444444444,
              "#bd3786"
             ],
             [
              0.5555555555555556,
              "#d8576b"
             ],
             [
              0.6666666666666666,
              "#ed7953"
             ],
             [
              0.7777777777777778,
              "#fb9f3a"
             ],
             [
              0.8888888888888888,
              "#fdca26"
             ],
             [
              1,
              "#f0f921"
             ]
            ],
            "type": "surface"
           }
          ],
          "table": [
           {
            "cells": {
             "fill": {
              "color": "#EBF0F8"
             },
             "line": {
              "color": "white"
             }
            },
            "header": {
             "fill": {
              "color": "#C8D4E3"
             },
             "line": {
              "color": "white"
             }
            },
            "type": "table"
           }
          ]
         },
         "layout": {
          "annotationdefaults": {
           "arrowcolor": "#2a3f5f",
           "arrowhead": 0,
           "arrowwidth": 1
          },
          "autotypenumbers": "strict",
          "coloraxis": {
           "colorbar": {
            "outlinewidth": 0,
            "ticks": ""
           }
          },
          "colorscale": {
           "diverging": [
            [
             0,
             "#8e0152"
            ],
            [
             0.1,
             "#c51b7d"
            ],
            [
             0.2,
             "#de77ae"
            ],
            [
             0.3,
             "#f1b6da"
            ],
            [
             0.4,
             "#fde0ef"
            ],
            [
             0.5,
             "#f7f7f7"
            ],
            [
             0.6,
             "#e6f5d0"
            ],
            [
             0.7,
             "#b8e186"
            ],
            [
             0.8,
             "#7fbc41"
            ],
            [
             0.9,
             "#4d9221"
            ],
            [
             1,
             "#276419"
            ]
           ],
           "sequential": [
            [
             0,
             "#0d0887"
            ],
            [
             0.1111111111111111,
             "#46039f"
            ],
            [
             0.2222222222222222,
             "#7201a8"
            ],
            [
             0.3333333333333333,
             "#9c179e"
            ],
            [
             0.4444444444444444,
             "#bd3786"
            ],
            [
             0.5555555555555556,
             "#d8576b"
            ],
            [
             0.6666666666666666,
             "#ed7953"
            ],
            [
             0.7777777777777778,
             "#fb9f3a"
            ],
            [
             0.8888888888888888,
             "#fdca26"
            ],
            [
             1,
             "#f0f921"
            ]
           ],
           "sequentialminus": [
            [
             0,
             "#0d0887"
            ],
            [
             0.1111111111111111,
             "#46039f"
            ],
            [
             0.2222222222222222,
             "#7201a8"
            ],
            [
             0.3333333333333333,
             "#9c179e"
            ],
            [
             0.4444444444444444,
             "#bd3786"
            ],
            [
             0.5555555555555556,
             "#d8576b"
            ],
            [
             0.6666666666666666,
             "#ed7953"
            ],
            [
             0.7777777777777778,
             "#fb9f3a"
            ],
            [
             0.8888888888888888,
             "#fdca26"
            ],
            [
             1,
             "#f0f921"
            ]
           ]
          },
          "colorway": [
           "#636efa",
           "#EF553B",
           "#00cc96",
           "#ab63fa",
           "#FFA15A",
           "#19d3f3",
           "#FF6692",
           "#B6E880",
           "#FF97FF",
           "#FECB52"
          ],
          "font": {
           "color": "#2a3f5f"
          },
          "geo": {
           "bgcolor": "white",
           "lakecolor": "white",
           "landcolor": "#E5ECF6",
           "showlakes": true,
           "showland": true,
           "subunitcolor": "white"
          },
          "hoverlabel": {
           "align": "left"
          },
          "hovermode": "closest",
          "mapbox": {
           "style": "light"
          },
          "paper_bgcolor": "white",
          "plot_bgcolor": "#E5ECF6",
          "polar": {
           "angularaxis": {
            "gridcolor": "white",
            "linecolor": "white",
            "ticks": ""
           },
           "bgcolor": "#E5ECF6",
           "radialaxis": {
            "gridcolor": "white",
            "linecolor": "white",
            "ticks": ""
           }
          },
          "scene": {
           "xaxis": {
            "backgroundcolor": "#E5ECF6",
            "gridcolor": "white",
            "gridwidth": 2,
            "linecolor": "white",
            "showbackground": true,
            "ticks": "",
            "zerolinecolor": "white"
           },
           "yaxis": {
            "backgroundcolor": "#E5ECF6",
            "gridcolor": "white",
            "gridwidth": 2,
            "linecolor": "white",
            "showbackground": true,
            "ticks": "",
            "zerolinecolor": "white"
           },
           "zaxis": {
            "backgroundcolor": "#E5ECF6",
            "gridcolor": "white",
            "gridwidth": 2,
            "linecolor": "white",
            "showbackground": true,
            "ticks": "",
            "zerolinecolor": "white"
           }
          },
          "shapedefaults": {
           "line": {
            "color": "#2a3f5f"
           }
          },
          "ternary": {
           "aaxis": {
            "gridcolor": "white",
            "linecolor": "white",
            "ticks": ""
           },
           "baxis": {
            "gridcolor": "white",
            "linecolor": "white",
            "ticks": ""
           },
           "bgcolor": "#E5ECF6",
           "caxis": {
            "gridcolor": "white",
            "linecolor": "white",
            "ticks": ""
           }
          },
          "title": {
           "x": 0.05
          },
          "xaxis": {
           "automargin": true,
           "gridcolor": "white",
           "linecolor": "white",
           "ticks": "",
           "title": {
            "standoff": 15
           },
           "zerolinecolor": "white",
           "zerolinewidth": 2
          },
          "yaxis": {
           "automargin": true,
           "gridcolor": "white",
           "linecolor": "white",
           "ticks": "",
           "title": {
            "standoff": 15
           },
           "zerolinecolor": "white",
           "zerolinewidth": 2
          }
         }
        },
        "title": {
         "text": "Dwelling Type Composition"
        },
        "width": 600
       }
      },
      "image/png": "[encoded data removed]",
      "text/html": [
       "<div>                            <div id=\"051eb9e0-c2f3-47ce-83e5-47bb99d98278\" class=\"plotly-graph-div\" style=\"height:600px; width:600px;\"></div>            <script type=\"text/javascript\">                require([\"plotly\"], function(Plotly) {                    window.PLOTLYENV=window.PLOTLYENV || {};                                    if (document.getElementById(\"051eb9e0-c2f3-47ce-83e5-47bb99d98278\")) {                    Plotly.newPlot(                        \"051eb9e0-c2f3-47ce-83e5-47bb99d98278\",                        [{\"branchvalues\":\"total\",\"domain\":{\"x\":[0.0,1.0],\"y\":[0.0,1.0]},\"hovertemplate\":\"labels=%{label}<br>Number of Dwellings=%{value}<br>parent=%{parent}<br>id=%{id}<extra></extra>\",\"ids\":[\"Allston-Brighton/Apartment\",\"Back Bay/Apartment\",\"Fenway/Kenmore/Apartment\",\"Jamaica Plain/Apartment\",\"South Boston/Apartment\",\"South End/Apartment\",\"Allston-Brighton/Bed & Breakfast\",\"Back Bay/Bed & Breakfast\",\"Fenway/Kenmore/Bed & Breakfast\",\"Jamaica Plain/Bed & Breakfast\",\"South End/Bed & Breakfast\",\"Allston-Brighton/Condominium\",\"Back Bay/Condominium\",\"Fenway/Kenmore/Condominium\",\"Jamaica Plain/Condominium\",\"South Boston/Condominium\",\"South End/Condominium\",\"Allston-Brighton/Dorm\",\"South End/Dorm\",\"Jamaica Plain/Entire Floor\",\"Back Bay/Guesthouse\",\"Allston-Brighton/House\",\"Back Bay/House\",\"Fenway/Kenmore/House\",\"Jamaica Plain/House\",\"South Boston/House\",\"South End/House\",\"Allston-Brighton/Loft\",\"Back Bay/Loft\",\"Jamaica Plain/Loft\",\"South Boston/Loft\",\"South End/Loft\",\"Allston-Brighton/Other\",\"Back Bay/Other\",\"South Boston/Other\",\"South End/Other\",\"Allston-Brighton/Townhouse\",\"Back Bay/Townhouse\",\"Jamaica Plain/Townhouse\",\"South Boston/Townhouse\",\"South End/Townhouse\",\"Allston-Brighton/Villa\",\"Allston-Brighton\",\"Back Bay\",\"Fenway/Kenmore\",\"Jamaica Plain\",\"South Boston\",\"South End\"],\"labels\":[\"Apartment\",\"Apartment\",\"Apartment\",\"Apartment\",\"Apartment\",\"Apartment\",\"Bed & Breakfast\",\"Bed & Breakfast\",\"Bed & Breakfast\",\"Bed & Breakfast\",\"Bed & Breakfast\",\"Condominium\",\"Condominium\",\"Condominium\",\"Condominium\",\"Condominium\",\"Condominium\",\"Dorm\",\"Dorm\",\"Entire Floor\",\"Guesthouse\",\"House\",\"House\",\"House\",\"House\",\"House\",\"House\",\"Loft\",\"Loft\",\"Loft\",\"Loft\",\"Loft\",\"Other\",\"Other\",\"Other\",\"Other\",\"Townhouse\",\"Townhouse\",\"Townhouse\",\"Townhouse\",\"Townhouse\",\"Villa\",\"Allston-Brighton\",\"Back Bay\",\"Fenway/Kenmore\",\"Jamaica Plain\",\"South Boston\",\"South End\"],\"name\":\"\",\"parents\":[\"Allston-Brighton\",\"Back Bay\",\"Fenway/Kenmore\",\"Jamaica Plain\",\"South Boston\",\"South End\",\"Allston-Brighton\",\"Back Bay\",\"Fenway/Kenmore\",\"Jamaica Plain\",\"South End\",\"Allston-Brighton\",\"Back Bay\",\"Fenway/Kenmore\",\"Jamaica Plain\",\"South Boston\",\"South End\",\"Allston-Brighton\",\"South End\",\"Jamaica Plain\",\"Back Bay\",\"Allston-Brighton\",\"Back Bay\",\"Fenway/Kenmore\",\"Jamaica Plain\",\"South Boston\",\"South End\",\"Allston-Brighton\",\"Back Bay\",\"Jamaica Plain\",\"South Boston\",\"South End\",\"Allston-Brighton\",\"Back Bay\",\"South Boston\",\"South End\",\"Allston-Brighton\",\"Back Bay\",\"Jamaica Plain\",\"South Boston\",\"South End\",\"Allston-Brighton\",\"\",\"\",\"\",\"\",\"\",\"\"],\"textinfo\":\"label+percent parent\",\"type\":\"sunburst\",\"values\":[245,247,239,176,137,241,1,2,1,10,6,13,24,7,28,31,27,1,1,1,1,94,8,2,87,30,9,2,4,2,4,4,1,2,8,2,5,2,10,6,8,1,363,290,249,314,216,298]}],                        {\"height\":600,\"legend\":{\"tracegroupgap\":0},\"template\":{\"data\":{\"bar\":[{\"error_x\":{\"color\":\"#2a3f5f\"},\"error_y\":{\"color\":\"#2a3f5f\"},\"marker\":{\"line\":{\"color\":\"#E5ECF6\",\"width\":0.5},\"pattern\":{\"fillmode\":\"overlay\",\"size\":10,\"solidity\":0.2}},\"type\":\"bar\"}],\"barpolar\":[{\"marker\":{\"line\":{\"color\":\"#E5ECF6\",\"width\":0.5},\"pattern\":{\"fillmode\":\"overlay\",\"size\":10,\"solidity\":0.2}},\"type\":\"barpolar\"}],\"carpet\":[{\"aaxis\":{\"endlinecolor\":\"#2a3f5f\",\"gridcolor\":\"white\",\"linecolor\":\"white\",\"minorgridcolor\":\"white\",\"startlinecolor\":\"#2a3f5f\"},\"baxis\":{\"endlinecolor\":\"#2a3f5f\",\"gridcolor\":\"white\",\"linecolor\":\"white\",\"minorgridcolor\":\"white\",\"startlinecolor\":\"#2a3f5f\"},\"type\":\"carpet\"}],\"choropleth\":[{\"colorbar\":{\"outlinewidth\":0,\"ticks\":\"\"},\"type\":\"choropleth\"}],\"contour\":[{\"colorbar\":{\"outlinewidth\":0,\"ticks\":\"\"},\"colorscale\":[[0.0,\"#0d0887\"],[0.1111111111111111,\"#46039f\"],[0.2222222222222222,\"#7201a8\"],[0.3333333333333333,\"#9c179e\"],[0.4444444444444444,\"#bd3786\"],[0.5555555555555556,\"#d8576b\"],[0.6666666666666666,\"#ed7953\"],[0.7777777777777778,\"#fb9f3a\"],[0.8888888888888888,\"#fdca26\"],[1.0,\"#f0f921\"]],\"type\":\"contour\"}],\"contourcarpet\":[{\"colorbar\":{\"outlinewidth\":0,\"ticks\":\"\"},\"type\":\"contourcarpet\"}],\"heatmap\":[{\"colorbar\":{\"outlinewidth\":0,\"ticks\":\"\"},\"colorscale\":[[0.0,\"#0d0887\"],[0.1111111111111111,\"#46039f\"],[0.2222222222222222,\"#7201a8\"],[0.3333333333333333,\"#9c179e\"],[0.4444444444444444,\"#bd3786\"],[0.5555555555555556,\"#d8576b\"],[0.6666666666666666,\"#ed7953\"],[0.7777777777777778,\"#fb9f3a\"],[0.8888888888888888,\"#fdca26\"],[1.0,\"#f0f921\"]],\"type\":\"heatmap\"}],\"heatmapgl\":[{\"colorbar\":{\"outlinewidth\":0,\"ticks\":\"\"},\"colorscale\":[[0.0,\"#0d0887\"],[0.1111111111111111,\"#46039f\"],[0.2222222222222222,\"#7201a8\"],[0.3333333333333333,\"#9c179e\"],[0.4444444444444444,\"#bd3786\"],[0.5555555555555556,\"#d8576b\"],[0.6666666666666666,\"#ed7953\"],[0.7777777777777778,\"#fb9f3a\"],[0.8888888888888888,\"#fdca26\"],[1.0,\"#f0f921\"]],\"type\":\"heatmapgl\"}],\"histogram\":[{\"marker\":{\"pattern\":{\"fillmode\":\"overlay\",\"size\":10,\"solidity\":0.2}},\"type\":\"histogram\"}],\"histogram2d\":[{\"colorbar\":{\"outlinewidth\":0,\"ticks\":\"\"},\"colorscale\":[[0.0,\"#0d0887\"],[0.1111111111111111,\"#46039f\"],[0.2222222222222222,\"#7201a8\"],[0.3333333333333333,\"#9c179e\"],[0.4444444444444444,\"#bd3786\"],[0.5555555555555556,\"#d8576b\"],[0.6666666666666666,\"#ed7953\"],[0.7777777777777778,\"#fb9f3a\"],[0.8888888888888888,\"#fdca26\"],[1.0,\"#f0f921\"]],\"type\":\"histogram2d\"}],\"histogram2dcontour\":[{\"colorbar\":{\"outlinewidth\":0,\"ticks\":\"\"},\"colorscale\":[[0.0,\"#0d0887\"],[0.1111111111111111,\"#46039f\"],[0.2222222222222222,\"#7201a8\"],[0.3333333333333333,\"#9c179e\"],[0.4444444444444444,\"#bd3786\"],[0.5555555555555556,\"#d8576b\"],[0.6666666666666666,\"#ed7953\"],[0.7777777777777778,\"#fb9f3a\"],[0.8888888888888888,\"#fdca26\"],[1.0,\"#f0f921\"]],\"type\":\"histogram2dcontour\"}],\"mesh3d\":[{\"colorbar\":{\"outlinewidth\":0,\"ticks\":\"\"},\"type\":\"mesh3d\"}],\"parcoords\":[{\"line\":{\"colorbar\":{\"outlinewidth\":0,\"ticks\":\"\"}},\"type\":\"parcoords\"}],\"pie\":[{\"automargin\":true,\"type\":\"pie\"}],\"scatter\":[{\"marker\":{\"colorbar\":{\"outlinewidth\":0,\"ticks\":\"\"}},\"type\":\"scatter\"}],\"scatter3d\":[{\"line\":{\"colorbar\":{\"outlinewidth\":0,\"ticks\":\"\"}},\"marker\":{\"colorbar\":{\"outlinewidth\":0,\"ticks\":\"\"}},\"type\":\"scatter3d\"}],\"scattercarpet\":[{\"marker\":{\"colorbar\":{\"outlinewidth\":0,\"ticks\":\"\"}},\"type\":\"scattercarpet\"}],\"scattergeo\":[{\"marker\":{\"colorbar\":{\"outlinewidth\":0,\"ticks\":\"\"}},\"type\":\"scattergeo\"}],\"scattergl\":[{\"marker\":{\"colorbar\":{\"outlinewidth\":0,\"ticks\":\"\"}},\"type\":\"scattergl\"}],\"scattermapbox\":[{\"marker\":{\"colorbar\":{\"outlinewidth\":0,\"ticks\":\"\"}},\"type\":\"scattermapbox\"}],\"scatterpolar\":[{\"marker\":{\"colorbar\":{\"outlinewidth\":0,\"ticks\":\"\"}},\"type\":\"scatterpolar\"}],\"scatterpolargl\":[{\"marker\":{\"colorbar\":{\"outlinewidth\":0,\"ticks\":\"\"}},\"type\":\"scatterpolargl\"}],\"scatterternary\":[{\"marker\":{\"colorbar\":{\"outlinewidth\":0,\"ticks\":\"\"}},\"type\":\"scatterternary\"}],\"surface\":[{\"colorbar\":{\"outlinewidth\":0,\"ticks\":\"\"},\"colorscale\":[[0.0,\"#0d0887\"],[0.1111111111111111,\"#46039f\"],[0.2222222222222222,\"#7201a8\"],[0.3333333333333333,\"#9c179e\"],[0.4444444444444444,\"#bd3786\"],[0.5555555555555556,\"#d8576b\"],[0.6666666666666666,\"#ed7953\"],[0.7777777777777778,\"#fb9f3a\"],[0.8888888888888888,\"#fdca26\"],[1.0,\"#f0f921\"]],\"type\":\"surface\"}],\"table\":[{\"cells\":{\"fill\":{\"color\":\"#EBF0F8\"},\"line\":{\"color\":\"white\"}},\"header\":{\"fill\":{\"color\":\"#C8D4E3\"},\"line\":{\"color\":\"white\"}},\"type\":\"table\"}]},\"layout\":{\"annotationdefaults\":{\"arrowcolor\":\"#2a3f5f\",\"arrowhead\":0,\"arrowwidth\":1},\"autotypenumbers\":\"strict\",\"coloraxis\":{\"colorbar\":{\"outlinewidth\":0,\"ticks\":\"\"}},\"colorscale\":{\"diverging\":[[0,\"#8e0152\"],[0.1,\"#c51b7d\"],[0.2,\"#de77ae\"],[0.3,\"#f1b6da\"],[0.4,\"#fde0ef\"],[0.5,\"#f7f7f7\"],[0.6,\"#e6f5d0\"],[0.7,\"#b8e186\"],[0.8,\"#7fbc41\"],[0.9,\"#4d9221\"],[1,\"#276419\"]],\"sequential\":[[0.0,\"#0d0887\"],[0.1111111111111111,\"#46039f\"],[0.2222222222222222,\"#7201a8\"],[0.3333333333333333,\"#9c179e\"],[0.4444444444444444,\"#bd3786\"],[0.5555555555555556,\"#d8576b\"],[0.6666666666666666,\"#ed7953\"],[0.7777777777777778,\"#fb9f3a\"],[0.8888888888888888,\"#fdca26\"],[1.0,\"#f0f921\"]],\"sequentialminus\":[[0.0,\"#0d0887\"],[0.1111111111111111,\"#46039f\"],[0.2222222222222222,\"#7201a8\"],[0.3333333333333333,\"#9c179e\"],[0.4444444444444444,\"#bd3786\"],[0.5555555555555556,\"#d8576b\"],[0.6666666666666666,\"#ed7953\"],[0.7777777777777778,\"#fb9f3a\"],[0.8888888888888888,\"#fdca26\"],[1.0,\"#f0f921\"]]},\"colorway\":[\"#636efa\",\"#EF553B\",\"#00cc96\",\"#ab63fa\",\"#FFA15A\",\"#19d3f3\",\"#FF6692\",\"#B6E880\",\"#FF97FF\",\"#FECB52\"],\"font\":{\"color\":\"#2a3f5f\"},\"geo\":{\"bgcolor\":\"white\",\"lakecolor\":\"white\",\"landcolor\":\"#E5ECF6\",\"showlakes\":true,\"showland\":true,\"subunitcolor\":\"white\"},\"hoverlabel\":{\"align\":\"left\"},\"hovermode\":\"closest\",\"mapbox\":{\"style\":\"light\"},\"paper_bgcolor\":\"white\",\"plot_bgcolor\":\"#E5ECF6\",\"polar\":{\"angularaxis\":{\"gridcolor\":\"white\",\"linecolor\":\"white\",\"ticks\":\"\"},\"bgcolor\":\"#E5ECF6\",\"radialaxis\":{\"gridcolor\":\"white\",\"linecolor\":\"white\",\"ticks\":\"\"}},\"scene\":{\"xaxis\":{\"backgroundcolor\":\"#E5ECF6\",\"gridcolor\":\"white\",\"gridwidth\":2,\"linecolor\":\"white\",\"showbackground\":true,\"ticks\":\"\",\"zerolinecolor\":\"white\"},\"yaxis\":{\"backgroundcolor\":\"#E5ECF6\",\"gridcolor\":\"white\",\"gridwidth\":2,\"linecolor\":\"white\",\"showbackground\":true,\"ticks\":\"\",\"zerolinecolor\":\"white\"},\"zaxis\":{\"backgroundcolor\":\"#E5ECF6\",\"gridcolor\":\"white\",\"gridwidth\":2,\"linecolor\":\"white\",\"showbackground\":true,\"ticks\":\"\",\"zerolinecolor\":\"white\"}},\"shapedefaults\":{\"line\":{\"color\":\"#2a3f5f\"}},\"ternary\":{\"aaxis\":{\"gridcolor\":\"white\",\"linecolor\":\"white\",\"ticks\":\"\"},\"baxis\":{\"gridcolor\":\"white\",\"linecolor\":\"white\",\"ticks\":\"\"},\"bgcolor\":\"#E5ECF6\",\"caxis\":{\"gridcolor\":\"white\",\"linecolor\":\"white\",\"ticks\":\"\"}},\"title\":{\"x\":0.05},\"xaxis\":{\"automargin\":true,\"gridcolor\":\"white\",\"linecolor\":\"white\",\"ticks\":\"\",\"title\":{\"standoff\":15},\"zerolinecolor\":\"white\",\"zerolinewidth\":2},\"yaxis\":{\"automargin\":true,\"gridcolor\":\"white\",\"linecolor\":\"white\",\"ticks\":\"\",\"title\":{\"standoff\":15},\"zerolinecolor\":\"white\",\"zerolinewidth\":2}}},\"title\":{\"text\":\"Dwelling Type Composition\"},\"width\":600},                        {\"responsive\": true}                    ).then(function(){\n",
       "                            \n",
       "var gd = document.getElementById('051eb9e0-c2f3-47ce-83e5-47bb99d98278');\n",
       "var x = new MutationObserver(function (mutations, observer) {{\n",
       "        var display = window.getComputedStyle(gd).display;\n",
       "        if (!display || display === 'none') {{\n",
       "            console.log([gd, 'removed!']);\n",
       "            Plotly.purge(gd);\n",
       "            observer.disconnect();\n",
       "        }}\n",
       "}});\n",
       "\n",
       "// Listen for the removal of the full notebook cells\n",
       "var notebookContainer = gd.closest('#notebook-container');\n",
       "if (notebookContainer) {{\n",
       "    x.observe(notebookContainer, {childList: true});\n",
       "}}\n",
       "\n",
       "// Listen for the clearing of the current output cell\n",
       "var outputEl = gd.closest('.output');\n",
       "if (outputEl) {{\n",
       "    x.observe(outputEl, {childList: true});\n",
       "}}\n",
       "\n",
       "                        })                };                });            </script>        </div>"
      ]
     },
     "metadata": {},
     "output_type": "display_data"
    }
   ],
   "source": [
    "# Now that we know the locations we are going to use, it is time to plot our sunburst chart!\n",
    "\n",
    "# Unfortunately plotly has a bug for the sunburst plot in which it does not recognize the 'id' column\n",
    "# for the chart creation. Thus we'll have to make a second column with the same data.\n",
    "# We are going to call the new column 'Number of Dwellings'\n",
    "property_types_count['Number of Dwellings'] = property_types_count['id']\n",
    "\n",
    "# Finally plotting the sunburst chart!\n",
    "figure = px.sunburst(property_types_count, values = 'Number of Dwellings', path = ['neighbourhood','property_type'], \n",
    "                     width = 600, height = 600, title = 'Dwelling Type Composition')\n",
    "figure.update_traces(textinfo=\"label+percent parent\")\n",
    "figure.show()"
   ]
  },
  {
   "cell_type": "markdown",
   "id": "47a85386-a532-4ac9-8b76-09a496d4e460",
   "metadata": {},
   "source": [
    "<p style = 'font-size:30px'> <strong>Task 2</strong> </p>"
   ]
  },
  {
   "cell_type": "code",
   "execution_count": 172,
   "id": "51c0edbb-e6a4-4f48-820f-6d9f423ed076",
   "metadata": {},
   "outputs": [
    {
     "data": {
      "text/plain": [
       "1        (8.0, 10.0]\n",
       "2        (8.0, 10.0]\n",
       "4        (8.0, 10.0]\n",
       "5        (8.0, 10.0]\n",
       "7        (8.0, 10.0]\n",
       "            ...     \n",
       "3529    (1.992, 4.0]\n",
       "3532     (8.0, 10.0]\n",
       "3533      (6.0, 8.0]\n",
       "3534     (8.0, 10.0]\n",
       "3574      (6.0, 8.0]\n",
       "Name: review_scores_value, Length: 2350, dtype: category\n",
       "Categories (4, interval[float64]): [(1.992, 4.0] < (4.0, 6.0] < (6.0, 8.0] < (8.0, 10.0]]"
      ]
     },
     "execution_count": 172,
     "metadata": {},
     "output_type": "execute_result"
    }
   ],
   "source": [
    "# In this task, I am going to create four categories for the ratings from the 'review_scores_value' column.\n",
    "# Each of the ratings categories will contain the same number of dwellings.\n",
    "categories = pd.cut(airbnb['review_scores_value'].dropna(), 4)\n",
    "categories"
   ]
  },
  {
   "cell_type": "code",
   "execution_count": 173,
   "id": "ead23625-d492-481d-a7d1-1f760abd2e34",
   "metadata": {},
   "outputs": [
    {
     "data": {
      "text/plain": [
       "1       Excellent\n",
       "2       Excellent\n",
       "4       Excellent\n",
       "5       Excellent\n",
       "7       Excellent\n",
       "          ...    \n",
       "3529         Poor\n",
       "3532    Excellent\n",
       "3533         Good\n",
       "3534    Excellent\n",
       "3574         Good\n",
       "Name: review_scores_value, Length: 2350, dtype: category\n",
       "Categories (4, object): ['Poor' < 'Avergage' < 'Good' < 'Excellent']"
      ]
     },
     "execution_count": 173,
     "metadata": {},
     "output_type": "execute_result"
    }
   ],
   "source": [
    "# Each one of the categories will have a label indicating the dwelling's quality.\n",
    "categories = pd.cut(airbnb['review_scores_value'].dropna(), 4,\n",
    "                   labels = ['Poor', 'Avergage', 'Good', 'Excellent'])\n",
    "categories"
   ]
  },
  {
   "cell_type": "code",
   "execution_count": 174,
   "id": "65ef73af-0a8c-4065-948e-0e33ab5e2789",
   "metadata": {},
   "outputs": [
    {
     "data": {
      "text/html": [
       "<div>\n",
       "<style scoped>\n",
       "    .dataframe tbody tr th:only-of-type {\n",
       "        vertical-align: middle;\n",
       "    }\n",
       "\n",
       "    .dataframe tbody tr th {\n",
       "        vertical-align: top;\n",
       "    }\n",
       "\n",
       "    .dataframe thead th {\n",
       "        text-align: right;\n",
       "    }\n",
       "</style>\n",
       "<table border=\"1\" class=\"dataframe\">\n",
       "  <thead>\n",
       "    <tr style=\"text-align: right;\">\n",
       "      <th></th>\n",
       "      <th>id</th>\n",
       "      <th>host_is_superhost</th>\n",
       "      <th>neighbourhood</th>\n",
       "      <th>property_type</th>\n",
       "      <th>price</th>\n",
       "      <th>review_scores_value</th>\n",
       "      <th>Lodging Quality</th>\n",
       "    </tr>\n",
       "  </thead>\n",
       "  <tbody>\n",
       "    <tr>\n",
       "      <th>0</th>\n",
       "      <td>12147973</td>\n",
       "      <td>f</td>\n",
       "      <td>Roslindale</td>\n",
       "      <td>House</td>\n",
       "      <td>250.0</td>\n",
       "      <td>NaN</td>\n",
       "      <td>NaN</td>\n",
       "    </tr>\n",
       "    <tr>\n",
       "      <th>1</th>\n",
       "      <td>3075044</td>\n",
       "      <td>f</td>\n",
       "      <td>Roslindale</td>\n",
       "      <td>Apartment</td>\n",
       "      <td>65.0</td>\n",
       "      <td>9.0</td>\n",
       "      <td>Excellent</td>\n",
       "    </tr>\n",
       "    <tr>\n",
       "      <th>2</th>\n",
       "      <td>6976</td>\n",
       "      <td>t</td>\n",
       "      <td>Roslindale</td>\n",
       "      <td>Apartment</td>\n",
       "      <td>65.0</td>\n",
       "      <td>10.0</td>\n",
       "      <td>Excellent</td>\n",
       "    </tr>\n",
       "    <tr>\n",
       "      <th>4</th>\n",
       "      <td>7651065</td>\n",
       "      <td>t</td>\n",
       "      <td>Roslindale</td>\n",
       "      <td>House</td>\n",
       "      <td>79.0</td>\n",
       "      <td>10.0</td>\n",
       "      <td>Excellent</td>\n",
       "    </tr>\n",
       "    <tr>\n",
       "      <th>5</th>\n",
       "      <td>12386020</td>\n",
       "      <td>t</td>\n",
       "      <td>Roslindale</td>\n",
       "      <td>Condominium</td>\n",
       "      <td>75.0</td>\n",
       "      <td>10.0</td>\n",
       "      <td>Excellent</td>\n",
       "    </tr>\n",
       "  </tbody>\n",
       "</table>\n",
       "</div>"
      ],
      "text/plain": [
       "         id host_is_superhost neighbourhood property_type  price  \\\n",
       "0  12147973                 f    Roslindale         House  250.0   \n",
       "1   3075044                 f    Roslindale     Apartment   65.0   \n",
       "2      6976                 t    Roslindale     Apartment   65.0   \n",
       "4   7651065                 t    Roslindale         House   79.0   \n",
       "5  12386020                 t    Roslindale   Condominium   75.0   \n",
       "\n",
       "   review_scores_value Lodging Quality  \n",
       "0                  NaN             NaN  \n",
       "1                  9.0       Excellent  \n",
       "2                 10.0       Excellent  \n",
       "4                 10.0       Excellent  \n",
       "5                 10.0       Excellent  "
      ]
     },
     "execution_count": 174,
     "metadata": {},
     "output_type": "execute_result"
    }
   ],
   "source": [
    "# Transforming the Categorical object into a column:\n",
    "airbnb['Lodging Quality'] = categories\n",
    "airbnb.head(5)"
   ]
  },
  {
   "cell_type": "code",
   "execution_count": 175,
   "id": "624fb753-e4ac-42de-98d7-66f4da8273ed",
   "metadata": {},
   "outputs": [
    {
     "data": {
      "text/html": [
       "<div>\n",
       "<style scoped>\n",
       "    .dataframe tbody tr th:only-of-type {\n",
       "        vertical-align: middle;\n",
       "    }\n",
       "\n",
       "    .dataframe tbody tr th {\n",
       "        vertical-align: top;\n",
       "    }\n",
       "\n",
       "    .dataframe thead th {\n",
       "        text-align: right;\n",
       "    }\n",
       "</style>\n",
       "<table border=\"1\" class=\"dataframe\">\n",
       "  <thead>\n",
       "    <tr style=\"text-align: right;\">\n",
       "      <th></th>\n",
       "      <th>id</th>\n",
       "      <th>host_is_superhost</th>\n",
       "      <th>neighbourhood</th>\n",
       "      <th>property_type</th>\n",
       "      <th>price</th>\n",
       "      <th>review_scores_value</th>\n",
       "      <th>Lodging Quality</th>\n",
       "    </tr>\n",
       "  </thead>\n",
       "  <tbody>\n",
       "    <tr>\n",
       "      <th>1</th>\n",
       "      <td>3075044</td>\n",
       "      <td>f</td>\n",
       "      <td>Roslindale</td>\n",
       "      <td>Apartment</td>\n",
       "      <td>65.0</td>\n",
       "      <td>9.0</td>\n",
       "      <td>Excellent</td>\n",
       "    </tr>\n",
       "    <tr>\n",
       "      <th>2</th>\n",
       "      <td>6976</td>\n",
       "      <td>t</td>\n",
       "      <td>Roslindale</td>\n",
       "      <td>Apartment</td>\n",
       "      <td>65.0</td>\n",
       "      <td>10.0</td>\n",
       "      <td>Excellent</td>\n",
       "    </tr>\n",
       "    <tr>\n",
       "      <th>4</th>\n",
       "      <td>7651065</td>\n",
       "      <td>t</td>\n",
       "      <td>Roslindale</td>\n",
       "      <td>House</td>\n",
       "      <td>79.0</td>\n",
       "      <td>10.0</td>\n",
       "      <td>Excellent</td>\n",
       "    </tr>\n",
       "    <tr>\n",
       "      <th>5</th>\n",
       "      <td>12386020</td>\n",
       "      <td>t</td>\n",
       "      <td>Roslindale</td>\n",
       "      <td>Condominium</td>\n",
       "      <td>75.0</td>\n",
       "      <td>10.0</td>\n",
       "      <td>Excellent</td>\n",
       "    </tr>\n",
       "    <tr>\n",
       "      <th>7</th>\n",
       "      <td>2843445</td>\n",
       "      <td>t</td>\n",
       "      <td>Roslindale</td>\n",
       "      <td>House</td>\n",
       "      <td>75.0</td>\n",
       "      <td>10.0</td>\n",
       "      <td>Excellent</td>\n",
       "    </tr>\n",
       "  </tbody>\n",
       "</table>\n",
       "</div>"
      ],
      "text/plain": [
       "         id host_is_superhost neighbourhood property_type  price  \\\n",
       "1   3075044                 f    Roslindale     Apartment   65.0   \n",
       "2      6976                 t    Roslindale     Apartment   65.0   \n",
       "4   7651065                 t    Roslindale         House   79.0   \n",
       "5  12386020                 t    Roslindale   Condominium   75.0   \n",
       "7   2843445                 t    Roslindale         House   75.0   \n",
       "\n",
       "   review_scores_value Lodging Quality  \n",
       "1                  9.0       Excellent  \n",
       "2                 10.0       Excellent  \n",
       "4                 10.0       Excellent  \n",
       "5                 10.0       Excellent  \n",
       "7                 10.0       Excellent  "
      ]
     },
     "execution_count": 175,
     "metadata": {},
     "output_type": "execute_result"
    }
   ],
   "source": [
    "# As you've probably seen, the DF contains rows from residences with no 'review_scores_value' rating and thus no\n",
    "# Lodging Quality specified.\n",
    "\n",
    "# As these dwellings have no utility to our analysis, wel'll drop them from the DF.\n",
    "no_nan = airbnb[~airbnb['review_scores_value'].isnull()]\n",
    "no_nan.head()"
   ]
  },
  {
   "cell_type": "code",
   "execution_count": 176,
   "id": "ae7c2922-acd0-40aa-aae6-f38e8ec4652c",
   "metadata": {},
   "outputs": [
    {
     "data": {
      "text/plain": [
       "Text(0.5, 1.0, 'Average Price per Dwelling Quality')"
      ]
     },
     "execution_count": 176,
     "metadata": {},
     "output_type": "execute_result"
    },
    {
     "data": {
      "image/png": "[encoded data removed]",
      "text/plain": [
       "<Figure size 576x396 with 1 Axes>"
      ]
     },
     "metadata": {},
     "output_type": "display_data"
    }
   ],
   "source": [
    "# With everything done, it is time to plot the chart.\n",
    "from matplotlib.pyplot import style\n",
    "# Setting the 'seaborn' chart style.\n",
    "style.use('seaborn')\n",
    "\n",
    "# Grouping the dwellings accordingly to their 'Lodging Quality' reputation and calculating the average price for each\n",
    "# category.\n",
    "groups = no_nan.groupby('Lodging Quality')['price'].mean()\n",
    "\n",
    "# Defining the chart's parameters\n",
    "chart = groups.plot(kind = 'bar', ylim = (100,200) , xlabel = '', yticks = [], \n",
    "                    fontsize = 12, grid = False, color = ['grey','grey', 'darkred', 'grey'])\n",
    "\n",
    "# Configuring matplotlib to display the average price for each of the graph's bars.\n",
    "for i, price in enumerate(groups):\n",
    "    plt.text(-0.2 + i, price + 3, f'${price:.2f}', fontdict = {'size':12})\n",
    "\n",
    "# Defining the graph's title\n",
    "plt.title('Average Price per Dwelling Quality', fontdict = {'size':15})"
   ]
  },
  {
   "cell_type": "markdown",
   "id": "bde30a7f-eaec-47ed-9f5f-0e3a1f978320",
   "metadata": {},
   "source": [
    "<p style = 'font-size:30px'> <strong>Task 3</strong> </p>"
   ]
  },
  {
   "cell_type": "markdown",
   "id": "6a4395a6-c1dd-411e-a912-09fdd332e4fa",
   "metadata": {},
   "source": [
    "* <p style = 'font-size:20px'> In Airbnb you can get a superhost status if your profile matches a set of conditions.</p>\n",
    "\n",
    "* <p style = 'font-size:20px'> This title can provide you a sense of credibility among Airbnb users. </p>\n",
    "\n",
    "* <p style = 'font-size:20px'> But in regard to the Boston's Airbnb superhosts, do they take advantadge of their status in order impose a higher price on their lodgings?</p>"
   ]
  },
  {
   "cell_type": "code",
   "execution_count": 177,
   "id": "d0087580-24b0-4978-94a3-df7203662f26",
   "metadata": {},
   "outputs": [],
   "source": [
    "# We can check it through an hypothesis test!\n",
    "\n",
    "# Null hypothesis: Airbnb owned dwellings got the SAME price as the ones possessed by common hosts.\n",
    "# Alternative hypothesis: Airbnb superhosts owned dwellings DO NOT HAVE SAME price as the ones \n",
    "                                                                    # possessed by common hosts.\n",
    "    \n",
    "# To carry out our hypothesis test, we need equally-sized samples.\n",
    "# Let's create a group of 100 lodgings owned by superhosts and another one of the same size containing the ones\n",
    "# possessed by common hosts.\n",
    "superhost = airbnb[airbnb['host_is_superhost'] == 't']['price'].sample(100)\n",
    "non_superhost = airbnb[airbnb['host_is_superhost'] == 'f']['price'].sample(100)"
   ]
  },
  {
   "cell_type": "code",
   "execution_count": 178,
   "id": "e089f518-d304-4c52-8144-6ae7816317d8",
   "metadata": {},
   "outputs": [
    {
     "data": {
      "text/plain": [
       "Ttest_relResult(statistic=0.8682053904236512, pvalue=0.38738167078607766)"
      ]
     },
     "execution_count": 178,
     "metadata": {},
     "output_type": "execute_result"
    }
   ],
   "source": [
    "# The significance level is going to be 5%\n",
    "from scipy.stats import ttest_rel\n",
    "\n",
    "# Performing the hypothesis test with scipy.stats ttest_rel method.\n",
    "# The p-value generated is higher than the significance level.\n",
    "ttest_rel(superhost, non_superhost)"
   ]
  },
  {
   "cell_type": "code",
   "execution_count": 179,
   "id": "f037fad3-1f10-42ed-b0b3-99b21318e95b",
   "metadata": {},
   "outputs": [
    {
     "name": "stdout",
     "output_type": "stream",
     "text": [
      "0.38738167078607766\n"
     ]
    },
    {
     "data": {
      "image/png": "[encoded data removed]",
      "text/plain": [
       "<Figure size 720x108 with 1 Axes>"
      ]
     },
     "metadata": {},
     "output_type": "display_data"
    }
   ],
   "source": [
    "import matplotlib.pyplot as plt\n",
    "# We are going to plot the Significance Level and the p-value obtained.\n",
    "pvalue = ttest_rel(superhost, non_superhost)[1]\n",
    "print(pvalue)\n",
    "\n",
    "fig = plt.figure(figsize = (10,1.5))\n",
    "plt.barh(y = ['p-value', 'Significance Level'], width = [pvalue, 0.05], linewidth = 0.2)\n",
    "\n",
    "plt.title('Significance Level x p-value')\n",
    "\n",
    "plt.margins(y = 0.05)\n",
    "plt.tight_layout()"
   ]
  },
  {
   "cell_type": "markdown",
   "id": "c6af1345-31ac-4060-b2fd-36acb2f2d66a",
   "metadata": {},
   "source": [
    "<p style = 'font-size:30px'> <strong>Task 4</strong> </p>"
   ]
  },
  {
   "cell_type": "markdown",
   "id": "54d042a6-dea4-489d-91df-03d2589a4ef6",
   "metadata": {},
   "source": [
    "* <p style = 'font-size:20px'> I've encountered an Excel file made by American Community Survey containing many demographic statistics from Boston's neighborhoods. I'll use a sheet displaying the Per Capita Income of each one of the locations.</p>\n",
    "\n",
    "* <p style = 'font-size:20px'> Our mission is going to answer the following question: How much is the correlation between the neighborhoods' Per Capita Income and their Airbnb dwellings' average price?  Is it more expensive to stay in a richer region of Boston?</p>\n",
    "\n",
    "* <p style = 'font-size:20px'> If you'd like to access the full document you can click <a href = 'https://data.boston.gov/dataset/neighborhood-demographics'> here</a>. The file is the third one from the list.</p>"
   ]
  },
  {
   "cell_type": "code",
   "execution_count": 242,
   "id": "8fc56f11-079d-4f41-b599-9ffa89b40316",
   "metadata": {},
   "outputs": [
    {
     "data": {
      "text/html": [
       "<div>\n",
       "<style scoped>\n",
       "    .dataframe tbody tr th:only-of-type {\n",
       "        vertical-align: middle;\n",
       "    }\n",
       "\n",
       "    .dataframe tbody tr th {\n",
       "        vertical-align: top;\n",
       "    }\n",
       "\n",
       "    .dataframe thead th {\n",
       "        text-align: right;\n",
       "    }\n",
       "</style>\n",
       "<table border=\"1\" class=\"dataframe\">\n",
       "  <thead>\n",
       "    <tr style=\"text-align: right;\">\n",
       "      <th></th>\n",
       "      <th>Total Population</th>\n",
       "      <th>Per Capita Income</th>\n",
       "    </tr>\n",
       "    <tr>\n",
       "      <th>Neighborhood</th>\n",
       "      <th></th>\n",
       "      <th></th>\n",
       "    </tr>\n",
       "  </thead>\n",
       "  <tbody>\n",
       "    <tr>\n",
       "      <th>Allston</th>\n",
       "      <td>19261</td>\n",
       "      <td>34148.709828</td>\n",
       "    </tr>\n",
       "    <tr>\n",
       "      <th>Back Bay</th>\n",
       "      <td>17783</td>\n",
       "      <td>110676.820559</td>\n",
       "    </tr>\n",
       "    <tr>\n",
       "      <th>Beacon Hill</th>\n",
       "      <td>9648</td>\n",
       "      <td>100005.286070</td>\n",
       "    </tr>\n",
       "    <tr>\n",
       "      <th>Brighton</th>\n",
       "      <td>55297</td>\n",
       "      <td>41261.375843</td>\n",
       "    </tr>\n",
       "    <tr>\n",
       "      <th>Charlestown</th>\n",
       "      <td>19890</td>\n",
       "      <td>75338.893917</td>\n",
       "    </tr>\n",
       "  </tbody>\n",
       "</table>\n",
       "</div>"
      ],
      "text/plain": [
       "              Total Population  Per Capita Income\n",
       "Neighborhood                                     \n",
       "Allston                  19261       34148.709828\n",
       "Back Bay                 17783      110676.820559\n",
       "Beacon Hill               9648      100005.286070\n",
       "Brighton                 55297       41261.375843\n",
       "Charlestown              19890       75338.893917"
      ]
     },
     "execution_count": 242,
     "metadata": {},
     "output_type": "execute_result"
    }
   ],
   "source": [
    "# Importing the Excel sheet.\n",
    "per_capita = pd.read_excel('2015-2019_neighborhood_tables_2021.12.21.xlsm', sheet_name='Per Capita Income', \n",
    "                          header = 2, usecols = [0,1,3], \n",
    "                        names = ['Neighborhood', 'Total Population', 'Per Capita Income'],\n",
    "                          skiprows=[1,2,3,28, 29, 30, 31, 32, 33, 34], index_col=0)\n",
    "\n",
    "# Making a little adjustment on the name of Fenway neighborhood.\n",
    "per_capita.rename(index = {'Fenway' : 'Fenway/Kenmore'}, inplace = True)\n",
    "per_capita.head()"
   ]
  },
  {
   "cell_type": "markdown",
   "id": "0698b9f7-c963-4a7e-9e9a-4610640de669",
   "metadata": {},
   "source": [
    "* <p style = 'font-size:20px'> We can see that differently from what the 'airbnb' DF shows, Brighton and Allston are actually two separated neighborhoods.</p>\n",
    "\n",
    "* <p style = 'font-size:20px'> But in order to work with the Airbnb data we need to convert the informations from both neighborhoods into a single row with the name 'Allston-Brighton'.</p>"
   ]
  },
  {
   "cell_type": "code",
   "execution_count": 243,
   "id": "cbad3c16-1467-4c7b-adde-c136c55d8050",
   "metadata": {},
   "outputs": [
    {
     "data": {
      "text/plain": [
       "39423.91963303737"
      ]
     },
     "execution_count": 243,
     "metadata": {},
     "output_type": "execute_result"
    }
   ],
   "source": [
    "# Getting the neighborhoods' population sum.\n",
    "allst_bright_pop = per_capita.loc['Allston', 'Total Population'] + per_capita.loc['Brighton', 'Total Population']\n",
    "\n",
    "a =(per_capita.loc['Allston', 'Total Population'] / allst_bright_pop) * per_capita.loc['Allston', 'Per Capita Income']\n",
    "\n",
    "b =(per_capita.loc['Brighton', 'Total Population']/ allst_bright_pop) * per_capita.loc['Brighton', 'Per Capita Income']\n",
    "\n",
    "# Evaluating the average Per Capita Income from the 'Allston-Brighton' area.\n",
    "alls_bright_capita = a+b\n",
    "alls_bright_capita"
   ]
  },
  {
   "cell_type": "code",
   "execution_count": 244,
   "id": "014b295a-a89f-425b-a5f3-4bc1f8348720",
   "metadata": {},
   "outputs": [],
   "source": [
    "# With the right data in our hands, we are able to create the new row.\n",
    "per_capita.loc['Allston-Brighton'] = allst_bright_pop, alls_bright_capita\n",
    "per_capita.loc['Allston-Brighton']\n",
    "\n",
    "# Dropping the 'Allston' and 'Brighton' rows.\n",
    "per_capita.drop(index = ['Allston', 'Brighton'], inplace = True)"
   ]
  },
  {
   "cell_type": "code",
   "execution_count": 245,
   "id": "bc3f7385-cb7f-40a9-bd9b-7c17a49c00e6",
   "metadata": {},
   "outputs": [
    {
     "data": {
      "text/plain": [
       "neighbourhood\n",
       "Allston-Brighton    114.162088\n",
       "Back Bay            245.457045\n",
       "Beacon Hill         212.080460\n",
       "Charlestown         210.050633\n",
       "Chestnut Hill        70.750000\n",
       "Name: price, dtype: float64"
      ]
     },
     "execution_count": 245,
     "metadata": {},
     "output_type": "execute_result"
    }
   ],
   "source": [
    "# We are going to get the average price for each of the neighborhoods contained in the 'airbnb' DF.\n",
    "average_price = airbnb.groupby('neighbourhood')['price'].mean()\n",
    "average_price.head()"
   ]
  },
  {
   "cell_type": "code",
   "execution_count": 246,
   "id": "682f17d4-9b51-475d-9c6a-67b400c1aa3c",
   "metadata": {},
   "outputs": [
    {
     "data": {
      "text/html": [
       "<div>\n",
       "<style scoped>\n",
       "    .dataframe tbody tr th:only-of-type {\n",
       "        vertical-align: middle;\n",
       "    }\n",
       "\n",
       "    .dataframe tbody tr th {\n",
       "        vertical-align: top;\n",
       "    }\n",
       "\n",
       "    .dataframe thead th {\n",
       "        text-align: right;\n",
       "    }\n",
       "</style>\n",
       "<table border=\"1\" class=\"dataframe\">\n",
       "  <thead>\n",
       "    <tr style=\"text-align: right;\">\n",
       "      <th></th>\n",
       "      <th>price</th>\n",
       "      <th>Per Capita Income</th>\n",
       "    </tr>\n",
       "    <tr>\n",
       "      <th>Neighborhood</th>\n",
       "      <th></th>\n",
       "      <th></th>\n",
       "    </tr>\n",
       "  </thead>\n",
       "  <tbody>\n",
       "    <tr>\n",
       "      <th>Allston-Brighton</th>\n",
       "      <td>114.162088</td>\n",
       "      <td>39423.919633</td>\n",
       "    </tr>\n",
       "    <tr>\n",
       "      <th>Back Bay</th>\n",
       "      <td>245.457045</td>\n",
       "      <td>110676.820559</td>\n",
       "    </tr>\n",
       "    <tr>\n",
       "      <th>Beacon Hill</th>\n",
       "      <td>212.080460</td>\n",
       "      <td>100005.286070</td>\n",
       "    </tr>\n",
       "    <tr>\n",
       "      <th>Charlestown</th>\n",
       "      <td>210.050633</td>\n",
       "      <td>75338.893917</td>\n",
       "    </tr>\n",
       "    <tr>\n",
       "      <th>Dorchester</th>\n",
       "      <td>97.451282</td>\n",
       "      <td>29767.207999</td>\n",
       "    </tr>\n",
       "  </tbody>\n",
       "</table>\n",
       "</div>"
      ],
      "text/plain": [
       "                       price  Per Capita Income\n",
       "Neighborhood                                   \n",
       "Allston-Brighton  114.162088       39423.919633\n",
       "Back Bay          245.457045      110676.820559\n",
       "Beacon Hill       212.080460      100005.286070\n",
       "Charlestown       210.050633       75338.893917\n",
       "Dorchester         97.451282       29767.207999"
      ]
     },
     "execution_count": 246,
     "metadata": {},
     "output_type": "execute_result"
    }
   ],
   "source": [
    "# Now, we'll join the 'average price' Series with the 'per_capita' DF.\n",
    "price_per_capita = pd.merge(average_price, per_capita, \n",
    "                            left_index= True, right_on = 'Neighborhood').drop(columns = 'Total Population')\n",
    "price_per_capita.head()"
   ]
  },
  {
   "cell_type": "code",
   "execution_count": 247,
   "id": "37e12bd5-11b7-4022-9286-5fa7d8e7fb43",
   "metadata": {},
   "outputs": [
    {
     "data": {
      "text/html": [
       "<div>\n",
       "<style scoped>\n",
       "    .dataframe tbody tr th:only-of-type {\n",
       "        vertical-align: middle;\n",
       "    }\n",
       "\n",
       "    .dataframe tbody tr th {\n",
       "        vertical-align: top;\n",
       "    }\n",
       "\n",
       "    .dataframe thead th {\n",
       "        text-align: right;\n",
       "    }\n",
       "</style>\n",
       "<table border=\"1\" class=\"dataframe\">\n",
       "  <thead>\n",
       "    <tr style=\"text-align: right;\">\n",
       "      <th></th>\n",
       "      <th>price</th>\n",
       "      <th>Per Capita Income</th>\n",
       "    </tr>\n",
       "    <tr>\n",
       "      <th>Neighborhood</th>\n",
       "      <th></th>\n",
       "      <th></th>\n",
       "    </tr>\n",
       "  </thead>\n",
       "  <tbody>\n",
       "    <tr>\n",
       "      <th>Allston-Brighton</th>\n",
       "      <td>0.243069</td>\n",
       "      <td>0.205646</td>\n",
       "    </tr>\n",
       "    <tr>\n",
       "      <th>Back Bay</th>\n",
       "      <td>1.000000</td>\n",
       "      <td>1.000000</td>\n",
       "    </tr>\n",
       "    <tr>\n",
       "      <th>Beacon Hill</th>\n",
       "      <td>0.807580</td>\n",
       "      <td>0.881030</td>\n",
       "    </tr>\n",
       "    <tr>\n",
       "      <th>Charlestown</th>\n",
       "      <td>0.795878</td>\n",
       "      <td>0.606039</td>\n",
       "    </tr>\n",
       "    <tr>\n",
       "      <th>Dorchester</th>\n",
       "      <td>0.146730</td>\n",
       "      <td>0.097989</td>\n",
       "    </tr>\n",
       "  </tbody>\n",
       "</table>\n",
       "</div>"
      ],
      "text/plain": [
       "                     price  Per Capita Income\n",
       "Neighborhood                                 \n",
       "Allston-Brighton  0.243069           0.205646\n",
       "Back Bay          1.000000           1.000000\n",
       "Beacon Hill       0.807580           0.881030\n",
       "Charlestown       0.795878           0.606039\n",
       "Dorchester        0.146730           0.097989"
      ]
     },
     "execution_count": 247,
     "metadata": {},
     "output_type": "execute_result"
    }
   ],
   "source": [
    "# Aiming higher accuracy in our analysis, we are going to normalize the columns' values using \n",
    "# the Min-Max Feature Scaling.\n",
    "def min_max(column):\n",
    "    return (column - column.min()) / (column.max() - column.min())\n",
    "\n",
    "price_per_capita = price_per_capita.apply(min_max)\n",
    "price_per_capita.head()"
   ]
  },
  {
   "cell_type": "code",
   "execution_count": 248,
   "id": "66570ae6-9003-48a5-a470-a1e20cd5112b",
   "metadata": {},
   "outputs": [
    {
     "data": {
      "text/plain": [
       "0.7419441871562023"
      ]
     },
     "execution_count": 248,
     "metadata": {},
     "output_type": "execute_result"
    }
   ],
   "source": [
    "# With everything set we are able to measure the correlation coefficient between the \n",
    "# 'price' and 'Per Capita Income' columns.\n",
    "from scipy.stats import pearsonr\n",
    "\n",
    "# And here is the value. \n",
    "pearsonr(price_per_capita['price'], price_per_capita['Per Capita Income'])[0]"
   ]
  },
  {
   "cell_type": "code",
   "execution_count": 278,
   "id": "5e942480-a2cc-4efc-8549-7a6e0fd59558",
   "metadata": {},
   "outputs": [
    {
     "data": {
      "image/png": "[encoded data removed]",
      "text/plain": [
       "<Figure size 1440x360 with 1 Axes>"
      ]
     },
     "metadata": {},
     "output_type": "display_data"
    }
   ],
   "source": [
    "# It is convenient to plot a line chart displaying the different values of 'price' and 'Per Capita Income' along\n",
    "# the DataFrame's rows.\n",
    "price_per_capita.plot(figsize = (20,5),xlabel = '',xticks = range(len(price_per_capita)))\n",
    "\n",
    "plt.gca().set_title('Prices x Per Capita Income (Normalized)', fontsize = 18 )\n",
    "x = plt.gca().xaxis\n",
    "for label in x.get_ticklabels():\n",
    "    label.set_rotation(45)"
   ]
  }
 ],
 "metadata": {
  "kernelspec": {
   "display_name": "Python 3",
   "language": "python",
   "name": "python3"
  },
  "language_info": {
   "codemirror_mode": {
    "name": "ipython",
    "version": 3
   },
   "file_extension": ".py",
   "mimetype": "text/x-python",
   "name": "python",
   "nbconvert_exporter": "python",
   "pygments_lexer": "ipython3",
   "version": "3.8.8"
  }
 },
 "nbformat": 4,
 "nbformat_minor": 5
}
